{
 "cells": [
  {
   "cell_type": "code",
   "execution_count": 1,
   "metadata": {
    "collapsed": true,
    "deletable": true,
    "editable": true
   },
   "outputs": [],
   "source": [
    "import cPickle as pickle\n",
    "import os\n",
    "import sys\n",
    "import tarfile\n",
    "import urllib\n",
    "from os.path import isfile, isdir\n",
    "from tqdm import tqdm\n",
    "import glob\n",
    "import csv\n",
    "\n",
    "import math\n",
    "import numpy as np\n",
    "import pandas as pd\n",
    "from scipy import misc\n",
    "import random\n",
    "\n",
    "from bs4 import BeautifulSoup\n",
    "import re\n",
    "import nltk\n",
    "from nltk.corpus import stopwords\n",
    "import nltk.data\n",
    "from gensim.models import word2vec\n",
    "\n",
    "from sklearn.model_selection import train_test_split\n",
    "\n",
    "import matplotlib.pyplot as plt\n",
    "%matplotlib inline"
   ]
  },
  {
   "cell_type": "code",
   "execution_count": 5,
   "metadata": {
    "collapsed": true,
    "deletable": true,
    "editable": true
   },
   "outputs": [],
   "source": [
    "SEED = 3"
   ]
  },
  {
   "cell_type": "markdown",
   "metadata": {
    "deletable": true,
    "editable": true
   },
   "source": [
    "# Load dataset"
   ]
  },
  {
   "cell_type": "code",
   "execution_count": 9,
   "metadata": {
    "collapsed": true,
    "deletable": true,
    "editable": true
   },
   "outputs": [],
   "source": [
    "data_root = 'data/'\n",
    "try:\n",
    "    os.mkdir(data_root)\n",
    "except OSError:\n",
    "    pass\n",
    "\n",
    "model_root = 'model/'\n",
    "try:\n",
    "    os.mkdir(data_root)\n",
    "except OSError:\n",
    "    pass"
   ]
  },
  {
   "cell_type": "code",
   "execution_count": 3,
   "metadata": {
    "collapsed": false,
    "deletable": true,
    "editable": true
   },
   "outputs": [],
   "source": [
    "with open(os.path.join(data_root,'train_x_w2v.pkl'), 'rb') as f:\n",
    "    train_x_w2v = pickle.load(f)"
   ]
  },
  {
   "cell_type": "code",
   "execution_count": 4,
   "metadata": {
    "collapsed": false,
    "deletable": true,
    "editable": true
   },
   "outputs": [
    {
     "name": "stdout",
     "output_type": "stream",
     "text": [
      "808700\n",
      "[u'something', u'should', u'be', u'done', u'about', u'this', u'as', u'it', u'is', u'a', u'must', u'see', u'film', u'not', u'to', u'mention', u'the', u'good', u'it', u'could', u'have', u'done', u'for', u'our', u'tourism', u'industry']\n"
     ]
    }
   ],
   "source": [
    "#testing\n",
    "print len(train_x_w2v)\n",
    "print train_x_w2v[1001]"
   ]
  },
  {
   "cell_type": "markdown",
   "metadata": {
    "deletable": true,
    "editable": true
   },
   "source": [
    "# Train and explore word2vec model1"
   ]
  },
  {
   "cell_type": "code",
   "execution_count": 24,
   "metadata": {
    "collapsed": true,
    "deletable": true,
    "editable": true
   },
   "outputs": [],
   "source": [
    "def train_w2v1():\n",
    "    num_features = 300    # Word vector dimensionality                      \n",
    "    min_word_count = 40   # Minimum word count                        \n",
    "    num_workers = 4       # Number of threads to run in parallel\n",
    "    context = 10          # Context window size                                                                                    \n",
    "    downsampling = 1e-3   # Downsample setting for frequent words\n",
    "\n",
    "    model = word2vec.Word2Vec(train_x_w2v, \n",
    "                              workers = num_workers,\n",
    "                              size = num_features, \n",
    "                              min_count = min_word_count,\n",
    "                              window = context, \n",
    "                              sample = downsampling,\n",
    "                              seed = SEED)\n",
    "    return model"
   ]
  },
  {
   "cell_type": "code",
   "execution_count": 25,
   "metadata": {
    "collapsed": false,
    "deletable": true,
    "editable": true
   },
   "outputs": [],
   "source": [
    "model_w2v1 = train_w2v1()"
   ]
  },
  {
   "cell_type": "code",
   "execution_count": 26,
   "metadata": {
    "collapsed": true,
    "deletable": true,
    "editable": true
   },
   "outputs": [],
   "source": [
    "model_path = os.path.join(model_root,'model_w2v1.pkl')\n",
    "\n",
    "if not isfile(model_path):\n",
    "    with open(model_path, 'wb') as f:\n",
    "        pickle.dump(model_w2v1, f)"
   ]
  },
  {
   "cell_type": "code",
   "execution_count": 33,
   "metadata": {
    "collapsed": false,
    "deletable": true,
    "editable": true
   },
   "outputs": [
    {
     "name": "stdout",
     "output_type": "stream",
     "text": [
      "16490\n"
     ]
    }
   ],
   "source": [
    "print len(model_w2v1.wv.index2word)"
   ]
  },
  {
   "cell_type": "code",
   "execution_count": 27,
   "metadata": {
    "collapsed": false,
    "deletable": true,
    "editable": true
   },
   "outputs": [
    {
     "data": {
      "text/plain": [
       "[(u'woman', 0.6248248219490051),\n",
       " (u'lady', 0.5977152585983276),\n",
       " (u'lad', 0.5547207593917847),\n",
       " (u'millionaire', 0.5305410027503967),\n",
       " (u'guy', 0.5232149958610535),\n",
       " (u'monk', 0.5214899778366089),\n",
       " (u'men', 0.52138751745224),\n",
       " (u'person', 0.5201945304870605),\n",
       " (u'soldier', 0.5190520882606506),\n",
       " (u'chap', 0.5061797499656677)]"
      ]
     },
     "execution_count": 27,
     "metadata": {},
     "output_type": "execute_result"
    }
   ],
   "source": [
    "model_w2v1.most_similar(\"man\")"
   ]
  },
  {
   "cell_type": "code",
   "execution_count": 28,
   "metadata": {
    "collapsed": false,
    "deletable": true,
    "editable": true
   },
   "outputs": [
    {
     "data": {
      "text/plain": [
       "[(u'lady', 0.6905761957168579),\n",
       " (u'prostitute', 0.676874041557312),\n",
       " (u'girl', 0.674848735332489),\n",
       " (u'widow', 0.6375435590744019),\n",
       " (u'nun', 0.6270597577095032),\n",
       " (u'man', 0.6248247623443604),\n",
       " (u'housewife', 0.592847466468811),\n",
       " (u'heiress', 0.5769104957580566),\n",
       " (u'waitress', 0.5751146078109741),\n",
       " (u'whore', 0.5649911165237427)]"
      ]
     },
     "execution_count": 28,
     "metadata": {},
     "output_type": "execute_result"
    }
   ],
   "source": [
    "model_w2v1.most_similar(\"woman\")"
   ]
  },
  {
   "cell_type": "code",
   "execution_count": 29,
   "metadata": {
    "collapsed": false,
    "deletable": true,
    "editable": true
   },
   "outputs": [
    {
     "data": {
      "text/plain": [
       "[(u'terrible', 0.7772277593612671),\n",
       " (u'atrocious', 0.7456122636795044),\n",
       " (u'horrible', 0.7306403517723083),\n",
       " (u'dreadful', 0.7120442986488342),\n",
       " (u'abysmal', 0.7037981748580933),\n",
       " (u'horrid', 0.687732458114624),\n",
       " (u'horrendous', 0.6795014142990112),\n",
       " (u'appalling', 0.6652437448501587),\n",
       " (u'amateurish', 0.6254571080207825),\n",
       " (u'laughable', 0.6153308153152466)]"
      ]
     },
     "execution_count": 29,
     "metadata": {},
     "output_type": "execute_result"
    }
   ],
   "source": [
    "model_w2v1.most_similar(\"awful\")"
   ]
  },
  {
   "cell_type": "markdown",
   "metadata": {
    "deletable": true,
    "editable": true
   },
   "source": [
    "# Train and explore word2vec model2"
   ]
  },
  {
   "cell_type": "code",
   "execution_count": 6,
   "metadata": {
    "collapsed": true,
    "deletable": true,
    "editable": true
   },
   "outputs": [],
   "source": [
    "def train_w2v2():\n",
    "    num_features = 600    # Word vector dimensionality                      \n",
    "    min_word_count = 40   # Minimum word count                        \n",
    "    num_workers = 4       # Number of threads to run in parallel\n",
    "    context = 10          # Context window size                                                                                    \n",
    "    downsampling = 1e-3   # Downsample setting for frequent words\n",
    "\n",
    "    model = word2vec.Word2Vec(train_x_w2v, \n",
    "                              workers = num_workers,\n",
    "                              size = num_features, \n",
    "                              min_count = min_word_count,\n",
    "                              window = context, \n",
    "                              sample = downsampling,\n",
    "                              seed = SEED)\n",
    "    return model"
   ]
  },
  {
   "cell_type": "code",
   "execution_count": 7,
   "metadata": {
    "collapsed": true,
    "deletable": true,
    "editable": true
   },
   "outputs": [],
   "source": [
    "model_w2v2 = train_w2v2()"
   ]
  },
  {
   "cell_type": "code",
   "execution_count": 10,
   "metadata": {
    "collapsed": false,
    "deletable": true,
    "editable": true
   },
   "outputs": [],
   "source": [
    "model_path = os.path.join(model_root,'model_w2v2.pkl')\n",
    "\n",
    "if not isfile(model_path):\n",
    "    with open(model_path, 'wb') as f:\n",
    "        pickle.dump(model_w2v2, f)"
   ]
  },
  {
   "cell_type": "code",
   "execution_count": 13,
   "metadata": {
    "collapsed": false,
    "deletable": true,
    "editable": true
   },
   "outputs": [
    {
     "name": "stdout",
     "output_type": "stream",
     "text": [
      "16490\n"
     ]
    }
   ],
   "source": [
    "print len(model_w2v2.wv.index2word)"
   ]
  },
  {
   "cell_type": "code",
   "execution_count": 22,
   "metadata": {
    "collapsed": false,
    "deletable": true,
    "editable": true
   },
   "outputs": [
    {
     "data": {
      "text/plain": [
       "[(u'woman', 0.6183376312255859),\n",
       " (u'lady', 0.6040821671485901),\n",
       " (u'lad', 0.5557723045349121),\n",
       " (u'farmer', 0.524786651134491),\n",
       " (u'soldier', 0.5216670036315918),\n",
       " (u'guy', 0.514202892780304),\n",
       " (u'millionaire', 0.5115393400192261),\n",
       " (u'person', 0.5098527669906616),\n",
       " (u'men', 0.5051754713058472),\n",
       " (u'businessman', 0.5040754079818726)]"
      ]
     },
     "execution_count": 22,
     "metadata": {},
     "output_type": "execute_result"
    }
   ],
   "source": [
    "model_w2v2.most_similar(\"man\")"
   ]
  },
  {
   "cell_type": "code",
   "execution_count": 23,
   "metadata": {
    "collapsed": false,
    "deletable": true,
    "editable": true
   },
   "outputs": [
    {
     "data": {
      "text/plain": [
       "[(u'lady', 0.6834504008293152),\n",
       " (u'prostitute', 0.6771471500396729),\n",
       " (u'girl', 0.6627585291862488),\n",
       " (u'widow', 0.6605029106140137),\n",
       " (u'man', 0.6183376312255859),\n",
       " (u'nun', 0.6017443537712097),\n",
       " (u'waitress', 0.5932685136795044),\n",
       " (u'housewife', 0.5884047746658325),\n",
       " (u'whore', 0.5780031681060791),\n",
       " (u'nurse', 0.5773943662643433)]"
      ]
     },
     "execution_count": 23,
     "metadata": {},
     "output_type": "execute_result"
    }
   ],
   "source": [
    "model_w2v2.most_similar(\"woman\")"
   ]
  },
  {
   "cell_type": "code",
   "execution_count": 11,
   "metadata": {
    "collapsed": false,
    "deletable": true,
    "editable": true
   },
   "outputs": [
    {
     "data": {
      "text/plain": [
       "[(u'terrible', 0.7653821706771851),\n",
       " (u'atrocious', 0.7270001173019409),\n",
       " (u'abysmal', 0.7128437757492065),\n",
       " (u'horrible', 0.7084749937057495),\n",
       " (u'dreadful', 0.7037884593009949),\n",
       " (u'horrendous', 0.6744968295097351),\n",
       " (u'horrid', 0.6570312976837158),\n",
       " (u'appalling', 0.6473177075386047),\n",
       " (u'lousy', 0.6323243379592896),\n",
       " (u'amateurish', 0.6225792169570923)]"
      ]
     },
     "execution_count": 11,
     "metadata": {},
     "output_type": "execute_result"
    }
   ],
   "source": [
    "model_w2v2.most_similar(\"awful\")"
   ]
  },
  {
   "cell_type": "markdown",
   "metadata": {
    "deletable": true,
    "editable": true
   },
   "source": [
    "# Train and explore word2vec model3"
   ]
  },
  {
   "cell_type": "code",
   "execution_count": 14,
   "metadata": {
    "collapsed": true,
    "deletable": true,
    "editable": true
   },
   "outputs": [],
   "source": [
    "def train_w2v3():\n",
    "    num_features = 300    # Word vector dimensionality                      \n",
    "    min_word_count = 40   # Minimum word count                        \n",
    "    num_workers = 4       # Number of threads to run in parallel\n",
    "    context = 10          # Context window size                                                                                    \n",
    "    downsampling = 1e-5   # Downsample setting for frequent words\n",
    "\n",
    "    model = word2vec.Word2Vec(train_x_w2v, \n",
    "                              workers=num_workers,\n",
    "                              size=num_features, \n",
    "                              min_count = min_word_count,\n",
    "                              window = context, \n",
    "                              sample = downsampling,\n",
    "                              seed = SEED)\n",
    "    return model"
   ]
  },
  {
   "cell_type": "code",
   "execution_count": 15,
   "metadata": {
    "collapsed": true,
    "deletable": true,
    "editable": true
   },
   "outputs": [],
   "source": [
    "model_w2v3 = train_w2v3()"
   ]
  },
  {
   "cell_type": "code",
   "execution_count": 16,
   "metadata": {
    "collapsed": true,
    "deletable": true,
    "editable": true
   },
   "outputs": [],
   "source": [
    "model_path = os.path.join(model_root,'model_w2v3.pkl')\n",
    "\n",
    "if not isfile(model_path):\n",
    "    with open(model_path, 'wb') as f:\n",
    "        pickle.dump(model_w2v3, f)"
   ]
  },
  {
   "cell_type": "code",
   "execution_count": 17,
   "metadata": {
    "collapsed": false,
    "deletable": true,
    "editable": true
   },
   "outputs": [
    {
     "name": "stdout",
     "output_type": "stream",
     "text": [
      "16490\n"
     ]
    }
   ],
   "source": [
    "print len(model_w2v3.wv.index2word)"
   ]
  },
  {
   "cell_type": "code",
   "execution_count": 18,
   "metadata": {
    "collapsed": false,
    "deletable": true,
    "editable": true
   },
   "outputs": [
    {
     "data": {
      "text/plain": [
       "[(u'terrible', 0.9600377082824707),\n",
       " (u'alright', 0.9567333459854126),\n",
       " (u'horrible', 0.9562368392944336),\n",
       " (u'horrid', 0.9512249827384949),\n",
       " (u'abysmal', 0.9423476457595825),\n",
       " (u'ok', 0.9409952163696289),\n",
       " (u'lousy', 0.9353755712509155),\n",
       " (u'expected', 0.9288095831871033),\n",
       " (u'sucks', 0.9253652095794678),\n",
       " (u'worse', 0.9225075244903564)]"
      ]
     },
     "execution_count": 18,
     "metadata": {},
     "output_type": "execute_result"
    }
   ],
   "source": [
    "model_w2v3.most_similar(\"awful\")"
   ]
  },
  {
   "cell_type": "code",
   "execution_count": 19,
   "metadata": {
    "collapsed": false,
    "deletable": true,
    "editable": true
   },
   "outputs": [
    {
     "data": {
      "text/plain": [
       "[(u'sucks', 0.9747377634048462),\n",
       " (u'horrible', 0.9698833227157593),\n",
       " (u'worse', 0.9693022966384888),\n",
       " (u'darn', 0.9692809581756592),\n",
       " (u'ok', 0.9674944877624512),\n",
       " (u'horrid', 0.9612395763397217),\n",
       " (u'stinks', 0.9589479565620422),\n",
       " (u'awful', 0.9567333459854126),\n",
       " (u'okay', 0.9544602036476135),\n",
       " (u'mess', 0.9532283544540405)]"
      ]
     },
     "execution_count": 19,
     "metadata": {},
     "output_type": "execute_result"
    }
   ],
   "source": [
    "model_w2v3.most_similar(\"alright\")"
   ]
  },
  {
   "cell_type": "code",
   "execution_count": 20,
   "metadata": {
    "collapsed": false,
    "deletable": true,
    "editable": true
   },
   "outputs": [
    {
     "data": {
      "text/plain": [
       "[(u'doctor', 0.9495570063591003),\n",
       " (u'patient', 0.9429340362548828),\n",
       " (u'himself', 0.9423059821128845),\n",
       " (u'priest', 0.94161057472229),\n",
       " (u'meets', 0.9388492107391357),\n",
       " (u'prostitute', 0.9387885332107544),\n",
       " (u'determined', 0.9367220401763916),\n",
       " (u'convinces', 0.93588787317276),\n",
       " (u'policeman', 0.9348610639572144),\n",
       " (u'blames', 0.9339728951454163)]"
      ]
     },
     "execution_count": 20,
     "metadata": {},
     "output_type": "execute_result"
    }
   ],
   "source": [
    "model_w2v3.most_similar(\"man\")"
   ]
  },
  {
   "cell_type": "code",
   "execution_count": 21,
   "metadata": {
    "collapsed": false,
    "deletable": true,
    "editable": true
   },
   "outputs": [
    {
     "data": {
      "text/plain": [
       "[(u'herself', 0.9797608852386475),\n",
       " (u'lonely', 0.9628087878227234),\n",
       " (u'mother', 0.9594742059707642),\n",
       " (u'abusive', 0.9552136063575745),\n",
       " (u'daughter', 0.9513610601425171),\n",
       " (u'husband', 0.9502469301223755),\n",
       " (u'abused', 0.9495465755462646),\n",
       " (u'finds', 0.947529137134552),\n",
       " (u'blind', 0.9458128213882446),\n",
       " (u'father', 0.9452913999557495)]"
      ]
     },
     "execution_count": 21,
     "metadata": {},
     "output_type": "execute_result"
    }
   ],
   "source": [
    "model_w2v3.most_similar(\"woman\")"
   ]
  },
  {
   "cell_type": "markdown",
   "metadata": {
    "deletable": true,
    "editable": true
   },
   "source": [
    "# Train and explore word2vec model 4"
   ]
  },
  {
   "cell_type": "code",
   "execution_count": 31,
   "metadata": {
    "collapsed": true,
    "deletable": true,
    "editable": true
   },
   "outputs": [],
   "source": [
    "def train_w2v4():\n",
    "    num_features = 100    # Word vector dimensionality                      \n",
    "    min_word_count = 40   # Minimum word count                        \n",
    "    num_workers = 4       # Number of threads to run in parallel\n",
    "    context = 5          # Context window size                                                                                    \n",
    "    downsampling = 1e-3   # Downsample setting for frequent words\n",
    "    negative_sampling=1\n",
    "    \n",
    "    model = word2vec.Word2Vec(train_x_w2v, \n",
    "                              negative=negative_sampling,\n",
    "                              workers=num_workers,\n",
    "                              size=num_features, \n",
    "                              min_count = min_word_count,\n",
    "                              window = context, \n",
    "                              sample = downsampling,\n",
    "                              seed = SEED)\n",
    "    return model"
   ]
  },
  {
   "cell_type": "code",
   "execution_count": 32,
   "metadata": {
    "collapsed": true,
    "deletable": true,
    "editable": true
   },
   "outputs": [],
   "source": [
    "model_w2v4 = train_w2v4()"
   ]
  },
  {
   "cell_type": "code",
   "execution_count": 34,
   "metadata": {
    "collapsed": true,
    "deletable": true,
    "editable": true
   },
   "outputs": [],
   "source": [
    "model_path = os.path.join(model_root,'model_w2v4.pkl')\n",
    "\n",
    "if not isfile(model_path):\n",
    "    with open(model_path, 'wb') as f:\n",
    "        pickle.dump(model_w2v4, f)"
   ]
  },
  {
   "cell_type": "code",
   "execution_count": 38,
   "metadata": {
    "collapsed": false,
    "deletable": true,
    "editable": true
   },
   "outputs": [
    {
     "name": "stdout",
     "output_type": "stream",
     "text": [
      "16490\n"
     ]
    }
   ],
   "source": [
    "print len(model_w2v4.wv.index2word)"
   ]
  },
  {
   "cell_type": "code",
   "execution_count": 35,
   "metadata": {
    "collapsed": false,
    "deletable": true,
    "editable": true
   },
   "outputs": [
    {
     "data": {
      "text/plain": [
       "[(u'horrible', 0.815282940864563),\n",
       " (u'terrible', 0.8080891966819763),\n",
       " (u'dreadful', 0.7506495714187622),\n",
       " (u'atrocious', 0.7299242615699768),\n",
       " (u'abysmal', 0.7106142044067383),\n",
       " (u'horrendous', 0.6966500282287598),\n",
       " (u'appalling', 0.6843113899230957),\n",
       " (u'awesome', 0.674087643623352),\n",
       " (u'horrid', 0.6640075445175171),\n",
       " (u'laughable', 0.6600688695907593)]"
      ]
     },
     "execution_count": 35,
     "metadata": {},
     "output_type": "execute_result"
    }
   ],
   "source": [
    "model_w2v4.most_similar(\"awful\")"
   ]
  },
  {
   "cell_type": "code",
   "execution_count": 37,
   "metadata": {
    "collapsed": false,
    "deletable": true,
    "editable": true
   },
   "outputs": [
    {
     "data": {
      "text/plain": [
       "[(u'woman', 0.6991299390792847),\n",
       " (u'person', 0.6904463768005371),\n",
       " (u'guy', 0.6899217367172241),\n",
       " (u'boy', 0.6781793236732483),\n",
       " (u'men', 0.5987793207168579),\n",
       " (u'girl', 0.5699436664581299),\n",
       " (u'lady', 0.5672974586486816),\n",
       " (u'lad', 0.5545995235443115),\n",
       " (u'soldier', 0.5438764691352844),\n",
       " (u'sailor', 0.536298394203186)]"
      ]
     },
     "execution_count": 37,
     "metadata": {},
     "output_type": "execute_result"
    }
   ],
   "source": [
    "model_w2v4.most_similar(\"man\")"
   ]
  },
  {
   "cell_type": "code",
   "execution_count": null,
   "metadata": {
    "collapsed": true,
    "deletable": true,
    "editable": true
   },
   "outputs": [],
   "source": []
  }
 ],
 "metadata": {
  "kernelspec": {
   "display_name": "Python [Root]",
   "language": "python",
   "name": "Python [Root]"
  },
  "language_info": {
   "codemirror_mode": {
    "name": "ipython",
    "version": 2
   },
   "file_extension": ".py",
   "mimetype": "text/x-python",
   "name": "python",
   "nbconvert_exporter": "python",
   "pygments_lexer": "ipython2",
   "version": "2.7.12"
  }
 },
 "nbformat": 4,
 "nbformat_minor": 0
}
