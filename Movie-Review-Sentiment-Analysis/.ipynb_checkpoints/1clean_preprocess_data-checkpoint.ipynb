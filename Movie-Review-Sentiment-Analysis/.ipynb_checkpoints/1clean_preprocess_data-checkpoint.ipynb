{
 "cells": [
  {
   "cell_type": "code",
   "execution_count": 1,
   "metadata": {
    "collapsed": false,
    "deletable": true,
    "editable": true
   },
   "outputs": [],
   "source": [
    "import tarfile\n",
    "import urllib\n",
    "from os.path import isfile, isdir\n",
    "from tqdm import tqdm\n",
    "import os\n",
    "import cPickle as pickle\n",
    "import sys\n",
    "import csv\n",
    "import glob\n",
    "\n",
    "import math\n",
    "import random\n",
    "import numpy as np\n",
    "import pandas as pd\n",
    "from sklearn.model_selection import train_test_split\n",
    "from sklearn.utils import shuffle\n",
    "\n",
    "import matplotlib.pyplot as plt\n",
    "%matplotlib inline\n",
    "\n",
    "from bs4 import BeautifulSoup\n",
    "import re\n",
    "import nltk\n",
    "from nltk.corpus import stopwords\n",
    "import nltk.data"
   ]
  },
  {
   "cell_type": "markdown",
   "metadata": {
    "deletable": true,
    "editable": true
   },
   "source": [
    "#  Load data and create datasets"
   ]
  },
  {
   "cell_type": "code",
   "execution_count": 2,
   "metadata": {
    "collapsed": true,
    "deletable": true,
    "editable": true
   },
   "outputs": [],
   "source": [
    "RandomState = 3"
   ]
  },
  {
   "cell_type": "code",
   "execution_count": 3,
   "metadata": {
    "collapsed": false,
    "deletable": true,
    "editable": true
   },
   "outputs": [
    {
     "name": "stdout",
     "output_type": "stream",
     "text": [
      "Already download\n",
      "Already extracted\n"
     ]
    }
   ],
   "source": [
    "url = \"http://ai.stanford.edu/~amaas/data/sentiment/aclImdb_v1.tar.gz\"\n",
    "folder_path = \"aclImdb\"\n",
    "file_name = \"aclImdb_v1.tar.gz\"\n",
    "\n",
    "class DownloadProgress(tqdm):    \n",
    "    last_block = 0\n",
    "    def hook(self, block_num=1, block_size=1, total_size=None):\n",
    "        self.total = total_size\n",
    "        self.update((block_num - self.last_block) * block_size)\n",
    "        self.last_block = block_num\n",
    "\n",
    "if not isfile('aclImdb_v1.tar.gz'):\n",
    "    with DownloadProgress() as pbar:\n",
    "        urllib.urlretrieve(url, file_name, pbar.hook)\n",
    "    print \"Download completed\"\n",
    "else:\n",
    "    print \"Already download\"\n",
    "\n",
    "if not isdir(folder_path):\n",
    "    with tarfile.open(file_name) as tar:\n",
    "        tar.extractall()\n",
    "        tar.close()\n",
    "\tprint \"Extraction completed\"\n",
    "else:\n",
    "    print \"Already extracted\""
   ]
  },
  {
   "cell_type": "code",
   "execution_count": 4,
   "metadata": {
    "collapsed": false,
    "deletable": true,
    "editable": true
   },
   "outputs": [],
   "source": [
    "train_folder = 'aclImdb/train/'\n",
    "test_folder = 'aclImdb/test/'"
   ]
  },
  {
   "cell_type": "code",
   "execution_count": 5,
   "metadata": {
    "collapsed": false,
    "deletable": true,
    "editable": true
   },
   "outputs": [],
   "source": [
    "train_pos_names = glob.glob(os.path.join(train_folder+'pos', '*.txt'))\n",
    "train_neg_names = glob.glob(os.path.join(train_folder+'neg', '*.txt'))\n",
    "train_non_names = glob.glob(os.path.join(train_folder+'unsup', '*.txt'))\n",
    "fulltest_pos_names = glob.glob(os.path.join(test_folder+'pos', '*.txt'))\n",
    "fulltest_neg_names = glob.glob(os.path.join(test_folder+'neg', '*.txt'))\n"
   ]
  },
  {
   "cell_type": "code",
   "execution_count": 6,
   "metadata": {
    "collapsed": false,
    "deletable": true,
    "editable": true
   },
   "outputs": [],
   "source": [
    "validation_pos_names, test_pos_names = train_test_split(fulltest_pos_names, test_size = 0.5, random_state=RandomState)\n",
    "validation_neg_names, test_neg_names = train_test_split(fulltest_neg_names, test_size = 0.5, random_state=RandomState)"
   ]
  },
  {
   "cell_type": "code",
   "execution_count": 7,
   "metadata": {
    "collapsed": true,
    "deletable": true,
    "editable": true
   },
   "outputs": [],
   "source": [
    "data_root = 'data/'\n",
    "try:\n",
    "    os.mkdir(data_root)\n",
    "except OSError:\n",
    "    pass\n"
   ]
  },
  {
   "cell_type": "code",
   "execution_count": 8,
   "metadata": {
    "collapsed": false,
    "deletable": true,
    "editable": true
   },
   "outputs": [
    {
     "name": "stdout",
     "output_type": "stream",
     "text": [
      "train.csv created\n"
     ]
    }
   ],
   "source": [
    "train_csv = os.path.join(data_root,'train.csv')\n",
    "\n",
    "if not isfile(train_csv):\n",
    "    \n",
    "    with open(train_csv, 'w') as f:\n",
    "    \n",
    "        writer = csv.writer(f)\n",
    "        writer.writerow(['File_name','Review', 'Sentiment'])\n",
    "\n",
    "        for file_name in train_pos_names:\n",
    "            with open(file_name, 'r') as txt:\n",
    "                review = txt.read()        \n",
    "                writer.writerow([file_name, review, '1'])\n",
    "\n",
    "        for file_name in train_neg_names:\n",
    "            with open(file_name, 'r') as txt:\n",
    "                review = txt.read()        \n",
    "                writer.writerow([file_name, review, '0'])\n",
    "        \n",
    "        print \"train.csv created\"\n",
    "\n",
    "else:\n",
    "    print \"train.csv exists\""
   ]
  },
  {
   "cell_type": "code",
   "execution_count": 9,
   "metadata": {
    "collapsed": true,
    "deletable": true,
    "editable": true
   },
   "outputs": [],
   "source": [
    "train = pd.read_csv('data/train.csv')"
   ]
  },
  {
   "cell_type": "code",
   "execution_count": 12,
   "metadata": {
    "collapsed": false,
    "deletable": true,
    "editable": true
   },
   "outputs": [
    {
     "name": "stdout",
     "output_type": "stream",
     "text": [
      "word2vec.csv created\n"
     ]
    }
   ],
   "source": [
    "word2vec_csv = os.path.join(data_root,'word2vec.csv')\n",
    "\n",
    "if not isfile(word2vec_csv):\n",
    "    \n",
    "    with open(word2vec_csv, 'w') as f:\n",
    "    \n",
    "        writer = csv.writer(f)\n",
    "        writer.writerow(['File_name','Review', 'Sentiment'])\n",
    "    \n",
    "        for file_name in train_pos_names:\n",
    "            with open(file_name, 'r') as txt:\n",
    "                review = txt.read()        \n",
    "                writer.writerow([file_name, review])\n",
    "\n",
    "        for file_name in train_neg_names:\n",
    "            with open(file_name, 'r') as txt:\n",
    "                review = txt.read()        \n",
    "                writer.writerow([file_name, review])\n",
    "\n",
    "        for file_name in train_non_names:\n",
    "            with open(file_name, 'r') as txt:\n",
    "                review = txt.read()        \n",
    "                writer.writerow([file_name, review])\n",
    "        \n",
    "        print \"word2vec.csv created\"\n",
    "\n",
    "else:\n",
    "    print \"word2vec.csv exist\""
   ]
  },
  {
   "cell_type": "code",
   "execution_count": 13,
   "metadata": {
    "collapsed": false,
    "deletable": true,
    "editable": true
   },
   "outputs": [],
   "source": [
    "word2vec = pd.read_csv('data/word2vec.csv')\n"
   ]
  },
  {
   "cell_type": "code",
   "execution_count": 14,
   "metadata": {
    "collapsed": false,
    "deletable": true,
    "editable": true
   },
   "outputs": [
    {
     "name": "stdout",
     "output_type": "stream",
     "text": [
      "validation.csv created\n"
     ]
    }
   ],
   "source": [
    "validation_csv = os.path.join(data_root,'validation.csv')\n",
    "\n",
    "if not isfile(validation_csv):\n",
    "    \n",
    "    with open(validation_csv, 'w') as f:\n",
    "    \n",
    "        writer = csv.writer(f)\n",
    "        writer.writerow(['File_name','Review', 'Sentiment'])    \n",
    "   \n",
    "        for file_name in validation_pos_names:\n",
    "            with open(file_name, 'r') as txt:\n",
    "                review = txt.read()        \n",
    "                writer.writerow([file_name, review, '1'])\n",
    "\n",
    "        for file_name in validation_neg_names:\n",
    "            with open(file_name, 'r') as txt:\n",
    "                review = txt.read()        \n",
    "                writer.writerow([file_name, review, '0'])\n",
    "        \n",
    "        print \"validation.csv created\"\n",
    "\n",
    "else:\n",
    "    print \"validation.csv exist\""
   ]
  },
  {
   "cell_type": "code",
   "execution_count": 15,
   "metadata": {
    "collapsed": false,
    "deletable": true,
    "editable": true
   },
   "outputs": [],
   "source": [
    "validation = pd.read_csv('data/validation.csv')"
   ]
  },
  {
   "cell_type": "code",
   "execution_count": 16,
   "metadata": {
    "collapsed": false,
    "deletable": true,
    "editable": true
   },
   "outputs": [
    {
     "name": "stdout",
     "output_type": "stream",
     "text": [
      "test.csv created\n"
     ]
    }
   ],
   "source": [
    "test_csv = os.path.join(data_root,'test.csv')\n",
    "\n",
    "if not isfile(test_csv):\n",
    "    \n",
    "    with open(test_csv, 'w') as f:\n",
    "    \n",
    "        writer = csv.writer(f)\n",
    "        writer.writerow(['File_name','Review', 'Sentiment'])\n",
    "    \n",
    "        for file_name in test_pos_names:\n",
    "            with open(file_name, 'r') as txt:\n",
    "                review = txt.read()        \n",
    "                writer.writerow([file_name, review, '1'])\n",
    "\n",
    "        for file_name in test_neg_names:\n",
    "            with open(file_name, 'r') as txt:\n",
    "                review = txt.read()        \n",
    "                writer.writerow([file_name, review, '0'])\n",
    "                \n",
    "        print \"test.csv created\"\n",
    "\n",
    "else:\n",
    "    print \"test.csv exist\""
   ]
  },
  {
   "cell_type": "code",
   "execution_count": 17,
   "metadata": {
    "collapsed": false,
    "deletable": true,
    "editable": true
   },
   "outputs": [],
   "source": [
    "test = pd.read_csv('data/test.csv')"
   ]
  },
  {
   "cell_type": "code",
   "execution_count": 18,
   "metadata": {
    "collapsed": false,
    "deletable": true,
    "editable": true
   },
   "outputs": [
    {
     "name": "stdout",
     "output_type": "stream",
     "text": [
      "(25000, 3)\n",
      "(75000, 3)\n",
      "(12500, 3)\n",
      "(12500, 3)\n"
     ]
    }
   ],
   "source": [
    "print train.shape\n",
    "print word2vec.shape\n",
    "print validation.shape\n",
    "print test.shape"
   ]
  },
  {
   "cell_type": "markdown",
   "metadata": {
    "deletable": true,
    "editable": true
   },
   "source": [
    "# Helper functions and testing"
   ]
  },
  {
   "cell_type": "code",
   "execution_count": 19,
   "metadata": {
    "collapsed": false,
    "deletable": true,
    "editable": true
   },
   "outputs": [
    {
     "name": "stdout",
     "output_type": "stream",
     "text": [
      "1\n",
      "Steve Carell plays Dan Burns, newspaper agony uncle and dedicated single father to three girls. At a large family homecoming Dan meets his perfect woman, only to find out that she is in a relationship with his brother.<br /><br />What's a man to do?<br /><br />I rather liked \"Dan In Real Life\", but I would imagine the success or otherwise of this flick is going to be down to whether you are willing to accept Steve Carell playing a part relatively straight and restrained, rather than going through the broad comedy moves that have made him so successful. If you cannot accept it, fear not, \"Get Smart\" will be along later in the year, but for the record I thought he was very good.<br /><br />\"Dan In Real Life\" starts off like your typical, incidentally amusing, family drama, but it gets funnier and funnier as it goes along and Carell's frustration with his situation grows. It's not massively original (but if you only saw movies with original ideas, cinematic pickings would be very scarce indeed, wouldn't they?), but \"Dan In Real Life\" is entertaining, and a good cast (who wouldn't fall in love at first sight with the luminous Juliette Binoche?) make the most of an insightful enough script that contains many a ponder on the meaning and passion of love.<br /><br />I hope that Steve Carell pushes himself and does something as interesting again.\n"
     ]
    }
   ],
   "source": [
    "# testing case\n",
    "review = train['Review'][10000]\n",
    "label = train['Sentiment'][10000]\n",
    "print label\n",
    "print review"
   ]
  },
  {
   "cell_type": "code",
   "execution_count": 20,
   "metadata": {
    "collapsed": true,
    "deletable": true,
    "editable": true
   },
   "outputs": [],
   "source": [
    "def remove_html(text):\n",
    "    \"\"\"remove html tags\"\"\"\n",
    "    return BeautifulSoup(text).get_text()"
   ]
  },
  {
   "cell_type": "code",
   "execution_count": 21,
   "metadata": {
    "collapsed": false,
    "deletable": true,
    "editable": true
   },
   "outputs": [
    {
     "name": "stdout",
     "output_type": "stream",
     "text": [
      "Steve Carell plays Dan Burns, newspaper agony uncle and dedicated single father to three girls. At a large family homecoming Dan meets his perfect woman, only to find out that she is in a relationship with his brother.What's a man to do?I rather liked \"Dan In Real Life\", but I would imagine the success or otherwise of this flick is going to be down to whether you are willing to accept Steve Carell playing a part relatively straight and restrained, rather than going through the broad comedy moves that have made him so successful. If you cannot accept it, fear not, \"Get Smart\" will be along later in the year, but for the record I thought he was very good.\"Dan In Real Life\" starts off like your typical, incidentally amusing, family drama, but it gets funnier and funnier as it goes along and Carell's frustration with his situation grows. It's not massively original (but if you only saw movies with original ideas, cinematic pickings would be very scarce indeed, wouldn't they?), but \"Dan In Real Life\" is entertaining, and a good cast (who wouldn't fall in love at first sight with the luminous Juliette Binoche?) make the most of an insightful enough script that contains many a ponder on the meaning and passion of love.I hope that Steve Carell pushes himself and does something as interesting again.\n"
     ]
    },
    {
     "name": "stderr",
     "output_type": "stream",
     "text": [
      "/home/jupyter/.local/lib/python2.7/site-packages/bs4/__init__.py:181: UserWarning: No parser was explicitly specified, so I'm using the best available HTML parser for this system (\"lxml\"). This usually isn't a problem, but if you run this code on another system, or in a different virtual environment, it may use a different parser and behave differently.\n",
      "\n",
      "The code that caused this warning is on line 174 of the file /usr/lib/python2.7/runpy.py. To get rid of this warning, change code that looks like this:\n",
      "\n",
      " BeautifulSoup([your markup])\n",
      "\n",
      "to this:\n",
      "\n",
      " BeautifulSoup([your markup], \"lxml\")\n",
      "\n",
      "  markup_type=markup_type))\n"
     ]
    }
   ],
   "source": [
    "review_no_html = remove_html(review)\n",
    "print review_no_html"
   ]
  },
  {
   "cell_type": "code",
   "execution_count": 22,
   "metadata": {
    "collapsed": true,
    "deletable": true,
    "editable": true
   },
   "outputs": [],
   "source": [
    "def remove_non_letters(text):\n",
    "    \"\"\"remove non-letters\"\"\"\n",
    "    return re.sub('[^a-zA-Z]', \" \", text)"
   ]
  },
  {
   "cell_type": "code",
   "execution_count": 23,
   "metadata": {
    "collapsed": false,
    "deletable": true,
    "editable": true
   },
   "outputs": [
    {
     "name": "stdout",
     "output_type": "stream",
     "text": [
      "Steve Carell plays Dan Burns  newspaper agony uncle and dedicated single father to three girls  At a large family homecoming Dan meets his perfect woman  only to find out that she is in a relationship with his brother What s a man to do I rather liked  Dan In Real Life   but I would imagine the success or otherwise of this flick is going to be down to whether you are willing to accept Steve Carell playing a part relatively straight and restrained  rather than going through the broad comedy moves that have made him so successful  If you cannot accept it  fear not   Get Smart  will be along later in the year  but for the record I thought he was very good  Dan In Real Life  starts off like your typical  incidentally amusing  family drama  but it gets funnier and funnier as it goes along and Carell s frustration with his situation grows  It s not massively original  but if you only saw movies with original ideas  cinematic pickings would be very scarce indeed  wouldn t they    but  Dan In Real Life  is entertaining  and a good cast  who wouldn t fall in love at first sight with the luminous Juliette Binoche   make the most of an insightful enough script that contains many a ponder on the meaning and passion of love I hope that Steve Carell pushes himself and does something as interesting again \n"
     ]
    }
   ],
   "source": [
    "review_letter_only = remove_non_letters(review_no_html)\n",
    "print review_letter_only"
   ]
  },
  {
   "cell_type": "code",
   "execution_count": 24,
   "metadata": {
    "collapsed": true,
    "deletable": true,
    "editable": true
   },
   "outputs": [],
   "source": [
    "def remove_stop_word(text):\n",
    "    \"\"\"remove stop words\"\"\"\n",
    "    words = text.lower().split()\n",
    "    stops = set(stopwords.words(\"english\"))\n",
    "    return [word for word in words if not word in stops]"
   ]
  },
  {
   "cell_type": "code",
   "execution_count": 25,
   "metadata": {
    "collapsed": false,
    "deletable": true,
    "editable": true
   },
   "outputs": [
    {
     "name": "stdout",
     "output_type": "stream",
     "text": [
      "[u'steve', u'carell', u'plays', u'dan', u'burns', u'newspaper', u'agony', u'uncle', u'dedicated', u'single', u'father', u'three', u'girls', u'large', u'family', u'homecoming', u'dan', u'meets', u'perfect', u'woman', u'find', u'relationship', u'brother', u'man', u'rather', u'liked', u'dan', u'real', u'life', u'would', u'imagine', u'success', u'otherwise', u'flick', u'going', u'whether', u'willing', u'accept', u'steve', u'carell', u'playing', u'part', u'relatively', u'straight', u'restrained', u'rather', u'going', u'broad', u'comedy', u'moves', u'made', u'successful', u'cannot', u'accept', u'fear', u'get', u'smart', u'along', u'later', u'year', u'record', u'thought', u'good', u'dan', u'real', u'life', u'starts', u'like', u'typical', u'incidentally', u'amusing', u'family', u'drama', u'gets', u'funnier', u'funnier', u'goes', u'along', u'carell', u'frustration', u'situation', u'grows', u'massively', u'original', u'saw', u'movies', u'original', u'ideas', u'cinematic', u'pickings', u'would', u'scarce', u'indeed', u'dan', u'real', u'life', u'entertaining', u'good', u'cast', u'fall', u'love', u'first', u'sight', u'luminous', u'juliette', u'binoche', u'make', u'insightful', u'enough', u'script', u'contains', u'many', u'ponder', u'meaning', u'passion', u'love', u'hope', u'steve', u'carell', u'pushes', u'something', u'interesting']\n"
     ]
    }
   ],
   "source": [
    "review_meaning = remove_stop_word(review_letter_only)\n",
    "print review_meaning"
   ]
  },
  {
   "cell_type": "code",
   "execution_count": 26,
   "metadata": {
    "collapsed": false,
    "deletable": true,
    "editable": true
   },
   "outputs": [],
   "source": [
    "def text_to_word(text, remove_stopword = True):\n",
    "    \"\"\"clean and convert text to a list of words\"\"\"\n",
    "    text = remove_html(text)\n",
    "    text = remove_non_letters(text)\n",
    "    if remove_stopword == True:\n",
    "        text = remove_stop_word(text)    \n",
    "        return text\n",
    "    else:\n",
    "        return text.lower().split()"
   ]
  },
  {
   "cell_type": "code",
   "execution_count": 27,
   "metadata": {
    "collapsed": false,
    "deletable": true,
    "editable": true
   },
   "outputs": [
    {
     "name": "stdout",
     "output_type": "stream",
     "text": [
      "[u'steve', u'carell', u'plays', u'dan', u'burns', u'newspaper', u'agony', u'uncle', u'dedicated', u'single', u'father', u'three', u'girls', u'large', u'family', u'homecoming', u'dan', u'meets', u'perfect', u'woman', u'find', u'relationship', u'brother', u'man', u'rather', u'liked', u'dan', u'real', u'life', u'would', u'imagine', u'success', u'otherwise', u'flick', u'going', u'whether', u'willing', u'accept', u'steve', u'carell', u'playing', u'part', u'relatively', u'straight', u'restrained', u'rather', u'going', u'broad', u'comedy', u'moves', u'made', u'successful', u'cannot', u'accept', u'fear', u'get', u'smart', u'along', u'later', u'year', u'record', u'thought', u'good', u'dan', u'real', u'life', u'starts', u'like', u'typical', u'incidentally', u'amusing', u'family', u'drama', u'gets', u'funnier', u'funnier', u'goes', u'along', u'carell', u'frustration', u'situation', u'grows', u'massively', u'original', u'saw', u'movies', u'original', u'ideas', u'cinematic', u'pickings', u'would', u'scarce', u'indeed', u'dan', u'real', u'life', u'entertaining', u'good', u'cast', u'fall', u'love', u'first', u'sight', u'luminous', u'juliette', u'binoche', u'make', u'insightful', u'enough', u'script', u'contains', u'many', u'ponder', u'meaning', u'passion', u'love', u'hope', u'steve', u'carell', u'pushes', u'something', u'interesting']\n"
     ]
    }
   ],
   "source": [
    "review_cleaned = text_to_word(review)\n",
    "print review_cleaned"
   ]
  },
  {
   "cell_type": "code",
   "execution_count": 28,
   "metadata": {
    "collapsed": false,
    "deletable": true,
    "editable": true
   },
   "outputs": [
    {
     "name": "stdout",
     "output_type": "stream",
     "text": [
      "[u'steve', u'carell', u'plays', u'dan', u'burns', u'newspaper', u'agony', u'uncle', u'and', u'dedicated', u'single', u'father', u'to', u'three', u'girls', u'at', u'a', u'large', u'family', u'homecoming', u'dan', u'meets', u'his', u'perfect', u'woman', u'only', u'to', u'find', u'out', u'that', u'she', u'is', u'in', u'a', u'relationship', u'with', u'his', u'brother', u'what', u's', u'a', u'man', u'to', u'do', u'i', u'rather', u'liked', u'dan', u'in', u'real', u'life', u'but', u'i', u'would', u'imagine', u'the', u'success', u'or', u'otherwise', u'of', u'this', u'flick', u'is', u'going', u'to', u'be', u'down', u'to', u'whether', u'you', u'are', u'willing', u'to', u'accept', u'steve', u'carell', u'playing', u'a', u'part', u'relatively', u'straight', u'and', u'restrained', u'rather', u'than', u'going', u'through', u'the', u'broad', u'comedy', u'moves', u'that', u'have', u'made', u'him', u'so', u'successful', u'if', u'you', u'cannot', u'accept', u'it', u'fear', u'not', u'get', u'smart', u'will', u'be', u'along', u'later', u'in', u'the', u'year', u'but', u'for', u'the', u'record', u'i', u'thought', u'he', u'was', u'very', u'good', u'dan', u'in', u'real', u'life', u'starts', u'off', u'like', u'your', u'typical', u'incidentally', u'amusing', u'family', u'drama', u'but', u'it', u'gets', u'funnier', u'and', u'funnier', u'as', u'it', u'goes', u'along', u'and', u'carell', u's', u'frustration', u'with', u'his', u'situation', u'grows', u'it', u's', u'not', u'massively', u'original', u'but', u'if', u'you', u'only', u'saw', u'movies', u'with', u'original', u'ideas', u'cinematic', u'pickings', u'would', u'be', u'very', u'scarce', u'indeed', u'wouldn', u't', u'they', u'but', u'dan', u'in', u'real', u'life', u'is', u'entertaining', u'and', u'a', u'good', u'cast', u'who', u'wouldn', u't', u'fall', u'in', u'love', u'at', u'first', u'sight', u'with', u'the', u'luminous', u'juliette', u'binoche', u'make', u'the', u'most', u'of', u'an', u'insightful', u'enough', u'script', u'that', u'contains', u'many', u'a', u'ponder', u'on', u'the', u'meaning', u'and', u'passion', u'of', u'love', u'i', u'hope', u'that', u'steve', u'carell', u'pushes', u'himself', u'and', u'does', u'something', u'as', u'interesting', u'again']\n"
     ]
    }
   ],
   "source": [
    "review_cleaned2 = text_to_word(review, False)\n",
    "print review_cleaned2"
   ]
  },
  {
   "cell_type": "code",
   "execution_count": 29,
   "metadata": {
    "collapsed": true,
    "deletable": true,
    "editable": true
   },
   "outputs": [],
   "source": [
    "def text_to_sentence(text, tokenizer=nltk.data.load('tokenizers/punkt/english.pickle')):\n",
    "    \"\"\"convert text to a list of sentences\"\"\"\n",
    "    \n",
    "    text = unicode(text, 'utf-8')\n",
    "    \n",
    "    raw_sentences = tokenizer.tokenize(text.strip())\n",
    "    sentences = []\n",
    "    \n",
    "    for raw_sentence in raw_sentences:\n",
    "        if len(raw_sentence) > 0:\n",
    "            sentences.append(raw_sentence)\n",
    "            \n",
    "    return sentences"
   ]
  },
  {
   "cell_type": "code",
   "execution_count": 30,
   "metadata": {
    "collapsed": false,
    "deletable": true,
    "editable": true
   },
   "outputs": [
    {
     "name": "stdout",
     "output_type": "stream",
     "text": [
      "[u'Steve Carell plays Dan Burns, newspaper agony uncle and dedicated single father to three girls.', u'At a large family homecoming Dan meets his perfect woman, only to find out that she is in a relationship with his brother.<br /><br />What\\'s a man to do?<br /><br />I rather liked \"Dan In Real Life\", but I would imagine the success or otherwise of this flick is going to be down to whether you are willing to accept Steve Carell playing a part relatively straight and restrained, rather than going through the broad comedy moves that have made him so successful.', u'If you cannot accept it, fear not, \"Get Smart\" will be along later in the year, but for the record I thought he was very good.<br /><br />\"Dan In Real Life\" starts off like your typical, incidentally amusing, family drama, but it gets funnier and funnier as it goes along and Carell\\'s frustration with his situation grows.', u\"It's not massively original (but if you only saw movies with original ideas, cinematic pickings would be very scarce indeed, wouldn't they?\", u'), but \"Dan In Real Life\" is entertaining, and a good cast (who wouldn\\'t fall in love at first sight with the luminous Juliette Binoche?)', u'make the most of an insightful enough script that contains many a ponder on the meaning and passion of love.<br /><br />I hope that Steve Carell pushes himself and does something as interesting again.']\n"
     ]
    }
   ],
   "source": [
    "sentences = text_to_sentence(review)\n",
    "print sentences"
   ]
  },
  {
   "cell_type": "markdown",
   "metadata": {
    "deletable": true,
    "editable": true
   },
   "source": [
    "# Creat dataset for bag of words model"
   ]
  },
  {
   "cell_type": "code",
   "execution_count": 32,
   "metadata": {
    "collapsed": true,
    "deletable": true,
    "editable": true
   },
   "outputs": [],
   "source": [
    "def text_bw(text):\n",
    "    \"\"\"return words separated by space\"\"\"\n",
    "    new_text = text_to_word(text)\n",
    "    return ( \" \".join(new_text))"
   ]
  },
  {
   "cell_type": "code",
   "execution_count": 34,
   "metadata": {
    "collapsed": false,
    "deletable": true,
    "editable": true
   },
   "outputs": [
    {
     "name": "stdout",
     "output_type": "stream",
     "text": [
      "steve carell plays dan burns newspaper agony uncle dedicated single father three girls large family homecoming dan meets perfect woman find relationship brother man rather liked dan real life would imagine success otherwise flick going whether willing accept steve carell playing part relatively straight restrained rather going broad comedy moves made successful cannot accept fear get smart along later year record thought good dan real life starts like typical incidentally amusing family drama gets funnier funnier goes along carell frustration situation grows massively original saw movies original ideas cinematic pickings would scarce indeed dan real life entertaining good cast fall love first sight luminous juliette binoche make insightful enough script contains many ponder meaning passion love hope steve carell pushes something interesting\n",
      "<type 'unicode'>\n"
     ]
    }
   ],
   "source": [
    "print text_bw(review)\n",
    "print type(text_bw(review))"
   ]
  },
  {
   "cell_type": "code",
   "execution_count": 35,
   "metadata": {
    "collapsed": true,
    "deletable": true,
    "editable": true
   },
   "outputs": [],
   "source": [
    "def dataset_bw(dataset):\n",
    "    \"return a list of features and a list of labels for training bag of words model\"\n",
    "    new_features = []\n",
    "    l = len(dataset)\n",
    "    labels = dataset['Sentiment']\n",
    "    \n",
    "    for idx, text in enumerate(dataset['Review']):        \n",
    "        if (idx+1)%1000 == 0:\n",
    "            print \"Review %d of %d\\n\" % ( idx+1, l ) \n",
    "        new_text = text_bw(text)\n",
    "        new_features.append(new_text)\n",
    "    return new_features, labels"
   ]
  },
  {
   "cell_type": "code",
   "execution_count": 36,
   "metadata": {
    "collapsed": false,
    "deletable": true,
    "editable": true
   },
   "outputs": [
    {
     "name": "stdout",
     "output_type": "stream",
     "text": [
      "Review 1000 of 25000\n",
      "\n",
      "Review 2000 of 25000\n",
      "\n",
      "Review 3000 of 25000\n",
      "\n",
      "Review 4000 of 25000\n",
      "\n",
      "Review 5000 of 25000\n",
      "\n",
      "Review 6000 of 25000\n",
      "\n",
      "Review 7000 of 25000\n",
      "\n",
      "Review 8000 of 25000\n",
      "\n",
      "Review 9000 of 25000\n",
      "\n",
      "Review 10000 of 25000\n",
      "\n",
      "Review 11000 of 25000\n",
      "\n",
      "Review 12000 of 25000\n",
      "\n",
      "Review 13000 of 25000\n",
      "\n",
      "Review 14000 of 25000\n",
      "\n",
      "Review 15000 of 25000\n",
      "\n",
      "Review 16000 of 25000\n",
      "\n",
      "Review 17000 of 25000\n",
      "\n",
      "Review 18000 of 25000\n",
      "\n",
      "Review 19000 of 25000\n",
      "\n",
      "Review 20000 of 25000\n",
      "\n",
      "Review 21000 of 25000\n",
      "\n",
      "Review 22000 of 25000\n",
      "\n",
      "Review 23000 of 25000\n",
      "\n",
      "Review 24000 of 25000\n",
      "\n",
      "Review 25000 of 25000\n",
      "\n"
     ]
    }
   ],
   "source": [
    "train_bw = dataset_bw(train)\n",
    "train_x_bw = train_bw[0]\n",
    "train_y_bw = train_bw[1]"
   ]
  },
  {
   "cell_type": "code",
   "execution_count": 74,
   "metadata": {
    "collapsed": false,
    "deletable": true,
    "editable": true
   },
   "outputs": [
    {
     "name": "stdout",
     "output_type": "stream",
     "text": [
      "Review 1000 of 12500\n",
      "\n",
      "Review 2000 of 12500\n",
      "\n",
      "Review 3000 of 12500\n",
      "\n",
      "Review 4000 of 12500\n",
      "\n",
      "Review 5000 of 12500\n",
      "\n",
      "Review 6000 of 12500\n",
      "\n",
      "Review 7000 of 12500\n",
      "\n",
      "Review 8000 of 12500\n",
      "\n",
      "Review 9000 of 12500\n",
      "\n",
      "Review 10000 of 12500\n",
      "\n",
      "Review 11000 of 12500\n",
      "\n",
      "Review 12000 of 12500\n",
      "\n"
     ]
    }
   ],
   "source": [
    "validation_bw = dataset_bw(validation)\n",
    "validation_x_bw = validation_bw[0]\n",
    "validation_y_bw = validation_bw[1]"
   ]
  },
  {
   "cell_type": "code",
   "execution_count": 75,
   "metadata": {
    "collapsed": false,
    "deletable": true,
    "editable": true
   },
   "outputs": [
    {
     "name": "stdout",
     "output_type": "stream",
     "text": [
      "Review 1000 of 12500\n",
      "\n",
      "Review 2000 of 12500\n",
      "\n",
      "Review 3000 of 12500\n",
      "\n",
      "Review 4000 of 12500\n",
      "\n",
      "Review 5000 of 12500\n",
      "\n",
      "Review 6000 of 12500\n",
      "\n",
      "Review 7000 of 12500\n",
      "\n",
      "Review 8000 of 12500\n",
      "\n",
      "Review 9000 of 12500\n",
      "\n",
      "Review 10000 of 12500\n",
      "\n",
      "Review 11000 of 12500\n",
      "\n",
      "Review 12000 of 12500\n",
      "\n"
     ]
    }
   ],
   "source": [
    "test_bw = dataset_bw(test)\n",
    "test_x_bw = test_bw[0]\n",
    "test_y_bw = test_bw[1]"
   ]
  },
  {
   "cell_type": "code",
   "execution_count": 76,
   "metadata": {
    "collapsed": false,
    "deletable": true,
    "editable": true
   },
   "outputs": [
    {
     "name": "stdout",
     "output_type": "stream",
     "text": [
      "25000\n",
      "12500\n",
      "12500\n",
      "arguably good sequel better first live action film dalmatians good dogs good actors good jokes right slapstick cruella devil rather major therapy lover dogs kind many including chloe simon owner one dogs cruella tried kill believe others like kevin shepherd owner nd chance dog shelter believe changed meanwhile dipstick mate given birth three cute dalmatian puppies little dipper domino oddball starring eric idle waddlesworth hilarious macaw glenn close cruella gerard depardieu le pelt another baddie name give clue good family film excitement lots one downfall film lot painful slapstick quite excessive last film also funnier last film enjoy dalmatians\n",
      "1\n"
     ]
    }
   ],
   "source": [
    "#testing\n",
    "print len(train_x_bw)\n",
    "print len(validation_x_bw)\n",
    "print len(test_x_bw)\n",
    "print train_x_bw[500]\n",
    "print train_y_bw[500]"
   ]
  },
  {
   "cell_type": "markdown",
   "metadata": {
    "deletable": true,
    "editable": true
   },
   "source": [
    "# Create dataset for w2v model"
   ]
  },
  {
   "cell_type": "code",
   "execution_count": 37,
   "metadata": {
    "collapsed": true,
    "deletable": true,
    "editable": true
   },
   "outputs": [],
   "source": [
    "def text_w2v(text):\n",
    "    \"\"\"\n",
    "    convert text to a list of sentences,\n",
    "    each sentence is a list of cleaned words\n",
    "    \"\"\"\n",
    "    \n",
    "    results = []\n",
    "    sentences = text_to_sentence(text)\n",
    "    \n",
    "    for sentence in sentences:\n",
    "        words = text_to_word(sentence, False)\n",
    "        results.append(words)\n",
    "        \n",
    "    return results"
   ]
  },
  {
   "cell_type": "code",
   "execution_count": 39,
   "metadata": {
    "collapsed": false,
    "deletable": true,
    "editable": true
   },
   "outputs": [
    {
     "name": "stdout",
     "output_type": "stream",
     "text": [
      "[[u'steve', u'carell', u'plays', u'dan', u'burns', u'newspaper', u'agony', u'uncle', u'and', u'dedicated', u'single', u'father', u'to', u'three', u'girls'], [u'at', u'a', u'large', u'family', u'homecoming', u'dan', u'meets', u'his', u'perfect', u'woman', u'only', u'to', u'find', u'out', u'that', u'she', u'is', u'in', u'a', u'relationship', u'with', u'his', u'brother', u'what', u's', u'a', u'man', u'to', u'do', u'i', u'rather', u'liked', u'dan', u'in', u'real', u'life', u'but', u'i', u'would', u'imagine', u'the', u'success', u'or', u'otherwise', u'of', u'this', u'flick', u'is', u'going', u'to', u'be', u'down', u'to', u'whether', u'you', u'are', u'willing', u'to', u'accept', u'steve', u'carell', u'playing', u'a', u'part', u'relatively', u'straight', u'and', u'restrained', u'rather', u'than', u'going', u'through', u'the', u'broad', u'comedy', u'moves', u'that', u'have', u'made', u'him', u'so', u'successful'], [u'if', u'you', u'cannot', u'accept', u'it', u'fear', u'not', u'get', u'smart', u'will', u'be', u'along', u'later', u'in', u'the', u'year', u'but', u'for', u'the', u'record', u'i', u'thought', u'he', u'was', u'very', u'good', u'dan', u'in', u'real', u'life', u'starts', u'off', u'like', u'your', u'typical', u'incidentally', u'amusing', u'family', u'drama', u'but', u'it', u'gets', u'funnier', u'and', u'funnier', u'as', u'it', u'goes', u'along', u'and', u'carell', u's', u'frustration', u'with', u'his', u'situation', u'grows'], [u'it', u's', u'not', u'massively', u'original', u'but', u'if', u'you', u'only', u'saw', u'movies', u'with', u'original', u'ideas', u'cinematic', u'pickings', u'would', u'be', u'very', u'scarce', u'indeed', u'wouldn', u't', u'they'], [u'but', u'dan', u'in', u'real', u'life', u'is', u'entertaining', u'and', u'a', u'good', u'cast', u'who', u'wouldn', u't', u'fall', u'in', u'love', u'at', u'first', u'sight', u'with', u'the', u'luminous', u'juliette', u'binoche'], [u'make', u'the', u'most', u'of', u'an', u'insightful', u'enough', u'script', u'that', u'contains', u'many', u'a', u'ponder', u'on', u'the', u'meaning', u'and', u'passion', u'of', u'love', u'i', u'hope', u'that', u'steve', u'carell', u'pushes', u'himself', u'and', u'does', u'something', u'as', u'interesting', u'again']]\n"
     ]
    }
   ],
   "source": [
    "print text_w2v(review)"
   ]
  },
  {
   "cell_type": "code",
   "execution_count": 40,
   "metadata": {
    "collapsed": true,
    "deletable": true,
    "editable": true
   },
   "outputs": [],
   "source": [
    "def dataset_w2v(dataset):\n",
    "    \"\"\"returns a list of sentences from all the data, used to train word2vec model\"\"\"\n",
    "    new_features = []\n",
    "    l = len(dataset)\n",
    "    for idx, text in enumerate(dataset['Review']):        \n",
    "        #print idx, data\n",
    "        if (idx+1)%1000 == 0:\n",
    "            print \"Review %d of %d\\n\" % ( idx+1, l )             \n",
    "        new_text = text_w2v(text)            \n",
    "        new_features += new_text\n",
    "\n",
    "    return new_features"
   ]
  },
  {
   "cell_type": "code",
   "execution_count": 41,
   "metadata": {
    "collapsed": false,
    "deletable": true,
    "editable": true
   },
   "outputs": [
    {
     "name": "stderr",
     "output_type": "stream",
     "text": [
      "/home/jupyter/.local/lib/python2.7/site-packages/bs4/__init__.py:219: UserWarning: \".\" looks like a filename, not markup. You shouldprobably open this file and pass the filehandle intoBeautiful Soup.\n",
      "  'Beautiful Soup.' % markup)\n",
      "/home/jupyter/.local/lib/python2.7/site-packages/bs4/__init__.py:282: UserWarning: \"http://www.happierabroad.com\" looks like a URL. Beautiful Soup is not an HTTP client. You should probably use an HTTP client like requests to get the document behind the URL, and feed that document to Beautiful Soup.\n",
      "  ' that document to Beautiful Soup.' % decoded_markup\n"
     ]
    },
    {
     "name": "stdout",
     "output_type": "stream",
     "text": [
      "Review 1000 of 75000\n",
      "\n",
      "Review 2000 of 75000\n",
      "\n",
      "Review 3000 of 75000\n",
      "\n",
      "Review 4000 of 75000\n",
      "\n",
      "Review 5000 of 75000\n",
      "\n",
      "Review 6000 of 75000\n",
      "\n",
      "Review 7000 of 75000\n",
      "\n",
      "Review 8000 of 75000\n",
      "\n",
      "Review 9000 of 75000\n",
      "\n",
      "Review 10000 of 75000\n",
      "\n",
      "Review 11000 of 75000\n",
      "\n",
      "Review 12000 of 75000\n",
      "\n",
      "Review 13000 of 75000\n",
      "\n",
      "Review 14000 of 75000\n",
      "\n",
      "Review 15000 of 75000\n",
      "\n",
      "Review 16000 of 75000\n",
      "\n",
      "Review 17000 of 75000\n",
      "\n",
      "Review 18000 of 75000\n",
      "\n",
      "Review 19000 of 75000\n",
      "\n",
      "Review 20000 of 75000\n",
      "\n",
      "Review 21000 of 75000\n",
      "\n",
      "Review 22000 of 75000\n",
      "\n",
      "Review 23000 of 75000\n",
      "\n",
      "Review 24000 of 75000\n",
      "\n",
      "Review 25000 of 75000\n",
      "\n",
      "Review 26000 of 75000\n",
      "\n"
     ]
    },
    {
     "name": "stderr",
     "output_type": "stream",
     "text": [
      "/home/jupyter/.local/lib/python2.7/site-packages/bs4/__init__.py:219: UserWarning: \"..\" looks like a filename, not markup. You shouldprobably open this file and pass the filehandle intoBeautiful Soup.\n",
      "  'Beautiful Soup.' % markup)\n"
     ]
    },
    {
     "name": "stdout",
     "output_type": "stream",
     "text": [
      "Review 27000 of 75000\n",
      "\n",
      "Review 28000 of 75000\n",
      "\n",
      "Review 29000 of 75000\n",
      "\n",
      "Review 30000 of 75000\n",
      "\n",
      "Review 31000 of 75000\n",
      "\n",
      "Review 32000 of 75000\n",
      "\n",
      "Review 33000 of 75000\n",
      "\n",
      "Review 34000 of 75000\n",
      "\n",
      "Review 35000 of 75000\n",
      "\n",
      "Review 36000 of 75000\n",
      "\n",
      "Review 37000 of 75000\n",
      "\n",
      "Review 38000 of 75000\n",
      "\n"
     ]
    },
    {
     "name": "stderr",
     "output_type": "stream",
     "text": [
      "/home/jupyter/.local/lib/python2.7/site-packages/bs4/__init__.py:282: UserWarning: \"http://jake-weird.blogspot.com/2007/08/beneath.html\" looks like a URL. Beautiful Soup is not an HTTP client. You should probably use an HTTP client like requests to get the document behind the URL, and feed that document to Beautiful Soup.\n",
      "  ' that document to Beautiful Soup.' % decoded_markup\n"
     ]
    },
    {
     "name": "stdout",
     "output_type": "stream",
     "text": [
      "Review 39000 of 75000\n",
      "\n",
      "Review 40000 of 75000\n",
      "\n",
      "Review 41000 of 75000\n",
      "\n",
      "Review 42000 of 75000\n",
      "\n",
      "Review 43000 of 75000\n",
      "\n",
      "Review 44000 of 75000\n",
      "\n",
      "Review 45000 of 75000\n",
      "\n",
      "Review 46000 of 75000\n",
      "\n",
      "Review 47000 of 75000\n",
      "\n",
      "Review 48000 of 75000\n",
      "\n",
      "Review 49000 of 75000\n",
      "\n",
      "Review 50000 of 75000\n",
      "\n",
      "Review 51000 of 75000\n",
      "\n",
      "Review 52000 of 75000\n",
      "\n",
      "Review 53000 of 75000\n",
      "\n"
     ]
    },
    {
     "name": "stderr",
     "output_type": "stream",
     "text": [
      "/home/jupyter/.local/lib/python2.7/site-packages/bs4/__init__.py:282: UserWarning: \"http://www.msnbc.msn.com/id/4972055/site/newsweek/\" looks like a URL. Beautiful Soup is not an HTTP client. You should probably use an HTTP client like requests to get the document behind the URL, and feed that document to Beautiful Soup.\n",
      "  ' that document to Beautiful Soup.' % decoded_markup\n"
     ]
    },
    {
     "name": "stdout",
     "output_type": "stream",
     "text": [
      "Review 54000 of 75000\n",
      "\n",
      "Review 55000 of 75000\n",
      "\n"
     ]
    },
    {
     "name": "stderr",
     "output_type": "stream",
     "text": [
      "/home/jupyter/.local/lib/python2.7/site-packages/bs4/__init__.py:282: UserWarning: \"http://www.archive.org/details/LovefromaStranger\" looks like a URL. Beautiful Soup is not an HTTP client. You should probably use an HTTP client like requests to get the document behind the URL, and feed that document to Beautiful Soup.\n",
      "  ' that document to Beautiful Soup.' % decoded_markup\n"
     ]
    },
    {
     "name": "stdout",
     "output_type": "stream",
     "text": [
      "Review 56000 of 75000\n",
      "\n",
      "Review 57000 of 75000\n",
      "\n",
      "Review 58000 of 75000\n",
      "\n",
      "Review 59000 of 75000\n",
      "\n",
      "Review 60000 of 75000\n",
      "\n",
      "Review 61000 of 75000\n",
      "\n"
     ]
    },
    {
     "name": "stderr",
     "output_type": "stream",
     "text": [
      "/home/jupyter/.local/lib/python2.7/site-packages/bs4/__init__.py:282: UserWarning: \"http://www.youtube.com/watch?v=a0KSqelmgN8\" looks like a URL. Beautiful Soup is not an HTTP client. You should probably use an HTTP client like requests to get the document behind the URL, and feed that document to Beautiful Soup.\n",
      "  ' that document to Beautiful Soup.' % decoded_markup\n"
     ]
    },
    {
     "name": "stdout",
     "output_type": "stream",
     "text": [
      "Review 62000 of 75000\n",
      "\n",
      "Review 63000 of 75000\n",
      "\n"
     ]
    },
    {
     "name": "stderr",
     "output_type": "stream",
     "text": [
      "/home/jupyter/.local/lib/python2.7/site-packages/bs4/__init__.py:282: UserWarning: \"http://www.loosechangeguide.com/LooseChangeGuide.html\" looks like a URL. Beautiful Soup is not an HTTP client. You should probably use an HTTP client like requests to get the document behind the URL, and feed that document to Beautiful Soup.\n",
      "  ' that document to Beautiful Soup.' % decoded_markup\n"
     ]
    },
    {
     "name": "stdout",
     "output_type": "stream",
     "text": [
      "Review 64000 of 75000\n",
      "\n",
      "Review 65000 of 75000\n",
      "\n",
      "Review 66000 of 75000\n",
      "\n",
      "Review 67000 of 75000\n",
      "\n",
      "Review 68000 of 75000\n",
      "\n",
      "Review 69000 of 75000\n",
      "\n",
      "Review 70000 of 75000\n",
      "\n",
      "Review 71000 of 75000\n",
      "\n",
      "Review 72000 of 75000\n",
      "\n",
      "Review 73000 of 75000\n",
      "\n",
      "Review 74000 of 75000\n",
      "\n",
      "Review 75000 of 75000\n",
      "\n"
     ]
    }
   ],
   "source": [
    "train_x_w2v = dataset_w2v(word2vec)"
   ]
  },
  {
   "cell_type": "code",
   "execution_count": 42,
   "metadata": {
    "collapsed": false,
    "deletable": true,
    "editable": true
   },
   "outputs": [
    {
     "name": "stdout",
     "output_type": "stream",
     "text": [
      "808703\n",
      "[u'beginning', u'what', u'would', u'be', u'a', u'long', u'career', u'of', u'oscar', u'nominations', u'and', u'wins', u'for', u'john', u'ford', u'the', u'informer', u'won', u'four', u'oscars', u'including', u'one', u'for', u'him', u'for', u'best', u'director', u'in']\n"
     ]
    }
   ],
   "source": [
    "#testing\n",
    "print len(train_x_w2v)\n",
    "print train_x_w2v[1000]"
   ]
  },
  {
   "cell_type": "markdown",
   "metadata": {
    "collapsed": false,
    "deletable": true,
    "editable": true
   },
   "source": [
    "# Create datasets for classification models"
   ]
  },
  {
   "cell_type": "code",
   "execution_count": 64,
   "metadata": {
    "collapsed": true,
    "deletable": true,
    "editable": true
   },
   "outputs": [],
   "source": [
    "def dataset_clean(dataset):\n",
    "    \"\"\"convert a raw review into a list of cleaned word for all the reviews in the dataset\"\"\"\n",
    "    new_features = []\n",
    "    l = len(dataset)\n",
    "    labels = dataset['Sentiment']\n",
    "    \n",
    "    for idx, text in enumerate(dataset['Review']):        \n",
    "        if (idx+1)%1000 == 0:\n",
    "            print \"Review %d of %d\\n\" % ( idx+1, l ) \n",
    "        new_text = text_to_word(text)\n",
    "        new_features.append(new_text)\n",
    "        \n",
    "    return new_features, labels"
   ]
  },
  {
   "cell_type": "code",
   "execution_count": 66,
   "metadata": {
    "collapsed": false,
    "deletable": true,
    "editable": true
   },
   "outputs": [
    {
     "name": "stdout",
     "output_type": "stream",
     "text": [
      "Review 1000 of 25000\n",
      "\n",
      "Review 2000 of 25000\n",
      "\n",
      "Review 3000 of 25000\n",
      "\n",
      "Review 4000 of 25000\n",
      "\n",
      "Review 5000 of 25000\n",
      "\n",
      "Review 6000 of 25000\n",
      "\n",
      "Review 7000 of 25000\n",
      "\n",
      "Review 8000 of 25000\n",
      "\n",
      "Review 9000 of 25000\n",
      "\n",
      "Review 10000 of 25000\n",
      "\n",
      "Review 11000 of 25000\n",
      "\n",
      "Review 12000 of 25000\n",
      "\n",
      "Review 13000 of 25000\n",
      "\n",
      "Review 14000 of 25000\n",
      "\n",
      "Review 15000 of 25000\n",
      "\n",
      "Review 16000 of 25000\n",
      "\n",
      "Review 17000 of 25000\n",
      "\n",
      "Review 18000 of 25000\n",
      "\n",
      "Review 19000 of 25000\n",
      "\n",
      "Review 20000 of 25000\n",
      "\n",
      "Review 21000 of 25000\n",
      "\n",
      "Review 22000 of 25000\n",
      "\n",
      "Review 23000 of 25000\n",
      "\n",
      "Review 24000 of 25000\n",
      "\n",
      "Review 25000 of 25000\n",
      "\n"
     ]
    }
   ],
   "source": [
    "train_clean = dataset_clean(train)\n",
    "train_x_clean = train_clean[0]\n",
    "train_y_clean = train_clean[1]"
   ]
  },
  {
   "cell_type": "code",
   "execution_count": 67,
   "metadata": {
    "collapsed": false,
    "deletable": true,
    "editable": true
   },
   "outputs": [
    {
     "name": "stdout",
     "output_type": "stream",
     "text": [
      "Review 1000 of 12500\n",
      "\n",
      "Review 2000 of 12500\n",
      "\n",
      "Review 3000 of 12500\n",
      "\n",
      "Review 4000 of 12500\n",
      "\n",
      "Review 5000 of 12500\n",
      "\n",
      "Review 6000 of 12500\n",
      "\n",
      "Review 7000 of 12500\n",
      "\n",
      "Review 8000 of 12500\n",
      "\n",
      "Review 9000 of 12500\n",
      "\n",
      "Review 10000 of 12500\n",
      "\n",
      "Review 11000 of 12500\n",
      "\n",
      "Review 12000 of 12500\n",
      "\n"
     ]
    }
   ],
   "source": [
    "validation_clean = dataset_clean(validation)\n",
    "validation_x_clean = validation_clean[0]\n",
    "validation_y_clean = validation_clean[1]"
   ]
  },
  {
   "cell_type": "code",
   "execution_count": 68,
   "metadata": {
    "collapsed": false,
    "deletable": true,
    "editable": true
   },
   "outputs": [
    {
     "name": "stdout",
     "output_type": "stream",
     "text": [
      "Review 1000 of 12500\n",
      "\n",
      "Review 2000 of 12500\n",
      "\n",
      "Review 3000 of 12500\n",
      "\n",
      "Review 4000 of 12500\n",
      "\n",
      "Review 5000 of 12500\n",
      "\n",
      "Review 6000 of 12500\n",
      "\n",
      "Review 7000 of 12500\n",
      "\n",
      "Review 8000 of 12500\n",
      "\n",
      "Review 9000 of 12500\n",
      "\n",
      "Review 10000 of 12500\n",
      "\n",
      "Review 11000 of 12500\n",
      "\n",
      "Review 12000 of 12500\n",
      "\n"
     ]
    }
   ],
   "source": [
    "test_clean = dataset_clean(test)\n",
    "test_x_clean = test_clean[0]\n",
    "test_y_clean = test_clean[1]"
   ]
  },
  {
   "cell_type": "code",
   "execution_count": 70,
   "metadata": {
    "collapsed": false,
    "deletable": true,
    "editable": true
   },
   "outputs": [
    {
     "name": "stdout",
     "output_type": "stream",
     "text": [
      "25000\n",
      "12500\n",
      "12500\n",
      "[u'smith', u'one', u'best', u'actors', u'time', u'know', u'read', u'books', u'constantly', u'movie', u'smith', u'watch', u'rare', u'gift', u'pulling', u'movie', u'holding', u'movie', u'one', u'best', u'movies', u'seen', u'yet', u'watched', u'saturday', u'still', u'cannot', u'get', u'head', u'amazing', u'sad', u'time', u'thanks', u'must', u'watch', u'movie', u'beginning', u'end', u'understand', u'every', u'part', u'movie', u'cannot', u'miss', u'thing', u'make', u'sure', u'plenty', u'kleenex', u'man', u'woman', u'sitting', u'next', u'cuddle', u'well', u'worth', u'money', u'pay', u'watch', u'wait', u'come', u'tv']\n",
      "[u'okay', u'enjoy', u'silent', u'comedy', u'short', u'must', u'suspend', u'disbelief', u'concerning', u'major', u'starting', u'point', u'film', u'probably', u'likely', u'score', u'film', u'lot', u'lower', u'charlie', u'chase', u'huge', u'overbite', u'wife', u'nose', u'large', u'enough', u'area', u'code', u'unknown', u'saving', u'surgery', u'correct', u'defects', u'apparently', u'plastic', u'dental', u'surgery', u'better', u'back', u'neither', u'seemed', u'need', u'recuperate', u'major', u'surgeries', u'looked', u'dandy', u'right', u'away', u'okay', u'remember', u'said', u'ignore', u'right', u'okay', u'well', u'also', u'ignore', u'difficult', u'believe', u'idea', u'could', u'meet', u'idea', u'spouse', u'okay', u'allowed', u'accept', u'two', u'silly', u'premises', u'film', u'gets', u'really', u'really', u'good', u'charlie', u'makes', u'pass', u'makes', u'pass', u'shocked', u'thrilled', u'one', u'ever', u'really', u'considered', u'attractive', u'new', u'vanity', u'agree', u'go', u'date', u'sneak', u'back', u'home', u'wanting', u'spouses', u'know', u'anyway', u'meet', u'later', u'quite', u'attracted', u'poor', u'spouses', u'supposedly', u'home', u'well', u'learn', u'married', u'anticipate', u'marriages', u'result', u'divorce', u'really', u'want', u'late', u'film', u'charlie', u'figures', u'woman', u'really', u'wife', u'goes', u'funny', u'sequence', u'plays', u'boyfriend', u'old', u'husband', u'changing', u'clothes', u'putting', u'false', u'teeth', u'plays', u'hubby', u'really', u'laugh', u'riot', u'see', u'bouncing', u'room', u'appears', u'fighting', u'another', u'person', u'really', u'see', u'believe', u'however', u'wife', u'sees', u'ad', u'charlie', u'photos', u'knows', u'happening', u'end', u'feel', u'pretty', u'foolish']\n",
      "[u'strange', u'least', u'known', u'movies', u'sometimes', u'end', u'amongst', u'best', u'seen', u'movie', u'elements', u'standard', u'modern', u'day', u'thriller', u'guns', u'techno', u'baddies', u'cash', u'etc', u'yet', u'stands', u'average', u'hollywood', u'also', u'ran', u'would', u'credit', u'two', u'charismatic', u'people', u'christopher', u'walken', u'cool', u'confidence', u'lorraine', u'bracco', u'one', u'warmest', u'sexiest', u'women', u'ever', u'seen', u'screen', u'another', u'major', u'reason', u'film', u'stands', u'coz', u'setting', u'shifts', u'jamaica', u'beginning', u'jamaican', u'resort', u'beautiful', u'wish', u'sitting', u'pool', u'night', u'run', u'n', u'coke', u'know', u'glad', u'saw', u'movie', u'nice', u'miss']\n"
     ]
    }
   ],
   "source": [
    "# testing\n",
    "print len(train_x_clean)\n",
    "print len(validation_x_clean)\n",
    "print len(test_x_clean)\n",
    "print train_x_clean[1000]\n",
    "print validation_x_clean[1000]\n",
    "print test_x_clean[1000]"
   ]
  },
  {
   "cell_type": "markdown",
   "metadata": {
    "deletable": true,
    "editable": true
   },
   "source": [
    "# Shuffle and save the datasets"
   ]
  },
  {
   "cell_type": "code",
   "execution_count": 71,
   "metadata": {
    "collapsed": true,
    "deletable": true,
    "editable": true
   },
   "outputs": [],
   "source": [
    "train_x_bw, train_y_bw = shuffle(train_x_bw, train_y_bw, random_state=RandomState)\n",
    "train_x_w2v = shuffle(train_x_w2v, random_state=RandomState)\n",
    "train_x_clean, train_y_clean = shuffle(train_x_clean, train_y_clean, random_state=RandomState)\n",
    "validation_x_clean, validation_y_clean = shuffle(validation_x_clean, validation_y_clean, random_state=RandomState)\n",
    "test_x_clean, test_y_clean = shuffle(test_x_clean, test_y_clean, random_state=RandomState)"
   ]
  },
  {
   "cell_type": "code",
   "execution_count": 79,
   "metadata": {
    "collapsed": false,
    "deletable": true,
    "editable": true
   },
   "outputs": [],
   "source": [
    "files = {'train_x_bw': train_x_bw,\n",
    "         'train_y_bw': train_y_bw,\n",
    "         'validation_x_bw': validation_x_bw,\n",
    "         'validation_y_bw': validation_y_bw,\n",
    "         'test_x_bw': test_x_bw,\n",
    "         'test_y_bw': test_y_bw,\n",
    "         'train_x_w2v': train_x_w2v,\n",
    "         'train_x_clean': train_x_clean,\n",
    "         'train_y_clean': train_y_clean,\n",
    "         'validation_x_clean': validation_x_clean,\n",
    "         'validation_y_clean': validation_y_clean,\n",
    "         'test_x_clean': test_x_clean,\n",
    "         'test_y_clean': test_y_clean}\n",
    "\n",
    "for filename, afile in files.items():\n",
    "    \n",
    "    file_path = os.path.join(data_root,filename+'.pkl')\n",
    "    \n",
    "    if not isfile(file_path):    \n",
    "        with open(file_path, 'wb') as f:\n",
    "            pickle.dump(afile, f)"
   ]
  }
 ],
 "metadata": {
  "kernelspec": {
   "display_name": "Python [Root]",
   "language": "python",
   "name": "Python [Root]"
  },
  "language_info": {
   "codemirror_mode": {
    "name": "ipython",
    "version": 2
   },
   "file_extension": ".py",
   "mimetype": "text/x-python",
   "name": "python",
   "nbconvert_exporter": "python",
   "pygments_lexer": "ipython2",
   "version": "2.7.12"
  }
 },
 "nbformat": 4,
 "nbformat_minor": 0
}
