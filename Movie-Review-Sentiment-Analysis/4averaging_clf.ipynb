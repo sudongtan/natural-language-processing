{
 "cells": [
  {
   "cell_type": "code",
   "execution_count": 1,
   "metadata": {
    "collapsed": true,
    "deletable": true,
    "editable": true
   },
   "outputs": [],
   "source": [
    "import pickle\n",
    "import os\n",
    "import tarfile\n",
    "import urllib\n",
    "import urllib2\n",
    "from os.path import isfile, isdir\n",
    "from tqdm import tqdm\n",
    "\n",
    "import os\n",
    "#import cv2\n",
    "import h5py\n",
    "import math\n",
    "import numpy as np\n",
    "from PIL import Image\n",
    "from scipy import misc\n",
    "import random as rand\n",
    "from operator import add\n",
    "import cPickle as pickle\n",
    "import matplotlib.image as mpimg\n",
    "import matplotlib.pyplot as plt\n",
    "import matplotlib.patches\n",
    "import tarfile\n",
    "import urllib\n",
    "from IPython.display import display, Image\n",
    "from scipy import ndimage\n",
    "import cPickle as pickle\n",
    "import scipy.io as sio\n",
    "from six.moves.urllib.request import urlretrieve\n",
    "from six.moves import cPickle as pickle\n",
    "import sys\n",
    "import pandas as pd\n",
    "%matplotlib inline\n",
    "from sklearn.model_selection import train_test_split\n",
    "import glob\n",
    "import csv\n",
    "\n",
    "from bs4 import BeautifulSoup\n",
    "import re\n",
    "\n",
    "import nltk\n",
    "from nltk.corpus import stopwords\n",
    "import nltk.data\n",
    "\n",
    "from gensim.models import word2vec"
   ]
  },
  {
   "cell_type": "markdown",
   "metadata": {
    "deletable": true,
    "editable": true
   },
   "source": [
    "# Load model and data"
   ]
  },
  {
   "cell_type": "code",
   "execution_count": 2,
   "metadata": {
    "collapsed": true,
    "deletable": true,
    "editable": true
   },
   "outputs": [],
   "source": [
    "data_root = 'data/'\n",
    "try:\n",
    "    os.mkdir(data_root)\n",
    "except OSError:\n",
    "    pass\n",
    "\n",
    "model_root = 'model/'\n",
    "try:\n",
    "    os.mkdir(model_root)\n",
    "except OSError:\n",
    "    pass"
   ]
  },
  {
   "cell_type": "code",
   "execution_count": 3,
   "metadata": {
    "collapsed": true,
    "deletable": true,
    "editable": true
   },
   "outputs": [],
   "source": [
    "with open(os.path.join(data_root,'train_x_clean.pkl'), 'rb') as f:\n",
    "    train_x_clean = pickle.load(f)\n",
    "    \n",
    "with open(os.path.join(data_root,'train_y_clean.pkl'), 'rb') as f:\n",
    "    train_y_clean = pickle.load(f)\n",
    "    \n",
    "with open(os.path.join(data_root,'validation_x_clean.pkl'), 'rb') as f:\n",
    "    validation_x_clean = pickle.load(f)\n",
    "    \n",
    "with open(os.path.join(data_root,'validation_y_clean.pkl'), 'rb') as f:\n",
    "    validation_y_clean = pickle.load(f)\n",
    "\n",
    "with open(os.path.join(data_root,'test_x_clean.pkl'), 'rb') as f:\n",
    "    test_x_clean = pickle.load(f)\n",
    "    \n",
    "with open(os.path.join(data_root,'test_y_clean.pkl'), 'rb') as f:\n",
    "    test_y_clean = pickle.load(f)"
   ]
  },
  {
   "cell_type": "code",
   "execution_count": 15,
   "metadata": {
    "collapsed": false,
    "deletable": true,
    "editable": true
   },
   "outputs": [],
   "source": [
    "with open(os.path.join(model_root, 'model_w2v1.pkl'), 'rb') as f:\n",
    "    model_w2v1 = pickle.load(f)\n",
    "\n",
    "with open(os.path.join(model_root, 'model_w2v2.pkl'), 'rb') as f:\n",
    "    model_w2v2 = pickle.load(f)\n",
    "\n",
    "with open(os.path.join(model_root, 'model_w2v3.pkl'), 'rb') as f:\n",
    "    model_w2v3 = pickle.load(f)\n",
    "\n",
    "with open(os.path.join(model_root, 'model_w2v4.pkl'), 'rb') as f:\n",
    "    model_w2v4 = pickle.load(f)"
   ]
  },
  {
   "cell_type": "code",
   "execution_count": 7,
   "metadata": {
    "collapsed": false,
    "deletable": true,
    "editable": true
   },
   "outputs": [
    {
     "data": {
      "text/plain": [
       "[(u'terrible', 0.7557451725006104),\n",
       " (u'atrocious', 0.7374610900878906),\n",
       " (u'dreadful', 0.732129693031311),\n",
       " (u'horrible', 0.7258363366127014),\n",
       " (u'abysmal', 0.7127856016159058),\n",
       " (u'horrendous', 0.664879560470581),\n",
       " (u'appalling', 0.6576082110404968),\n",
       " (u'lousy', 0.6411954164505005),\n",
       " (u'amateurish', 0.6183844804763794),\n",
       " (u'horrid', 0.6154941320419312)]"
      ]
     },
     "execution_count": 7,
     "metadata": {},
     "output_type": "execute_result"
    }
   ],
   "source": [
    "#testing\n",
    "model_w2v1.most_similar(\"awful\")"
   ]
  },
  {
   "cell_type": "code",
   "execution_count": 8,
   "metadata": {
    "collapsed": false,
    "deletable": true,
    "editable": true
   },
   "outputs": [
    {
     "data": {
      "text/plain": [
       "16490"
      ]
     },
     "execution_count": 8,
     "metadata": {},
     "output_type": "execute_result"
    }
   ],
   "source": [
    "len(model_w2v1.wv.index2word)"
   ]
  },
  {
   "cell_type": "markdown",
   "metadata": {
    "deletable": true,
    "editable": true
   },
   "source": [
    "# Averaging the words in the review"
   ]
  },
  {
   "cell_type": "code",
   "execution_count": 14,
   "metadata": {
    "collapsed": true,
    "deletable": true,
    "editable": true
   },
   "outputs": [],
   "source": [
    "num_features1 = 300"
   ]
  },
  {
   "cell_type": "code",
   "execution_count": 9,
   "metadata": {
    "collapsed": false,
    "deletable": true,
    "editable": true
   },
   "outputs": [
    {
     "name": "stdout",
     "output_type": "stream",
     "text": [
      "[u'first', u'half', u'version', u'best', u'seen', u'think', u'seen', u'every', u'version', u'jane', u'eyre', u'ever', u'made', u'development', u'jane', u'childhood', u'character', u'exceptional', u'though', u'someone', u'said', u'uh', u'oh', u'running', u'long', u'hacked', u'rest', u'story', u'shreds', u'major', u'scenes', u'included', u'glossed', u'combined', u'put', u'order', u'way', u'completely', u'change', u'storyline', u'little', u'transition', u'even', u'scene', u'development', u'would', u'difficult', u'anyone', u'familiar', u'story', u'even', u'follow', u'big', u'disappointment', u'beginning', u'opened', u'much', u'hope', u'end', u'dashed']\n"
     ]
    }
   ],
   "source": [
    "#testing case\n",
    "review_cleaned = train_x_clean[1000]\n",
    "print review_cleaned"
   ]
  },
  {
   "cell_type": "code",
   "execution_count": 5,
   "metadata": {
    "collapsed": false,
    "deletable": true,
    "editable": true
   },
   "outputs": [],
   "source": [
    "def review_average(words, model, num_features):\n",
    "    \"\"\"\"\"\"\n",
    "    \n",
    "    featureVec = np.zeros((num_features,),dtype=\"float32\")\n",
    "    vocabulary = set(model.wv.index2word)\n",
    "    number_of_words = 0\n",
    "    \n",
    "    for idx, word in enumerate(words):\n",
    "        #print word\n",
    "        if word in vocabulary:\n",
    "            number_of_words += 1\n",
    "            featureVec = np.add(featureVec, model[word])\n",
    "            \n",
    "    if number_of_words != 0:    \n",
    "        return np.divide(featureVec,number_of_words)\n",
    "    else:\n",
    "        return featureVec"
   ]
  },
  {
   "cell_type": "code",
   "execution_count": 27,
   "metadata": {
    "collapsed": false,
    "deletable": true,
    "editable": true
   },
   "outputs": [
    {
     "name": "stdout",
     "output_type": "stream",
     "text": [
      "(300,)\n",
      "[-0.32485157  0.15975218  0.71066684  0.1311163   0.56365752  0.12271948\n",
      "  0.06935742 -0.10353193 -0.40285987 -0.00250576  0.35182038 -0.21860968\n",
      "  0.40353233 -0.18843099  0.06319015 -0.00174407 -0.2742798  -0.04080088\n",
      " -0.17614974 -0.1298345   0.36167276 -0.26331189  0.16672044  0.11894622\n",
      " -0.09420048  0.49859056 -0.17302056  0.03466947  0.09091568 -0.09192493\n",
      "  0.23952366 -0.20294222  0.26644468 -0.67126548  0.13869768 -0.00264744\n",
      "  0.12139206  0.2349679   0.20816085  0.03638868  0.53511643  0.15586545\n",
      "  0.07965149  0.55755979 -0.3297694  -0.29596037 -0.05610412 -0.03870651\n",
      " -0.16199851 -0.2199301  -0.05139443 -0.03169621  0.38437524  0.38536841\n",
      "  0.18398978  0.12839681  0.00760228  0.28749058  0.18202116 -0.18075319\n",
      " -0.23738824 -0.32781109 -0.86737877  0.11596496 -0.5699228  -0.25697047\n",
      "  0.03668885 -0.15477724  0.02013704  0.02843265 -0.09299009 -0.10662208\n",
      " -0.23372228  0.19216651  0.04211576  0.28296244  0.28956273  0.02974446\n",
      " -0.01731472 -0.2605896   0.00574272  0.19412622 -0.5666157  -0.00177256\n",
      " -0.15417737  0.20777358  0.16950348 -0.3601402  -0.04548909  0.0886636\n",
      "  0.02835975 -0.30288282 -0.0483564  -0.48449999  0.19319898 -0.0997485\n",
      " -0.40040267 -0.06071299 -0.41385719  0.1381721   0.32742071  0.0597834\n",
      " -0.07522699 -0.56164229  0.0049639   0.05630131  0.38425499  0.50464171\n",
      "  0.47915283 -0.08013756 -0.04199291 -0.28854495 -0.26903346  0.02821676\n",
      " -0.52389151  0.30714276  0.24476855  0.22469513 -0.13261129  0.23193239\n",
      " -0.24833867 -0.17184147 -0.47073188 -0.06577457  0.37523159  0.12257501\n",
      " -0.10790882  0.05972413 -0.18835825 -0.0237972   0.39255792 -0.22537811\n",
      " -0.05821935 -0.10271497  0.22551551  0.40768439  0.39023751 -0.13665731\n",
      "  0.0237944  -0.2818107   0.22376312  0.37585229 -0.31839743  0.24360278\n",
      " -0.07221571  0.23106256  0.05159126 -0.40773591 -0.3412523  -0.2893309\n",
      " -0.24543422  0.23148321  0.21167348 -0.5702098  -0.15406135  0.16361888\n",
      " -0.4849796   0.30288887 -0.02053489 -0.31192523 -0.10083605 -0.20176145\n",
      "  0.44018123  0.15120493 -0.11039374  0.18946914 -0.27741623 -0.09029505\n",
      " -0.32962412 -0.22039729  0.38514927  0.07050958  0.04488821  0.12477648\n",
      "  0.14374636 -0.36870077 -0.03382041  0.75561422 -0.2076263   0.04031772\n",
      "  0.10723461 -0.29756325  0.35628262  0.38150892 -0.63837457  0.45005506\n",
      "  0.35246447  0.2672205   0.0473503   0.17851372  0.33493891 -0.09927165\n",
      " -0.22303464  0.35213503  0.08480728  0.28997856 -0.19214323 -0.00848184\n",
      " -0.31716272  0.3563686  -0.19102292  0.08590775 -0.40256116 -0.65268654\n",
      "  0.23111717  0.17054076 -0.00138086 -0.27386129  0.39191583 -0.07889695\n",
      " -0.36958879  0.21950606  0.20433015 -0.41152394  0.2695621   0.09258284\n",
      " -0.16425098 -0.1657012   0.40750572 -0.35306746  0.37314418 -0.20784333\n",
      " -0.12161015 -0.04571649 -0.4989695   0.2967886  -0.01537891  0.06369675\n",
      "  0.20933191 -0.17241059  0.2940971   0.2574096  -0.22878133 -0.23467766\n",
      "  0.09500653 -0.51401383 -0.15127674  0.050797   -0.13473135 -0.25027183\n",
      " -0.4689554   0.13606666  0.25344867  0.1158497  -0.11793572 -0.78202873\n",
      "  0.50831622  0.24518248 -0.36727449  0.27045891 -0.59339672 -0.45475882\n",
      " -0.11170899  0.22992407  0.62934399  0.16914466 -0.4355599  -0.10758781\n",
      "  0.00373634  0.23605791 -0.36711639 -0.31971675  0.31806457  0.17128541\n",
      " -0.0098071  -0.47743332  0.08635513 -0.05837072 -0.00362591 -0.18389718\n",
      " -0.0272234   0.2032266  -0.1492407   0.27660391  0.01028869  0.35144016\n",
      " -0.12664124  0.13383552 -0.01758928  0.25930223  0.38400576 -0.04023933\n",
      "  0.04052853 -0.13605589  0.22438937  0.08599934 -0.48287311 -0.63047183\n",
      "  0.08843935  0.3624807  -0.18727542 -0.12069581  0.05298153 -0.72178364\n",
      " -0.23505473  0.52530992  0.68440646 -0.56865734  0.17295711 -0.46596164]\n"
     ]
    }
   ],
   "source": [
    "averaged_review = review_average(review_cleaned, model_w2v1, num_features1)\n",
    "print averaged_review.shape\n",
    "print averaged_review"
   ]
  },
  {
   "cell_type": "code",
   "execution_count": 6,
   "metadata": {
    "collapsed": true,
    "deletable": true,
    "editable": true
   },
   "outputs": [],
   "source": [
    "def dataset_average(dataset, model, num_features):\n",
    "    new_dataset = []\n",
    "    for review in dataset:\n",
    "        review_averaged = review_average(review, model, num_features)\n",
    "        new_dataset.append(review_averaged)\n",
    "    return new_dataset"
   ]
  },
  {
   "cell_type": "code",
   "execution_count": 38,
   "metadata": {
    "collapsed": false,
    "deletable": true,
    "editable": true
   },
   "outputs": [
    {
     "name": "stdout",
     "output_type": "stream",
     "text": [
      "\n"
     ]
    }
   ],
   "source": [
    "train_x_average = dataset_average(train_x_clean, model_w2v1, 300)\n",
    "validation_x_average = dataset_average(validation_x_clean, model_w2v1, 300)\n",
    "test_x_average = dataset_average(test_x_clean, model_w2v1, 300)"
   ]
  },
  {
   "cell_type": "code",
   "execution_count": 35,
   "metadata": {
    "collapsed": false,
    "deletable": true,
    "editable": true
   },
   "outputs": [
    {
     "name": "stdout",
     "output_type": "stream",
     "text": [
      "25000\n",
      "12500\n",
      "12500\n",
      "(300,)\n",
      "(300,)\n",
      "(300,)\n"
     ]
    }
   ],
   "source": [
    "print len(train_x_average)\n",
    "print len(validation_x_average)\n",
    "print len(test_x_average)\n",
    "print train_x_average[1000].shape\n",
    "print validation_x_average[1000].shape\n",
    "print test_x_average[1000].shape"
   ]
  },
  {
   "cell_type": "code",
   "execution_count": 41,
   "metadata": {
    "collapsed": true,
    "deletable": true,
    "editable": true
   },
   "outputs": [],
   "source": [
    "files = {'train_x_average': train_x_average,\n",
    "         'validation_x_average': validation_x_average,\n",
    "         'test_x_average': test_x_average}\n",
    "\n",
    "for filename, afile in files.items():\n",
    "    \n",
    "    file_path = os.path.join(data_root,filename+'.pkl')\n",
    "    \n",
    "    if not isfile(file_path):    \n",
    "        with open(file_path, 'wb') as f:\n",
    "            pickle.dump(afile, f)"
   ]
  },
  {
   "cell_type": "markdown",
   "metadata": {
    "deletable": true,
    "editable": true
   },
   "source": [
    "# Train classiciation models"
   ]
  },
  {
   "cell_type": "code",
   "execution_count": 39,
   "metadata": {
    "collapsed": false,
    "deletable": true,
    "editable": true
   },
   "outputs": [
    {
     "name": "stdout",
     "output_type": "stream",
     "text": [
      "0.82312\n"
     ]
    }
   ],
   "source": [
    "from sklearn.ensemble import RandomForestClassifier\n",
    "rd_clf = RandomForestClassifier(n_estimators = 100, random_state=3)\n",
    "rd_clf = rd_clf.fit(train_x_average, train_y_clean)\n",
    "accuracy_validation = rd_clf.score(validation_x_average, validation_y_clean)\n",
    "#test_validation = rd_clf.score(test_features_bw, test_labels)\n",
    "print accuracy_validation"
   ]
  },
  {
   "cell_type": "code",
   "execution_count": 40,
   "metadata": {
    "collapsed": false,
    "deletable": true,
    "editable": true
   },
   "outputs": [
    {
     "name": "stdout",
     "output_type": "stream",
     "text": [
      "0.8732\n"
     ]
    }
   ],
   "source": [
    "from sklearn.linear_model import LogisticRegression\n",
    "lr_clf = LogisticRegression()\n",
    "lr_clf = lr_clf.fit(train_x_average, train_y_clean)\n",
    "accuracy_validation = lr_clf.score(validation_x_average, validation_y_clean)\n",
    "#test_validation = lr_clf.score(test_reviews_average, test_labels)\n",
    "print accuracy_validation"
   ]
  },
  {
   "cell_type": "code",
   "execution_count": 41,
   "metadata": {
    "collapsed": false,
    "deletable": true,
    "editable": true
   },
   "outputs": [
    {
     "name": "stdout",
     "output_type": "stream",
     "text": [
      "0.87384\n"
     ]
    }
   ],
   "source": [
    "from sklearn.svm import LinearSVC\n",
    "svm_clf = LinearSVC()\n",
    "svm_clf = svm_clf.fit(train_x_average, train_y_clean)\n",
    "accuracy_validation = svm_clf.score(validation_x_average, validation_y_clean)\n",
    "#test_validation = svm_clf.score(test_re_average, test_labels)\n",
    "print accuracy_validation"
   ]
  },
  {
   "cell_type": "markdown",
   "metadata": {},
   "source": [
    "# Model_w2v2"
   ]
  },
  {
   "cell_type": "code",
   "execution_count": 9,
   "metadata": {
    "collapsed": false,
    "deletable": true,
    "editable": true
   },
   "outputs": [],
   "source": [
    "train_x_average2 = dataset_average(train_x_clean, model_w2v2, 600)\n",
    "validation_x_average2 = dataset_average(validation_x_clean, model_w2v2, 600)\n",
    "test_x_average2 = dataset_average(test_x_clean, model_w2v2, 600)"
   ]
  },
  {
   "cell_type": "code",
   "execution_count": 24,
   "metadata": {
    "collapsed": false
   },
   "outputs": [
    {
     "name": "stdout",
     "output_type": "stream",
     "text": [
      "0.83544\n"
     ]
    }
   ],
   "source": [
    "from sklearn.ensemble import RandomForestClassifier\n",
    "rd_clf2 = RandomForestClassifier(n_estimators = 100, random_state=3)\n",
    "rd_clf2 = rd_clf2.fit(train_x_average2, train_y_clean)\n",
    "accuracy_validation = rd_clf2.score(validation_x_average2, validation_y_clean)\n",
    "\n",
    "print accuracy_validation"
   ]
  },
  {
   "cell_type": "code",
   "execution_count": 25,
   "metadata": {
    "collapsed": false
   },
   "outputs": [
    {
     "name": "stdout",
     "output_type": "stream",
     "text": [
      "0.87392\n"
     ]
    }
   ],
   "source": [
    "from sklearn.linear_model import LogisticRegression\n",
    "lr_clf2 = LogisticRegression()\n",
    "lr_clf2 = lr_clf2.fit(train_x_average2, train_y_clean)\n",
    "accuracy_validation = lr_clf2.score(validation_x_average2, validation_y_clean)\n",
    "#test_validation = lr_clf.score(test_reviews_average, test_labels)\n",
    "print accuracy_validation"
   ]
  },
  {
   "cell_type": "code",
   "execution_count": 27,
   "metadata": {
    "collapsed": false
   },
   "outputs": [
    {
     "name": "stdout",
     "output_type": "stream",
     "text": [
      "0.87592\n"
     ]
    }
   ],
   "source": [
    "from sklearn.svm import LinearSVC\n",
    "svm_clf2 = LinearSVC()\n",
    "svm_clf2 = svm_clf2.fit(train_x_average2, train_y_clean)\n",
    "accuracy_validation = svm_clf2.score(validation_x_average2, validation_y_clean)\n",
    "#test_validation = svm_clf.score(test_re_average, test_labels)\n",
    "print accuracy_validation"
   ]
  },
  {
   "cell_type": "markdown",
   "metadata": {},
   "source": [
    "# w2v model3"
   ]
  },
  {
   "cell_type": "code",
   "execution_count": 11,
   "metadata": {
    "collapsed": true
   },
   "outputs": [],
   "source": [
    "train_x_average3 = dataset_average(train_x_clean, model_w2v3, 300)\n",
    "validation_x_average3 = dataset_average(validation_x_clean, model_w2v3, 300)\n",
    "test_x_average3 = dataset_average(test_x_clean, model_w2v3, 300)"
   ]
  },
  {
   "cell_type": "code",
   "execution_count": 29,
   "metadata": {
    "collapsed": false
   },
   "outputs": [
    {
     "name": "stdout",
     "output_type": "stream",
     "text": [
      "0.77024\n"
     ]
    }
   ],
   "source": [
    "from sklearn.ensemble import RandomForestClassifier\n",
    "rd_clf3 = RandomForestClassifier(n_estimators = 100, random_state=3)\n",
    "rd_clf3 = rd_clf3.fit(train_x_average3, train_y_clean)\n",
    "accuracy_validation = rd_clf3.score(validation_x_average3, validation_y_clean)\n",
    "\n",
    "print accuracy_validation"
   ]
  },
  {
   "cell_type": "code",
   "execution_count": 30,
   "metadata": {
    "collapsed": false
   },
   "outputs": [
    {
     "name": "stdout",
     "output_type": "stream",
     "text": [
      "0.80968\n"
     ]
    }
   ],
   "source": [
    "from sklearn.linear_model import LogisticRegression\n",
    "lr_clf3 = LogisticRegression()\n",
    "lr_clf3 = lr_clf3.fit(train_x_average3, train_y_clean)\n",
    "accuracy_validation = lr_clf3.score(validation_x_average3, validation_y_clean)\n",
    "\n",
    "print accuracy_validation"
   ]
  },
  {
   "cell_type": "code",
   "execution_count": 31,
   "metadata": {
    "collapsed": false
   },
   "outputs": [
    {
     "name": "stdout",
     "output_type": "stream",
     "text": [
      "0.83784\n"
     ]
    }
   ],
   "source": [
    "from sklearn.svm import LinearSVC\n",
    "svm_clf3 = LinearSVC()\n",
    "svm_clf3 = svm_clf3.fit(train_x_average3, train_y_clean)\n",
    "accuracy_validation = svm_clf3.score(validation_x_average3, validation_y_clean)\n",
    "#test_validation = svm_clf.score(test_re_average, test_labels)\n",
    "print accuracy_validation"
   ]
  },
  {
   "cell_type": "markdown",
   "metadata": {},
   "source": [
    "# W2V model4"
   ]
  },
  {
   "cell_type": "code",
   "execution_count": 16,
   "metadata": {
    "collapsed": false
   },
   "outputs": [],
   "source": [
    "train_x_average4 = dataset_average(train_x_clean, model_w2v4, 100)\n",
    "validation_x_average4 = dataset_average(validation_x_clean, model_w2v4, 100)\n",
    "test_x_average4 = dataset_average(test_x_clean, model_w2v4, 100)"
   ]
  },
  {
   "cell_type": "code",
   "execution_count": 33,
   "metadata": {
    "collapsed": false
   },
   "outputs": [
    {
     "name": "stdout",
     "output_type": "stream",
     "text": [
      "0.8156\n"
     ]
    }
   ],
   "source": [
    "from sklearn.ensemble import RandomForestClassifier\n",
    "rd_clf4 = RandomForestClassifier(n_estimators = 100, random_state=3)\n",
    "rd_clf4 = rd_clf4.fit(train_x_average4, train_y_clean)\n",
    "accuracy_validation = rd_clf4.score(validation_x_average4, validation_y_clean)\n",
    "#test_validation = rd_clf.score(test_features_bw, test_labels)\n",
    "print accuracy_validation"
   ]
  },
  {
   "cell_type": "code",
   "execution_count": 34,
   "metadata": {
    "collapsed": false
   },
   "outputs": [
    {
     "name": "stdout",
     "output_type": "stream",
     "text": [
      "0.84584\n"
     ]
    }
   ],
   "source": [
    "from sklearn.linear_model import LogisticRegression\n",
    "lr_clf4 = LogisticRegression()\n",
    "lr_clf4 = lr_clf4.fit(train_x_average4, train_y_clean)\n",
    "accuracy_validation = lr_clf4.score(validation_x_average4, validation_y_clean)\n",
    "#test_validation = lr_clf.score(test_reviews_average, test_labels)\n",
    "print accuracy_validation"
   ]
  },
  {
   "cell_type": "code",
   "execution_count": 35,
   "metadata": {
    "collapsed": false
   },
   "outputs": [
    {
     "name": "stdout",
     "output_type": "stream",
     "text": [
      "0.84616\n"
     ]
    }
   ],
   "source": [
    "from sklearn.svm import LinearSVC\n",
    "svm_clf4 = LinearSVC()\n",
    "svm_clf4 = svm_clf4.fit(train_x_average4, train_y_clean)\n",
    "accuracy_validation = svm_clf4.score(validation_x_average4, validation_y_clean)\n",
    "#test_validation = svm_clf.score(test_re_average, test_labels)\n",
    "print accuracy_validation"
   ]
  },
  {
   "cell_type": "code",
   "execution_count": 46,
   "metadata": {
    "collapsed": false
   },
   "outputs": [
    {
     "name": "stdout",
     "output_type": "stream",
     "text": [
      "Accuracy on the test set\n",
      "w2v1: default structure and algorith, dowmsampling size = 1e-3, num_features = 300\n",
      "random forest:  0.8296\n",
      "logisic regression:  0.87176\n",
      "svr:  0.8724\n",
      "\n",
      "\n",
      "w2v2: default structure and algorith, dowmsampling size = 1e-3, num_features = 600\n",
      "random forest:  0.83176\n",
      "logisic regression:  0.87264\n",
      "svm:  0.87288\n",
      "\n",
      "\n",
      "w2v3: default structure and algorith, dowmsampling size = 1e-5, num_features = 300\n",
      "random forest:  0.77256\n",
      "logisic regression:  0.81056\n",
      "svm:  0.8368\n",
      "\n",
      "\n",
      "w2v4: negative sampling, dowmsampling size = 1e-3m, num_features = 100\n",
      "random forest:  0.814\n",
      "logisic regression:  0.84464\n",
      "svm: 0.84424\n"
     ]
    }
   ],
   "source": [
    "print \"Accuracy on the test set\"\n",
    "print \"w2v1: default structure and algorith, dowmsampling size = 1e-3, num_features = 300\"\n",
    "print \"random forest: \", rd_clf.score(test_x_average, test_y_clean)\n",
    "print \"logisic regression: \", lr_clf.score(test_x_average, test_y_clean)\n",
    "print \"svr: \", svm_clf.score(test_x_average, test_y_clean)\n",
    "print \"\\n\"\n",
    "\n",
    "print \"w2v2: default structure and algorith, dowmsampling size = 1e-3, num_features = 600\"\n",
    "print \"random forest: \", rd_clf2.score(test_x_average2, test_y_clean)\n",
    "print \"logisic regression: \", lr_clf2.score(test_x_average2, test_y_clean)\n",
    "print \"svm: \", svm_clf2.score(test_x_average2, test_y_clean)\n",
    "print \"\\n\"\n",
    "\n",
    "print \"w2v3: default structure and algorith, dowmsampling size = 1e-5, num_features = 300\"\n",
    "print \"random forest: \", rd_clf3.score(test_x_average3, test_y_clean)\n",
    "print \"logisic regression: \", lr_clf3.score(test_x_average3, test_y_clean)\n",
    "print \"svm: \", svm_clf3.score(test_x_average3, test_y_clean)\n",
    "print \"\\n\"\n",
    "\n",
    "print \"w2v4: negative sampling, dowmsampling size = 1e-3m, num_features = 100\"\n",
    "print \"random forest: \", rd_clf4.score(test_x_average4, test_y_clean)\n",
    "print \"logisic regression: \", lr_clf4.score(test_x_average4, test_y_clean)\n",
    "print \"svm:\", svm_clf4.score(test_x_average4, test_y_clean)"
   ]
  },
  {
   "cell_type": "code",
   "execution_count": null,
   "metadata": {
    "collapsed": true
   },
   "outputs": [],
   "source": []
  }
 ],
 "metadata": {
  "kernelspec": {
   "display_name": "Python 2",
   "language": "python2",
   "name": "python2"
  },
  "language_info": {
   "codemirror_mode": {
    "name": "ipython",
    "version": 2
   },
   "file_extension": ".py",
   "mimetype": "text/x-python",
   "name": "python",
   "nbconvert_exporter": "python",
   "pygments_lexer": "ipython2",
   "version": "2.7.13"
  }
 },
 "nbformat": 4,
 "nbformat_minor": 2
}
