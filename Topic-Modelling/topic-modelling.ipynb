{
 "cells": [
  {
   "cell_type": "markdown",
   "metadata": {},
   "source": [
    "# Topic Modelling\n",
    "dataseset: https://www.kaggle.com/c/spooky-author-identification"
   ]
  },
  {
   "cell_type": "code",
   "execution_count": 1,
   "metadata": {},
   "outputs": [],
   "source": [
    "import numpy as np\n",
    "import pandas as pd\n",
    "import nltk\n",
    "import matplotlib.pyplot as plt\n",
    "from sklearn.feature_extraction.text import CountVectorizer\n",
    "from sklearn.decomposition import LatentDirichletAllocation, NMF\n",
    "#import WordCloud\n",
    "%matplotlib inline"
   ]
  },
  {
   "cell_type": "code",
   "execution_count": 2,
   "metadata": {
    "collapsed": true
   },
   "outputs": [],
   "source": [
    "raw_train = pd.read_csv('data/train.csv')\n",
    "raw_test = pd.read_csv('data/test.csv')"
   ]
  },
  {
   "cell_type": "code",
   "execution_count": 3,
   "metadata": {},
   "outputs": [
    {
     "data": {
      "text/html": [
       "<div>\n",
       "<style scoped>\n",
       "    .dataframe tbody tr th:only-of-type {\n",
       "        vertical-align: middle;\n",
       "    }\n",
       "\n",
       "    .dataframe tbody tr th {\n",
       "        vertical-align: top;\n",
       "    }\n",
       "\n",
       "    .dataframe thead th {\n",
       "        text-align: right;\n",
       "    }\n",
       "</style>\n",
       "<table border=\"1\" class=\"dataframe\">\n",
       "  <thead>\n",
       "    <tr style=\"text-align: right;\">\n",
       "      <th></th>\n",
       "      <th>id</th>\n",
       "      <th>text</th>\n",
       "      <th>author</th>\n",
       "    </tr>\n",
       "  </thead>\n",
       "  <tbody>\n",
       "    <tr>\n",
       "      <th>0</th>\n",
       "      <td>id26305</td>\n",
       "      <td>This process, however, afforded me no means of...</td>\n",
       "      <td>EAP</td>\n",
       "    </tr>\n",
       "    <tr>\n",
       "      <th>1</th>\n",
       "      <td>id17569</td>\n",
       "      <td>It never once occurred to me that the fumbling...</td>\n",
       "      <td>HPL</td>\n",
       "    </tr>\n",
       "    <tr>\n",
       "      <th>2</th>\n",
       "      <td>id11008</td>\n",
       "      <td>In his left hand was a gold snuff box, from wh...</td>\n",
       "      <td>EAP</td>\n",
       "    </tr>\n",
       "    <tr>\n",
       "      <th>3</th>\n",
       "      <td>id27763</td>\n",
       "      <td>How lovely is spring As we looked from Windsor...</td>\n",
       "      <td>MWS</td>\n",
       "    </tr>\n",
       "    <tr>\n",
       "      <th>4</th>\n",
       "      <td>id12958</td>\n",
       "      <td>Finding nothing else, not even gold, the Super...</td>\n",
       "      <td>HPL</td>\n",
       "    </tr>\n",
       "  </tbody>\n",
       "</table>\n",
       "</div>"
      ],
      "text/plain": [
       "        id                                               text author\n",
       "0  id26305  This process, however, afforded me no means of...    EAP\n",
       "1  id17569  It never once occurred to me that the fumbling...    HPL\n",
       "2  id11008  In his left hand was a gold snuff box, from wh...    EAP\n",
       "3  id27763  How lovely is spring As we looked from Windsor...    MWS\n",
       "4  id12958  Finding nothing else, not even gold, the Super...    HPL"
      ]
     },
     "execution_count": 3,
     "metadata": {},
     "output_type": "execute_result"
    }
   ],
   "source": [
    "raw_train.head()"
   ]
  },
  {
   "cell_type": "code",
   "execution_count": 11,
   "metadata": {
    "collapsed": true
   },
   "outputs": [],
   "source": [
    "STOPWORDS = nltk.corpus.stopwords.words('english')\n",
    "STEMMER = nltk.stem.PorterStemmer()\n",
    "LEMM = nltk.stem.WordNetLemmatizer()"
   ]
  },
  {
   "cell_type": "markdown",
   "metadata": {},
   "source": [
    "# Latent Dirichlet Allocation and Non-negative Matrix with sklearn"
   ]
  },
  {
   "cell_type": "code",
   "execution_count": 30,
   "metadata": {
    "collapsed": true
   },
   "outputs": [],
   "source": [
    "def preprocess_text(text):\n",
    "    text = text.split(\" \")\n",
    "    text = [word.lower() for word in text]\n",
    "    text = [nltk.word_tokenize(word)[0] for word in text]\n",
    "    \n",
    "    text = [word for word in text if word not in STOPWORDS]\n",
    "    text = [STEMMER.stem(word) for word in text]\n",
    "    text = [LEMM.lemmatize(word) for word in text]\n",
    "    text = \" \".join(text)\n",
    "    return text\n",
    "\n",
    "def vectorize_data(data):\n",
    "    vectorizer = CountVectorizer(min_df=0)\n",
    "    vectors = vectorizer.fit_transform(data)\n",
    "    feature_names = vectorizer.get_feature_names()\n",
    "    return vectors, feature_names"
   ]
  },
  {
   "cell_type": "code",
   "execution_count": 31,
   "metadata": {},
   "outputs": [],
   "source": [
    "text_data = []\n",
    "train = raw_train['text']\n",
    "for sentence in train:\n",
    "    sentence = preprocess_text(sentence)\n",
    "    text_data.append(sentence)\n",
    "    \n",
    "vector_data, feature_names = vectorize_data(text_data)"
   ]
  },
  {
   "cell_type": "code",
   "execution_count": 32,
   "metadata": {
    "collapsed": true
   },
   "outputs": [],
   "source": [
    "def print_top_words(model, feature_names, n_top_words):\n",
    "    for index, topic in enumerate(model.components_):\n",
    "        message = \"\\nTopic #{}:\".format(index)\n",
    "        message += \" \".join([feature_names[i] for i in topic.argsort()[:-n_top_words - 1 :-1]])\n",
    "        print(message)\n",
    "        print(\"=\"*70)"
   ]
  },
  {
   "cell_type": "code",
   "execution_count": 33,
   "metadata": {},
   "outputs": [
    {
     "data": {
      "text/plain": [
       "LatentDirichletAllocation(batch_size=128, doc_topic_prior=None,\n",
       "             evaluate_every=-1, learning_decay=0.7,\n",
       "             learning_method='online', learning_offset=50.0,\n",
       "             max_doc_update_iter=100, max_iter=5, mean_change_tol=0.001,\n",
       "             n_components=11, n_jobs=1, n_topics=None, perp_tol=0.1,\n",
       "             random_state=0, topic_word_prior=None,\n",
       "             total_samples=1000000.0, verbose=0)"
      ]
     },
     "execution_count": 33,
     "metadata": {},
     "output_type": "execute_result"
    }
   ],
   "source": [
    "lda = LatentDirichletAllocation(n_components=11, max_iter=5,\n",
    "                                learning_method = 'online',\n",
    "                                learning_offset = 50.,\n",
    "                                random_state = 0)\n",
    "lda.fit(vector_data)"
   ]
  },
  {
   "cell_type": "code",
   "execution_count": 34,
   "metadata": {},
   "outputs": [
    {
     "data": {
      "text/plain": [
       "NMF(alpha=0.1, beta_loss='frobenius', init=None, l1_ratio=0.5, max_iter=200,\n",
       "  n_components=11, random_state=1, shuffle=False, solver='cd', tol=0.0001,\n",
       "  verbose=0)"
      ]
     },
     "execution_count": 34,
     "metadata": {},
     "output_type": "execute_result"
    }
   ],
   "source": [
    "nmf = NMF(n_components=11, random_state=1,\n",
    "          alpha=.1, l1_ratio=.5)\n",
    "nmf.fit(vector_data)"
   ]
  },
  {
   "cell_type": "code",
   "execution_count": 35,
   "metadata": {},
   "outputs": [
    {
     "name": "stdout",
     "output_type": "stream",
     "text": [
      "\n",
      "Topics in LDA model: \n",
      "\n",
      "Topic #0:thing must said ever say much know world tell young age good one month see may inde everi sure lead enough mani week repli fellow realli visibl keep astonish great imag think excel art societi resembl labour two gener would\n",
      "======================================================================\n",
      "\n",
      "Topic #1:two one hope heard mani never new happi day side hour pas earth year upon good away best state mr gone came among love except far save cottag intens obtain found ship sir london wave leav water soon spring till\n",
      "======================================================================\n",
      "\n",
      "Topic #2:thought life love would death one heart fear yet feel friend eye everi man let might even remain place voic seem day mind express though someth spirit well like raymond high chang felt father die soul call look beauti perdita\n",
      "======================================================================\n",
      "\n",
      "Topic #3:live god togeth ye attempt content got beauti futur el folk be place surround kind island poet occasion gold em pursuit sharp aout guard fish bit entertain pardon start claim nobodi depriv heh franc war beg think placid harbour noth\n",
      "======================================================================\n",
      "\n",
      "Topic #4:upon could first one would word appear natur time might made return howev noth mean even may found anoth turn becam never point person whole without although make mere enter exist sen possibl thu earth well mind fact moment inde\n",
      "======================================================================\n",
      "\n",
      "Topic #5:dream year men countri desir near number three six increas time hundr villag pas tone long twenti enemi realiti five le turn winter mortal recollect associ grow father stood know last sent slept second seven heard whisper glori departur mile\n",
      "======================================================================\n",
      "\n",
      "Topic #6:hand eye open saw left wall look window like deep bodi mountain head stone ancient long shadow face could seem dark hill black arm air step terror almost within around cover rise beneath utter white half walk box ruin right\n",
      "======================================================================\n",
      "\n",
      "Topic #7:could hous shall object go dead would wonder man time doubt believ minut de old regard work strang long vast even say either knew appar told call west event usual danger come pleasur far certain bodi human use paus inhabit\n",
      "======================================================================\n",
      "\n",
      "Topic #8:door upon room beyond le lay way still close foot reach sea nearli head place light land street terribl came done full far found therefor length littl extrem back low space three end small time wide later surfac thrown region\n",
      "======================================================================\n",
      "\n",
      "Topic #9:child give mother shape though advanc tomb courag nose contain judg captain total show explan firm quick base delic topic date throughout worst abnorm resist blast reel entreat phrase quot expir grandfath immort queen cruel band profess compass warren exult\n",
      "======================================================================\n",
      "\n",
      "Topic #10:night old still come man seen like tree sound moon great move littl degre dark light grew star murder away even one along die woman aros frequent wife could distant peopl sun remark told came plain home sky gilman would\n",
      "======================================================================\n",
      "\n",
      "Topics in NMF model: \n",
      "\n",
      "Topic #0:love seem beauti word life feel mind earth world great soul anim deep evil ever felt oh univers thought found heart spirit appear studi saw whose shall see diotima also sea becom multitud wisdom impress miseri ye silenc scene end\n",
      "======================================================================\n",
      "\n",
      "Topic #1:upon thu look found fell head hand length whole point charact foot call lay immedi tabl arm depend within heart person thrown continu sat back first appear second two observ natur word mr turn subject posit howev moment room drop\n",
      "======================================================================\n",
      "\n",
      "Topic #2:one two thousand anoth hundr everi five per twenti three six side seen foot let place great point mill half rather line say hand might though end small found dollar million month old heard knew period except suffer similar case\n",
      "======================================================================\n",
      "\n",
      "Topic #3:could see noth human help form make imagin knew reason word farewel never thought manner bodi mind found distinguish longer voic possibl believ though understand perceiv doubt suppos neither tell reach air scarc seen moment room discov sound half life\n",
      "======================================================================\n",
      "\n",
      "Topic #4:would hope take come return happi thought father thu inde power make ever might well fear sometim moment follow alon suffer wish knew night away death mere reason life restor also cours possibl soon case give last better think tear\n",
      "======================================================================\n",
      "\n",
      "Topic #5:time long first come year mani hour thought made space becam short two last thousand le howev friend take see new old leav three moment period fear full pas memori sinc place inde follow length spent grief visit shall foot\n",
      "======================================================================\n",
      "\n",
      "Topic #6:man old god farewel young natur live whose power woman ever face good seen beard great terribl saw beyond work wonder year though name heard human alon back citi busi small age anim talk dark told book dream tell neither\n",
      "======================================================================\n",
      "\n",
      "Topic #7:eye like look open hand door light saw whose left face hous place head dark came window close turn wall room black toward night long street form still away back water side foot voic far mani half small tear sound\n",
      "======================================================================\n",
      "\n",
      "Topic #8:day night hour mani everi pas came long found three year next two dream last new month return twenti le arriv five thu hous away sleep far thousand morn work father six becam follow went land sun sever week remain\n",
      "======================================================================\n",
      "\n",
      "Topic #9:even still though heart death whole leav might light sun let told beyond men odd strang star wind toward le dark chang far feel degre hope manner horror suffici green hour conceiv whose die person came matter yet dream past\n",
      "======================================================================\n",
      "\n",
      "Topic #10:thing said yet must might say never may first littl well much know made make year shall come thought without go live mr death friend mani fear still see everi inde although mean place great point gener natur men way\n",
      "======================================================================\n"
     ]
    }
   ],
   "source": [
    "n_top_words = 40\n",
    "\n",
    "print(\"\\nTopics in LDA model: \")\n",
    "print_top_words(lda, feature_names, n_top_words)\n",
    "\n",
    "print(\"\\nTopics in NMF model: \")\n",
    "print_top_words(nmf, feature_names, n_top_words)"
   ]
  },
  {
   "cell_type": "markdown",
   "metadata": {},
   "source": [
    "## visualization using word cloud"
   ]
  },
  {
   "cell_type": "code",
   "execution_count": 36,
   "metadata": {
    "collapsed": true
   },
   "outputs": [],
   "source": [
    "import wordcloud"
   ]
  },
  {
   "cell_type": "code",
   "execution_count": 37,
   "metadata": {},
   "outputs": [],
   "source": [
    "first_topic = lda.components_[0]\n",
    "first_topic_words = [feature_names[i] for i in first_topic.argsort()[:-50 - 1 :-1]]"
   ]
  },
  {
   "cell_type": "code",
   "execution_count": 38,
   "metadata": {},
   "outputs": [
    {
     "data": {
      "image/png": "[encoded data removed]",
      "text/plain": [
       "<Figure size 432x288 with 1 Axes>"
      ]
     },
     "metadata": {},
     "output_type": "display_data"
    }
   ],
   "source": [
    "firstcloud = wordcloud.WordCloud(\n",
    "                          stopwords=STOPWORDS,\n",
    "                          background_color='black',\n",
    "                          width=2500,\n",
    "                          height=1800\n",
    "                         ).generate(\" \".join(first_topic_words))\n",
    "plt.imshow(firstcloud)\n",
    "plt.axis('off')\n",
    "plt.show()"
   ]
  },
  {
   "cell_type": "markdown",
   "metadata": {},
   "source": [
    "# Using gensim"
   ]
  },
  {
   "cell_type": "code",
   "execution_count": 9,
   "metadata": {},
   "outputs": [],
   "source": [
    "import gensim\n",
    "from gensim import corpora"
   ]
  },
  {
   "cell_type": "code",
   "execution_count": 13,
   "metadata": {
    "collapsed": true
   },
   "outputs": [],
   "source": [
    "def preprocess_text(text):\n",
    "    text = text.split(\" \")\n",
    "    text = [word.lower() for word in text]\n",
    "    text = [nltk.word_tokenize(word)[0] for word in text]\n",
    "    \n",
    "    text = [word for word in text if word not in STOPWORDS]\n",
    "    text = [STEMMER.stem(word) for word in text]\n",
    "    text = [LEMM.lemmatize(word) for word in text]\n",
    "    return text"
   ]
  },
  {
   "cell_type": "code",
   "execution_count": 15,
   "metadata": {},
   "outputs": [],
   "source": [
    "text_data = []\n",
    "train = raw_train['text']\n",
    "for sentence in train:\n",
    "    sentence = preprocess_text(sentence)\n",
    "    text_data.append(sentence)"
   ]
  },
  {
   "cell_type": "code",
   "execution_count": 16,
   "metadata": {},
   "outputs": [],
   "source": [
    "dictionary = corpora.Dictionary(text_data)\n",
    "corpus = [dictionary.doc2bow(text) for text in text_data]"
   ]
  },
  {
   "cell_type": "code",
   "execution_count": 18,
   "metadata": {},
   "outputs": [],
   "source": [
    "NUM_TOPICS = 5\n",
    "lda = gensim.models.ldamodel.LdaModel(corpus, \n",
    "                                      num_topics=NUM_TOPICS, \n",
    "                                      id2word=dictionary, \n",
    "                                      passes=15)"
   ]
  },
  {
   "cell_type": "code",
   "execution_count": 20,
   "metadata": {},
   "outputs": [
    {
     "name": "stdout",
     "output_type": "stream",
     "text": [
      "(0, '0.043*\"``\" + 0.011*\"said\" + 0.009*\"one\" + 0.007*\"could\"')\n",
      "(1, '0.010*\"love\" + 0.008*\"life\" + 0.007*\"heart\" + 0.007*\"would\"')\n",
      "(2, '0.007*\"year\" + 0.007*\"old\" + 0.006*\"one\" + 0.006*\"like\"')\n",
      "(3, '0.006*\"one\" + 0.006*\"open\" + 0.006*\"hous\" + 0.006*\"light\"')\n",
      "(4, '0.011*\"upon\" + 0.007*\"time\" + 0.006*\"could\" + 0.005*\"would\"')\n"
     ]
    }
   ],
   "source": [
    "topics = lda.print_topics(num_words=4)\n",
    "for topic in topics:\n",
    "    print(topic)"
   ]
  },
  {
   "cell_type": "markdown",
   "metadata": {},
   "source": [
    "## visualization using pyLDAvis"
   ]
  },
  {
   "cell_type": "code",
   "execution_count": 21,
   "metadata": {
    "collapsed": true
   },
   "outputs": [],
   "source": [
    "import pyLDAvis.gensim"
   ]
  },
  {
   "cell_type": "code",
   "execution_count": 22,
   "metadata": {},
   "outputs": [
    {
     "name": "stderr",
     "output_type": "stream",
     "text": [
      "/home/dong/anaconda3/envs/nlp/lib/python3.6/site-packages/pyLDAvis/_prepare.py:257: FutureWarning: Sorting because non-concatenation axis is not aligned. A future version\n",
      "of pandas will change to not sort by default.\n",
      "\n",
      "To accept the future behavior, pass 'sort=True'.\n",
      "\n",
      "To retain the current behavior and silence the warning, pass sort=False\n",
      "\n",
      "  return pd.concat([default_term_info] + list(topic_dfs))\n"
     ]
    },
    {
     "data": {
      "text/html": [
       "\n",
       "<link rel=\"stylesheet\" type=\"text/css\" href=\"https://cdn.rawgit.com/bmabey/pyLDAvis/files/ldavis.v1.0.0.css\">\n",
       "\n",
       "\n",
       "<div id=\"ldavis_el234671398370364016729232337155\"></div>\n",
       "<script type=\"text/javascript\">\n",
       "\n",
       "var ldavis_el234671398370364016729232337155_data = {\"mdsDat\": {\"x\": [-0.13200393892608095, -0.10837596085857629, 0.11813836526764761, 0.2508273010759114, -0.12858576655890172], \"y\": [-0.07598907289198469, 0.1400574669878939, -0.24471103633489832, 0.150985416504865, 0.029657225734124184], \"topics\": [1, 2, 3, 4, 5], \"cluster\": [1, 1, 1, 1, 1], \"Freq\": [23.233802795410156, 20.66831398010254, 12.355769157409668, 21.4763126373291, 22.265796661376953]}, \"tinfo\": {\"Category\": [\"Default\", \"Default\", \"Default\", \"Default\", \"Default\", \"Default\", \"Default\", \"Default\", \"Default\", \"Default\", \"Default\", \"Default\", \"Default\", \"Default\", \"Default\", \"Default\", \"Default\", \"Default\", \"Default\", \"Default\", \"Default\", \"Default\", \"Default\", \"Default\", \"Default\", \"Default\", \"Default\", \"Default\", \"Default\", \"Default\", \"Topic1\", \"Topic1\", \"Topic1\", \"Topic1\", \"Topic1\", \"Topic1\", \"Topic1\", \"Topic1\", \"Topic1\", \"Topic1\", \"Topic1\", \"Topic1\", \"Topic1\", \"Topic1\", \"Topic1\", \"Topic1\", \"Topic1\", \"Topic1\", \"Topic1\", \"Topic1\", \"Topic1\", \"Topic1\", \"Topic1\", \"Topic1\", \"Topic1\", \"Topic1\", \"Topic1\", \"Topic1\", \"Topic1\", \"Topic1\", \"Topic1\", \"Topic1\", \"Topic1\", \"Topic1\", \"Topic1\", \"Topic1\", \"Topic1\", \"Topic1\", \"Topic1\", \"Topic1\", \"Topic1\", \"Topic1\", \"Topic1\", \"Topic1\", \"Topic1\", \"Topic1\", \"Topic1\", \"Topic1\", \"Topic1\", \"Topic1\", \"Topic1\", \"Topic1\", \"Topic1\", \"Topic1\", \"Topic1\", \"Topic1\", \"Topic1\", \"Topic1\", \"Topic1\", \"Topic1\", \"Topic1\", \"Topic1\", \"Topic1\", \"Topic1\", \"Topic1\", \"Topic2\", \"Topic2\", \"Topic2\", \"Topic2\", \"Topic2\", \"Topic2\", \"Topic2\", \"Topic2\", \"Topic2\", \"Topic2\", \"Topic2\", \"Topic2\", \"Topic2\", \"Topic2\", \"Topic2\", \"Topic2\", \"Topic2\", \"Topic2\", \"Topic2\", \"Topic2\", \"Topic2\", \"Topic2\", \"Topic2\", \"Topic2\", \"Topic2\", \"Topic2\", \"Topic2\", \"Topic2\", \"Topic2\", \"Topic2\", \"Topic2\", \"Topic2\", \"Topic2\", \"Topic2\", \"Topic2\", \"Topic2\", \"Topic2\", \"Topic2\", \"Topic2\", \"Topic2\", \"Topic2\", \"Topic2\", \"Topic2\", \"Topic2\", \"Topic2\", \"Topic2\", \"Topic2\", \"Topic2\", \"Topic2\", \"Topic2\", \"Topic2\", \"Topic2\", \"Topic2\", \"Topic2\", \"Topic2\", \"Topic2\", \"Topic2\", \"Topic2\", \"Topic2\", \"Topic2\", \"Topic2\", \"Topic3\", \"Topic3\", \"Topic3\", \"Topic3\", \"Topic3\", \"Topic3\", \"Topic3\", \"Topic3\", \"Topic3\", \"Topic3\", \"Topic3\", \"Topic3\", \"Topic3\", \"Topic3\", \"Topic3\", \"Topic3\", \"Topic3\", \"Topic3\", \"Topic3\", \"Topic3\", \"Topic3\", \"Topic3\", \"Topic3\", \"Topic3\", \"Topic3\", \"Topic3\", \"Topic3\", \"Topic3\", \"Topic3\", \"Topic3\", \"Topic3\", \"Topic3\", \"Topic3\", \"Topic3\", \"Topic3\", \"Topic3\", \"Topic3\", \"Topic3\", \"Topic3\", \"Topic3\", \"Topic3\", \"Topic3\", \"Topic3\", \"Topic3\", \"Topic3\", \"Topic3\", \"Topic3\", \"Topic3\", \"Topic3\", \"Topic3\", \"Topic3\", \"Topic3\", \"Topic3\", \"Topic3\", \"Topic3\", \"Topic3\", \"Topic3\", \"Topic3\", \"Topic3\", \"Topic4\", \"Topic4\", \"Topic4\", \"Topic4\", \"Topic4\", \"Topic4\", \"Topic4\", \"Topic4\", \"Topic4\", \"Topic4\", \"Topic4\", \"Topic4\", \"Topic4\", \"Topic4\", \"Topic4\", \"Topic4\", \"Topic4\", \"Topic4\", \"Topic4\", \"Topic4\", \"Topic4\", \"Topic4\", \"Topic4\", \"Topic4\", \"Topic4\", \"Topic4\", \"Topic4\", \"Topic4\", \"Topic4\", \"Topic4\", \"Topic4\", \"Topic4\", \"Topic4\", \"Topic4\", \"Topic4\", \"Topic4\", \"Topic4\", \"Topic4\", \"Topic4\", \"Topic4\", \"Topic4\", \"Topic4\", \"Topic4\", \"Topic4\", \"Topic4\", \"Topic4\", \"Topic4\", \"Topic4\", \"Topic4\", \"Topic4\", \"Topic4\", \"Topic4\", \"Topic4\", \"Topic4\", \"Topic4\", \"Topic4\", \"Topic4\", \"Topic5\", \"Topic5\", \"Topic5\", \"Topic5\", \"Topic5\", \"Topic5\", \"Topic5\", \"Topic5\", \"Topic5\", \"Topic5\", \"Topic5\", \"Topic5\", \"Topic5\", \"Topic5\", \"Topic5\", \"Topic5\", \"Topic5\", \"Topic5\", \"Topic5\", \"Topic5\", \"Topic5\", \"Topic5\", \"Topic5\", \"Topic5\", \"Topic5\", \"Topic5\", \"Topic5\", \"Topic5\", \"Topic5\", \"Topic5\", \"Topic5\", \"Topic5\", \"Topic5\", \"Topic5\", \"Topic5\", \"Topic5\", \"Topic5\", \"Topic5\", \"Topic5\", \"Topic5\", \"Topic5\", \"Topic5\", \"Topic5\", \"Topic5\", \"Topic5\", \"Topic5\", \"Topic5\", \"Topic5\", \"Topic5\", \"Topic5\", \"Topic5\", \"Topic5\", \"Topic5\", \"Topic5\", \"Topic5\", \"Topic5\", \"Topic5\", \"Topic5\", \"Topic5\", \"Topic5\", \"Topic5\", \"Topic5\", \"Topic5\", \"Topic5\", \"Topic5\", \"Topic5\", \"Topic5\"], \"Freq\": [2574.0, 655.0, 522.0, 386.0, 338.0, 510.0, 566.0, 421.0, 314.0, 581.0, 689.0, 273.0, 362.0, 330.0, 672.0, 245.0, 428.0, 392.0, 628.0, 237.0, 236.0, 230.0, 1346.0, 222.0, 225.0, 209.0, 209.0, 238.0, 272.0, 263.0, 2573.56689453125, 654.8823852539062, 313.4918212890625, 225.0384979248047, 165.93385314941406, 136.47154235839844, 99.5240707397461, 94.20176696777344, 86.55259704589844, 66.02284240722656, 90.80631256103516, 64.39837646484375, 61.844539642333984, 103.747314453125, 61.053993225097656, 61.188228607177734, 56.90001678466797, 56.560028076171875, 57.04752731323242, 56.27442932128906, 53.29447937011719, 52.674068450927734, 50.0811882019043, 49.6413459777832, 50.448551177978516, 48.71634292602539, 47.44845962524414, 47.835819244384766, 46.406005859375, 46.544185638427734, 134.64649963378906, 227.74049377441406, 218.63829040527344, 154.72695922851562, 412.56585693359375, 227.4507598876953, 106.28192138671875, 94.95146942138672, 77.87149810791016, 142.10806274414062, 291.5488586425781, 74.45580291748047, 402.5224914550781, 254.73927307128906, 261.7300109863281, 347.02197265625, 131.92710876464844, 260.7254333496094, 182.38711547851562, 109.0869369506836, 272.3006896972656, 568.5396728515625, 226.878173828125, 181.55712890625, 433.4164123535156, 314.5698547363281, 382.67156982421875, 222.78237915039062, 192.35391235351562, 179.99876403808594, 220.9911651611328, 179.34129333496094, 187.8515167236328, 210.41030883789062, 194.30274963378906, 521.5355224609375, 385.6266784667969, 272.9284973144531, 229.5848388671875, 146.69532775878906, 243.80950927734375, 144.8030242919922, 143.0271453857422, 137.3224334716797, 123.20101928710938, 118.74031066894531, 114.47379302978516, 110.9820785522461, 107.91606903076172, 95.17945861816406, 93.3293685913086, 131.068115234375, 88.0899658203125, 88.98065185546875, 88.66302490234375, 87.8539047241211, 84.56465911865234, 75.73280334472656, 75.7037124633789, 73.56621551513672, 72.82411193847656, 72.82672882080078, 69.18511199951172, 67.80624389648438, 65.95038604736328, 83.63763427734375, 210.83505249023438, 224.44810485839844, 426.6462097167969, 309.7801208496094, 234.90130615234375, 104.92303466796875, 133.060546875, 156.34315490722656, 194.3611297607422, 221.11312866210938, 261.71484375, 134.96829223632812, 345.0213317871094, 247.77105712890625, 243.57723999023438, 331.5008239746094, 268.732421875, 370.0167541503906, 168.3275146484375, 168.72589111328125, 258.6388854980469, 196.233154296875, 210.0794677734375, 185.99366760253906, 164.33241271972656, 206.44180297851562, 195.61318969726562, 159.41184997558594, 170.03884887695312, 161.6175079345703, 85.76824951171875, 82.08817291259766, 81.07241821289062, 80.0893325805664, 78.7998046875, 76.78290557861328, 69.03376770019531, 90.55816650390625, 64.04124450683594, 63.885990142822266, 60.56192398071289, 55.20988464355469, 50.64106750488281, 50.29269790649414, 47.796112060546875, 46.741058349609375, 46.889366149902344, 46.627838134765625, 45.877132415771484, 42.99495315551758, 43.61028289794922, 43.22335433959961, 41.32707214355469, 40.73544692993164, 39.924285888671875, 38.87882614135742, 38.28858184814453, 44.85878372192383, 36.72407150268555, 35.5358772277832, 58.75550842285156, 142.66964721679688, 66.39423370361328, 236.17874145507812, 111.40045166015625, 155.28150939941406, 214.42494201660156, 136.98635864257812, 71.14147186279297, 88.26888275146484, 181.689453125, 71.69223022460938, 191.19778442382812, 141.19107055664062, 53.82917785644531, 55.78542709350586, 128.65110778808594, 101.9620132446289, 91.5667724609375, 99.56913757324219, 125.57173156738281, 94.3994140625, 83.07231903076172, 93.91534423828125, 84.78459930419922, 90.01594543457031, 85.60289764404297, 80.11895751953125, 79.42525482177734, 337.50274658203125, 236.8778533935547, 235.91026306152344, 221.25782775878906, 209.07400512695312, 208.39385986328125, 194.5768280029297, 184.16859436035156, 173.31076049804688, 170.15960693359375, 162.22439575195312, 144.48631286621094, 135.75340270996094, 104.36368560791016, 97.49917602539062, 93.00868225097656, 90.90034484863281, 89.07614135742188, 84.1742935180664, 83.2833480834961, 80.60235595703125, 79.58580017089844, 79.28390502929688, 78.29891967773438, 77.34317016601562, 77.33396911621094, 74.13459777832031, 73.36771392822266, 71.74163818359375, 68.42218780517578, 307.1369323730469, 223.00958251953125, 325.4101867675781, 196.07339477539062, 146.54684448242188, 326.5689392089844, 233.094970703125, 212.0084228515625, 108.23015594482422, 220.0984344482422, 127.6756362915039, 117.43286895751953, 315.208251953125, 271.5824279785156, 210.55560302734375, 160.007568359375, 165.22488403320312, 302.3212890625, 178.9344482421875, 288.7856750488281, 261.1657409667969, 273.3059997558594, 253.27618408203125, 339.7599792480469, 288.94915771484375, 200.65150451660156, 189.98617553710938, 151.83367919921875, 139.60353088378906, 137.3788604736328, 133.34779357910156, 112.59644317626953, 105.21871948242188, 99.33088684082031, 96.38430786132812, 87.89949798583984, 86.97007751464844, 86.88970947265625, 83.15032196044922, 81.8409194946289, 81.22740173339844, 79.0477294921875, 77.49313354492188, 75.69353485107422, 74.9884033203125, 74.9329833984375, 71.62255859375, 68.82951354980469, 64.23643493652344, 66.0782241821289, 59.48234939575195, 58.723941802978516, 56.27559280395508, 54.76095962524414, 56.113468170166016, 54.016761779785156, 52.5146484375, 135.5086212158203, 150.943603515625, 81.20430755615234, 169.01805114746094, 115.67218017578125, 118.25521087646484, 96.48046112060547, 651.5, 177.8993377685547, 137.17953491210938, 135.5186767578125, 257.2303161621094, 206.617431640625, 385.2300720214844, 280.6866455078125, 279.2157897949219, 162.24420166015625, 261.9424743652344, 109.9629898071289, 251.54098510742188, 164.8424072265625, 167.13916015625, 369.3439025878906, 264.0003662109375, 152.5644989013672, 174.23666381835938, 152.34800720214844, 285.2077331542969, 209.20741271972656, 181.95181274414062, 208.04310607910156, 248.7001190185547, 141.53543090820312, 140.6626739501953, 141.73324584960938, 139.39549255371094, 139.4683380126953], \"Term\": [\"``\", \"said\", \"love\", \"heart\", \"open\", \"say\", \"life\", \"year\", \".\", \"old\", \"thing\", \"die\", \"light\", \"door\", \"eye\", \"soul\", \"hous\", \"feel\", \"like\", \"window\", \"street\", \"happi\", \"upon\", \"wall\", \"matter\", \"black\", \"side\", \"foot\", \"three\", \"spirit\", \"``\", \"said\", \".\", \"matter\", \"repli\", \"sure\", \"write\", \"promis\", \"sir\", \"refer\", \"realli\", \"strong\", \"suspect\", \"conceiv\", \"plea\", \"beat\", \"english\", \"investig\", \"arkham\", \"quickli\", \"dupin\", \"practic\", \"wholli\", \"deepli\", \"tast\", \"demand\", \"explan\", \"necess\", \"speech\", \"spoken\", \"ask\", \"mr\", \"go\", \"known\", \"say\", \"noth\", \"tale\", \"convers\", \"ordinari\", \"question\", \"may\", \"concern\", \"thing\", \"know\", \"well\", \"must\", \"book\", \"much\", \"good\", \"letter\", \"littl\", \"one\", \"word\", \"mean\", \"could\", \"man\", \"would\", \"great\", \"make\", \"shall\", \"even\", \"see\", \"never\", \"upon\", \"time\", \"love\", \"heart\", \"die\", \"happi\", \"pain\", \"soul\", \"passion\", \"tear\", \"despair\", \"gentl\", \"miseri\", \"joy\", \"sorrow\", \"idri\", \"intens\", \"grief\", \"listen\", \"sweet\", \"depart\", \"endur\", \"seat\", \"sensat\", \"belov\", \"sympathi\", \"devot\", \"thou\", \"bestow\", \"languag\", \"bitter\", \"solitud\", \"sister\", \"beauti\", \"spirit\", \"life\", \"feel\", \"hope\", \"endeavour\", \"mother\", \"child\", \"father\", \"voic\", \"fear\", \"affect\", \"yet\", \"death\", \"ever\", \"eye\", \"thought\", \"would\", \"live\", \"felt\", \"could\", \"never\", \"even\", \"might\", \"mind\", \"one\", \"upon\", \"friend\", \"man\", \"day\", \"got\", \"twenti\", \"dr\", \"whether\", \"anyth\", \"elizabeth\", \"outsid\", \"hundr\", \"lock\", \"stop\", \"geniu\", \"mankind\", \"convinc\", \"frantic\", \"readi\", \"eight\", \"parent\", \"anxieti\", \"wrote\", \"'em\", \"aw\", \"govern\", \"impati\", \"virtu\", \"monsieur\", \"obe\", \"aout\", \"fish\", \"quantiti\", \"stair\", \"ago\", \"thousand\", \"wait\", \"year\", \"de\", \"three\", \"old\", \"le\", \"six\", \"ye\", \"like\", \"five\", \"one\", \"man\", \"gold\", \"folk\", \"thing\", \"come\", \"call\", \"two\", \"would\", \"mani\", \"hour\", \"day\", \"know\", \"time\", \"never\", \"men\", \"say\", \"open\", \"window\", \"street\", \"wall\", \"black\", \"side\", \"tree\", \"stone\", \"mountain\", \"moon\", \"hill\", \"floor\", \"white\", \"cover\", \"round\", \"green\", \"rock\", \"top\", \"valley\", \"hair\", \"gilman\", \"across\", \"build\", \"villag\", \"red\", \"north\", \"inch\", \"templ\", \"roof\", \"corner\", \"door\", \"foot\", \"light\", \"around\", \"stood\", \"hous\", \"room\", \"face\", \"behind\", \"dark\", \"vast\", \"beneath\", \"saw\", \"came\", \"back\", \"wind\", \"small\", \"look\", \"close\", \"like\", \"night\", \"eye\", \"seem\", \"one\", \"upon\", \"old\", \"could\", \"regard\", \"suffici\", \"arriv\", \"usual\", \"murder\", \"latter\", \"occas\", \"corp\", \"parti\", \"prevent\", \"earli\", \"boat\", \"lord\", \"fulli\", \"shore\", \"balloon\", \"agit\", \"health\", \"restor\", \"progress\", \"alter\", \"windsor\", \"shut\", \"intellig\", \"pursu\", \"commit\", \"mari\", \"echo\", \"warm\", \"appli\", \"degre\", \"attent\", \"examin\", \"state\", \"effect\", \"entir\", \"danger\", \"upon\", \"observ\", \"minut\", \"manner\", \"appear\", \"howev\", \"time\", \"first\", \"u\", \"remain\", \"made\", \"posit\", \"found\", \"point\", \"return\", \"could\", \"day\", \"present\", \"without\", \"bodi\", \"would\", \"might\", \"everi\", \"even\", \"one\", \"raymond\", \"length\", \"place\", \"pas\", \"natur\"], \"Total\": [2574.0, 655.0, 522.0, 386.0, 338.0, 510.0, 566.0, 421.0, 314.0, 581.0, 689.0, 273.0, 362.0, 330.0, 672.0, 245.0, 428.0, 392.0, 628.0, 237.0, 236.0, 230.0, 1346.0, 222.0, 225.0, 209.0, 209.0, 238.0, 272.0, 263.0, 2574.33154296875, 655.6455688476562, 314.2549133300781, 225.80477905273438, 166.6956787109375, 137.2342529296875, 100.28874969482422, 94.9698257446289, 87.3181381225586, 66.78623962402344, 91.88573455810547, 65.17741394042969, 62.611053466796875, 105.04595184326172, 61.82522964477539, 61.99346923828125, 57.66551208496094, 57.3248176574707, 57.821205139160156, 57.06068801879883, 54.05276107788086, 53.4378662109375, 50.859066009521484, 50.41371536254883, 51.23548889160156, 49.476806640625, 48.2140007019043, 48.60897445678711, 47.17475509643555, 47.316776275634766, 138.9771270751953, 239.76174926757812, 253.26730346679688, 173.9947509765625, 510.468017578125, 265.5715637207031, 116.4833984375, 103.60050201416016, 84.4308853149414, 175.56263732910156, 445.3394775390625, 81.09442901611328, 689.1874389648438, 388.996826171875, 405.63916015625, 585.4360961914062, 171.8404541015625, 430.416748046875, 268.6224365234375, 135.1551971435547, 515.77978515625, 1554.6392822265625, 410.41168212890625, 292.23553466796875, 1268.2215576171875, 738.7586059570312, 1163.661376953125, 482.912109375, 387.58843994140625, 354.7919006347656, 766.997314453125, 456.4758605957031, 570.2274169921875, 1346.680419921875, 827.00146484375, 522.2959594726562, 386.388671875, 273.70050048828125, 230.34417724609375, 147.4601287841797, 245.08580017089844, 145.56158447265625, 143.78651428222656, 138.08355712890625, 123.966064453125, 119.49921417236328, 115.2318115234375, 111.73966979980469, 108.67706298828125, 95.95263671875, 94.08964538574219, 132.1890869140625, 88.85107421875, 89.75202941894531, 89.43316650390625, 88.6392822265625, 85.32890319824219, 76.49043273925781, 76.46417236328125, 74.32971954345703, 73.58409881591797, 73.59194946289062, 69.95665740966797, 68.56568145751953, 66.71192932128906, 86.60575103759766, 241.85679626464844, 263.045654296875, 566.5840454101562, 392.1042785644531, 284.419189453125, 114.07791900634766, 157.24549865722656, 193.4027099609375, 270.6751708984375, 326.1112060546875, 424.5170593261719, 163.86013793945312, 651.4191284179688, 408.0683898925781, 406.11749267578125, 672.0374755859375, 539.1793212890625, 1163.661376953125, 306.2103576660156, 311.14013671875, 1268.2215576171875, 570.2274169921875, 766.997314453125, 570.9384155273438, 380.30517578125, 1554.6392822265625, 1346.680419921875, 350.51007080078125, 738.7586059570312, 700.1765747070312, 86.53181457519531, 82.84907531738281, 81.83476257324219, 80.85772705078125, 79.5661849975586, 77.5680160522461, 69.80005645751953, 91.61551666259766, 64.80984497070312, 64.65372467041016, 61.337890625, 55.979373931884766, 51.413326263427734, 51.062171936035156, 48.56551742553711, 47.50810241699219, 47.665035247802734, 47.399784088134766, 46.64680480957031, 43.750553131103516, 44.37677001953125, 43.99336242675781, 42.101905822753906, 41.51152038574219, 40.69137191772461, 39.63815689086914, 39.04338836669922, 45.75239181518555, 37.4965705871582, 36.30217361450195, 66.23004913330078, 195.07337951660156, 79.41625213623047, 421.45928955078125, 157.41676330566406, 272.1022033691406, 581.41796875, 293.1541748046875, 101.50462341308594, 148.1507110595703, 628.4666137695312, 131.74899291992188, 1554.6392822265625, 738.7586059570312, 67.80492401123047, 74.37519836425781, 689.1874389648438, 411.8535461425781, 314.6603698730469, 424.127685546875, 1163.661376953125, 440.66534423828125, 314.27545166015625, 700.1765747070312, 388.996826171875, 827.00146484375, 570.2274169921875, 346.1107482910156, 510.468017578125, 338.26898193359375, 237.63693237304688, 236.67092895507812, 222.01771545410156, 209.83657836914062, 209.15968322753906, 195.3400421142578, 184.9300079345703, 174.07276916503906, 170.92149353027344, 162.98631286621094, 145.24728393554688, 136.5160369873047, 105.1290512084961, 98.26641845703125, 93.77227783203125, 91.6602554321289, 89.84281921386719, 84.93527221679688, 84.04593658447266, 81.36762237548828, 80.34895324707031, 80.04498291015625, 79.06218719482422, 78.10360717773438, 78.0951156616211, 74.89502716064453, 74.13221740722656, 72.50020599365234, 69.18453979492188, 330.87750244140625, 238.15866088867188, 362.629638671875, 217.18495178222656, 158.85061645507812, 428.830322265625, 303.3126220703125, 270.9210205078125, 118.42731475830078, 291.38446044921875, 146.13327026367188, 132.04403686523438, 497.8509826660156, 424.7289733886719, 302.7092590332031, 206.5349884033203, 223.21974182128906, 567.1917724609375, 270.07147216796875, 628.4666137695312, 562.2110595703125, 672.0374755859375, 642.6280517578125, 1554.6392822265625, 1346.680419921875, 581.41796875, 1268.2215576171875, 152.6020965576172, 140.36904907226562, 138.14378356933594, 134.11622619628906, 113.36106872558594, 105.98474884033203, 100.09967041015625, 97.15086364746094, 88.66620635986328, 87.73697662353516, 87.66148376464844, 83.9127197265625, 82.6134033203125, 81.99512481689453, 79.82293701171875, 78.26001739501953, 76.45767211914062, 75.7580795288086, 75.70491790771484, 72.38639068603516, 69.59204864501953, 65.00035858154297, 66.86896514892578, 60.25934600830078, 59.500213623046875, 57.04339599609375, 55.522891998291016, 56.894378662109375, 54.79978942871094, 53.284976959228516, 138.35528564453125, 154.8388671875, 84.84690856933594, 190.70179748535156, 131.39617919921875, 137.58224487304688, 108.66487121582031, 1346.680419921875, 246.19345092773438, 176.59103393554688, 175.1912841796875, 442.91265869140625, 328.08099365234375, 827.00146484375, 537.7432861328125, 572.3260498046875, 246.15621948242188, 529.030029296875, 134.3413848876953, 558.1837158203125, 271.1059265136719, 290.4288330078125, 1268.2215576171875, 700.1765747070312, 264.86834716796875, 353.71234130859375, 265.8848571777344, 1163.661376953125, 570.9384155273438, 493.3670959472656, 766.997314453125, 1554.6392822265625, 257.1628112792969, 275.73931884765625, 479.6102294921875, 321.4979248046875, 416.74560546875], \"loglift\": [30.0, 29.0, 28.0, 27.0, 26.0, 25.0, 24.0, 23.0, 22.0, 21.0, 20.0, 19.0, 18.0, 17.0, 16.0, 15.0, 14.0, 13.0, 12.0, 11.0, 10.0, 9.0, 8.0, 7.0, 6.0, 5.0, 4.0, 3.0, 2.0, 1.0, 1.4593000411987305, 1.458400011062622, 1.4571000337600708, 1.4562000036239624, 1.4550000429153442, 1.4539999961853027, 1.4519000053405762, 1.4514000415802002, 1.4507999420166016, 1.448099970817566, 1.447700023651123, 1.4474999904632568, 1.4471999406814575, 1.447100043296814, 1.4470000267028809, 1.4464999437332153, 1.4462000131607056, 1.4460999965667725, 1.4460999965667725, 1.4457000494003296, 1.4453999996185303, 1.445199966430664, 1.444100022315979, 1.444100022315979, 1.444100022315979, 1.444100022315979, 1.443600058555603, 1.44350004196167, 1.4430999755859375, 1.4430999755859375, 1.427899956703186, 1.4081000089645386, 1.3125, 1.3422000408172607, 1.2466000318527222, 1.3046000003814697, 1.367900013923645, 1.3724000453948975, 1.3787000179290771, 1.2482000589370728, 1.0358999967575073, 1.3741999864578247, 0.9218000173568726, 1.0362000465393066, 1.021399974822998, 0.9366000294685364, 1.195199966430664, 0.958299994468689, 1.0723999738693237, 1.245300054550171, 0.8208000063896179, 0.4535999894142151, 0.8668000102043152, 0.9836000204086304, 0.38589999079704285, 0.6057999730110168, 0.3474000096321106, 0.6858999729156494, 0.7590000033378601, 0.781000018119812, 0.2152000069618225, 0.5253000259399414, 0.3492000102996826, -0.3968000113964081, 0.01119999960064888, 1.5750999450683594, 1.5745999813079834, 1.573699951171875, 1.5733000040054321, 1.5714000463485718, 1.5713000297546387, 1.5713000297546387, 1.5713000297546387, 1.5709999799728394, 1.5703999996185303, 1.570199966430664, 1.5700000524520874, 1.5698000192642212, 1.5694999694824219, 1.56850004196167, 1.56850004196167, 1.5680999755859375, 1.5679999589920044, 1.5678999423980713, 1.5678999423980713, 1.5677000284194946, 1.5676000118255615, 1.56659996509552, 1.56659996509552, 1.5662000179290771, 1.5662000179290771, 1.566100001335144, 1.565500020980835, 1.5654000043869019, 1.5650999546051025, 1.541700005531311, 1.4392999410629272, 1.4178999662399292, 1.2928999662399292, 1.34089994430542, 1.3853000402450562, 1.492900013923645, 1.409600019454956, 1.363800048828125, 1.2453999519348145, 1.187999963760376, 1.092900037765503, 1.382599949836731, 0.9409999847412109, 1.0776000022888184, 1.0654000043869019, 0.8698999881744385, 0.8802000284194946, 0.4307999908924103, 0.9782000184059143, 0.9646000266075134, -0.013399999588727951, 0.5098000168800354, 0.2815999984741211, 0.45500001311302185, 0.737500011920929, -0.4424000084400177, -0.35269999504089355, 0.7886999845504761, 0.10760000348091125, 0.11050000041723251, 2.082200050354004, 2.0817999839782715, 2.081700086593628, 2.0815000534057617, 2.081399917602539, 2.080899953842163, 2.0799999237060547, 2.079400062561035, 2.0790998935699463, 2.0790998935699463, 2.0782999992370605, 2.077199935913086, 2.075900077819824, 2.075900077819824, 2.0750999450683594, 2.0748000144958496, 2.0745999813079834, 2.0745999813079834, 2.074399948120117, 2.0736000537872314, 2.0736000537872314, 2.0734000205993652, 2.072499990463257, 2.072200059890747, 2.072000026702881, 2.071700096130371, 2.071500062942505, 2.0713000297546387, 2.070199966430664, 2.069700002670288, 1.9713000059127808, 1.7782000303268433, 1.9119999408721924, 1.5118999481201172, 1.745300054550171, 1.5300999879837036, 1.093500018119812, 1.330199956893921, 1.7355999946594238, 1.573199987411499, 0.8500999808311462, 1.4824999570846558, -0.004600000102072954, 0.43619999289512634, 1.860200047492981, 1.8034000396728516, 0.41260001063346863, 0.6949999928474426, 0.8565999865531921, 0.6419000029563904, -0.13539999723434448, 0.5503000020980835, 0.7605000138282776, 0.08209999650716782, 0.5676000118255615, -0.12680000066757202, 0.19470000267028809, 0.6277999877929688, 0.2304999977350235, 1.5360000133514404, 1.534999966621399, 1.534999966621399, 1.5348000526428223, 1.534600019454956, 1.534600019454956, 1.5342999696731567, 1.53410005569458, 1.5338000059127808, 1.5338000059127808, 1.5334999561309814, 1.5329999923706055, 1.5326000452041626, 1.530900001525879, 1.530400037765503, 1.5299999713897705, 1.5298999547958374, 1.5296000242233276, 1.5291999578475952, 1.529099941253662, 1.5288000106811523, 1.5286999940872192, 1.5286999940872192, 1.528499960899353, 1.52839994430542, 1.52839994430542, 1.527999997138977, 1.527899980545044, 1.5276999473571777, 1.5270999670028687, 1.4637999534606934, 1.472499966621399, 1.429900050163269, 1.4359999895095825, 1.4575999975204468, 1.2657999992370605, 1.274899959564209, 1.2929999828338623, 1.448199987411499, 1.257699966430664, 1.4032000303268433, 1.4210000038146973, 1.0812000036239624, 1.090999960899353, 1.1751999855041504, 1.2829999923706055, 1.2374000549316406, 0.9089999794960022, 1.1266000270843506, 0.7605999708175659, 0.7714999914169312, 0.6384999752044678, 0.6071000099182129, 0.017500000074505806, -0.0008999999845400453, 0.47429999709129333, -0.3601999878883362, 1.4970999956130981, 1.4966000318527222, 1.4966000318527222, 1.496399998664856, 1.4953999519348145, 1.4948999881744385, 1.4944000244140625, 1.4941999912261963, 1.493399977684021, 1.493299961090088, 1.493299961090088, 1.4930000305175781, 1.4926999807357788, 1.4926999807357788, 1.492400050163269, 1.492300033569336, 1.4921000003814697, 1.4918999671936035, 1.4918999671936035, 1.4915000200271606, 1.4910999536514282, 1.4903000593185425, 1.4902000427246094, 1.4890999794006348, 1.4889999628067017, 1.4886000156402588, 1.4882999658584595, 1.4882999658584595, 1.4876999855041504, 1.4875999689102173, 1.4812999963760376, 1.4766000509262085, 1.4581999778747559, 1.3813999891281128, 1.3746999502182007, 1.3507000207901, 1.3832000494003296, 0.7760000228881836, 1.1771999597549438, 1.2496000528335571, 1.245300054550171, 0.9587000012397766, 1.0397000312805176, 0.7382000088691711, 0.8519999980926514, 0.7843999862670898, 1.0852999687194824, 0.7991999983787537, 1.301900029182434, 0.7049999833106995, 1.0046000480651855, 0.9495999813079834, 0.2685000002384186, 0.5267000198364258, 0.9505000114440918, 0.7940000295639038, 0.9452000260353088, 0.09600000083446503, 0.498199999332428, 0.5045999884605408, 0.19740000367164612, -0.33059999346733093, 0.9049999713897705, 0.8289999961853027, 0.2831000089645386, 0.6664000153541565, 0.4074999988079071], \"logprob\": [30.0, 29.0, 28.0, 27.0, 26.0, 25.0, 24.0, 23.0, 22.0, 21.0, 20.0, 19.0, 18.0, 17.0, 16.0, 15.0, 14.0, 13.0, 12.0, 11.0, 10.0, 9.0, 8.0, 7.0, 6.0, 5.0, 4.0, 3.0, 2.0, 1.0, -3.148099899291992, -4.516600131988525, -5.253300189971924, -5.584799766540527, -5.889500141143799, -6.085000038146973, -6.400700092315674, -6.455699920654297, -6.54040002822876, -6.811100006103516, -6.492400169372559, -6.835999965667725, -6.876500129699707, -6.359099864959717, -6.8892998695373535, -6.8871002197265625, -6.959799766540527, -6.965799808502197, -6.957200050354004, -6.970900058746338, -7.025300025939941, -7.0370001792907715, -7.087500095367432, -7.09630012512207, -7.080100059509277, -7.115099906921387, -7.141499996185303, -7.133299827575684, -7.163700103759766, -7.160699844360352, -6.098499774932861, -5.57289981842041, -5.613699913024902, -5.959400177001953, -4.978700160980225, -5.57420015335083, -6.335000038146973, -6.447700023651123, -6.645999908447266, -6.04449987411499, -5.325900077819824, -6.690899848937988, -5.003399848937988, -5.460899829864502, -5.433800220489502, -5.151700019836426, -6.118899822235107, -5.437600135803223, -5.795000076293945, -6.309000015258789, -5.394199848175049, -4.6579999923706055, -5.576700210571289, -5.799499988555908, -4.9293999671936035, -5.249899864196777, -5.053899765014648, -5.594900131225586, -5.741799831390381, -5.808199882507324, -5.603000164031982, -5.811800003051758, -5.765500068664551, -5.6519999504089355, -5.7316999435424805, -4.627299785614014, -4.929200172424316, -5.274899959564209, -5.447800159454346, -5.895699977874756, -5.387700080871582, -5.908699989318848, -5.92110013961792, -5.9618000984191895, -6.070300102233887, -6.1072001457214355, -6.143799781799316, -6.174699783325195, -6.202700138092041, -6.3282999992370605, -6.3480000495910645, -6.008399963378906, -6.405700206756592, -6.395699977874756, -6.3993000984191895, -6.408400058746338, -6.446599960327148, -6.5569000244140625, -6.557300090789795, -6.585899829864502, -6.5960001945495605, -6.5960001945495605, -6.647299766540527, -6.667399883270264, -6.695199966430664, -6.457600116729736, -5.5329999923706055, -5.4704999923706055, -4.828100204467773, -5.148200035095215, -5.424900054931641, -6.230899810791016, -5.993299961090088, -5.831999778747559, -5.6143999099731445, -5.485400199890137, -5.316800117492676, -5.979100227355957, -5.040500164031982, -5.371600151062012, -5.388700008392334, -5.08050012588501, -5.29040002822876, -4.9704999923706055, -5.758200168609619, -5.755799770355225, -5.328700065612793, -5.604800224304199, -5.536600112915039, -5.658400058746338, -5.782199859619141, -5.554100036621094, -5.607999801635742, -5.812600135803223, -5.7480998039245605, -5.798900127410889, -5.918000221252441, -5.9618000984191895, -5.974299907684326, -5.986499786376953, -6.002699851989746, -6.028600215911865, -6.135000228881836, -5.86359977722168, -6.210100173950195, -6.212500095367432, -6.265999794006348, -6.358500003814697, -6.444900035858154, -6.4517998695373535, -6.502699851989746, -6.525000095367432, -6.5218000411987305, -6.527400016784668, -6.543700218200684, -6.608500003814697, -6.594299793243408, -6.6031999588012695, -6.648099899291992, -6.662499904632568, -6.682600021362305, -6.709199905395508, -6.7245001792907715, -6.566100120544434, -6.766200065612793, -6.799099922180176, -6.296199798583984, -5.40910005569458, -6.173999786376953, -4.90500020980835, -5.656499862670898, -5.324399948120117, -5.001699924468994, -5.449699878692627, -6.104899883270264, -5.889200210571289, -5.167300224304199, -6.0971999168396, -5.116300106048584, -5.41949987411499, -6.383800029754639, -6.348100185394287, -5.512499809265137, -5.744999885559082, -5.852499961853027, -5.768799781799316, -5.5366997718811035, -5.8221001625061035, -5.949900150299072, -5.827199935913086, -5.929500102996826, -5.86959981918335, -5.919899940490723, -5.986100196838379, -5.994800090789795, -5.100900173187256, -5.454899787902832, -5.459000110626221, -5.523099899291992, -5.579800128936768, -5.583000183105469, -5.651599884033203, -5.706600189208984, -5.767399787902832, -5.785699844360352, -5.833499908447266, -5.9492998123168945, -6.011600017547607, -6.274600028991699, -6.342599868774414, -6.389800071716309, -6.412700176239014, -6.433000087738037, -6.48960018157959, -6.500199794769287, -6.532899856567383, -6.545599937438965, -6.5493998527526855, -6.5619001388549805, -6.57420015335083, -6.5742998123168945, -6.616600036621094, -6.626999855041504, -6.649400234222412, -6.696700096130371, -5.195199966430664, -5.515200138092041, -5.137400150299072, -5.644000053405762, -5.935100078582764, -5.133800029754639, -5.4710001945495605, -5.565800189971924, -6.2382001876831055, -5.52839994430542, -6.072999954223633, -6.156599998474121, -5.1691999435424805, -5.31820011138916, -5.572700023651123, -5.8471999168396, -5.815100193023682, -5.210999965667725, -5.735400199890137, -5.256800174713135, -5.3572998046875, -5.3119001388549805, -5.388000011444092, -5.094200134277344, -5.256199836730957, -5.6209001541137695, -5.67549991607666, -5.935800075531006, -6.019700050354004, -6.035799980163574, -6.0655999183654785, -6.2347002029418945, -6.302499771118164, -6.360099792480469, -6.390200138092041, -6.482399940490723, -6.493000030517578, -6.493899822235107, -6.537899971008301, -6.553800106048584, -6.561299800872803, -6.588500022888184, -6.608399868011475, -6.631899833679199, -6.641200065612793, -6.642000198364258, -6.687099933624268, -6.726900100708008, -6.796000003814697, -6.7677001953125, -6.872900009155273, -6.885700225830078, -6.928299903869629, -6.955599784851074, -6.93120002746582, -6.969299793243408, -6.997499942779541, -6.049499988555908, -5.9415998458862305, -6.561600208282471, -5.828499794006348, -6.207799911499023, -6.185699939727783, -6.389200210571289, -4.479300022125244, -5.777299880981445, -6.037300109863281, -6.0493998527526855, -5.408599853515625, -5.627699851989746, -5.004700183868408, -5.321300029754639, -5.326600074768066, -5.8694000244140625, -5.390399932861328, -6.258399963378906, -5.4309000968933105, -5.853600025177002, -5.839700222015381, -5.046800136566162, -5.382599830627441, -5.931000232696533, -5.798099994659424, -5.932400226593018, -5.305300235748291, -5.615200042724609, -5.754799842834473, -5.620800018310547, -5.442299842834473, -6.00600004196167, -6.012199878692627, -6.0046000480651855, -6.021200180053711, -6.020699977874756]}, \"token.table\": {\"Topic\": [3, 1, 1, 4, 2, 5, 5, 1, 3, 5, 3, 3, 3, 1, 2, 3, 4, 5, 5, 1, 2, 4, 5, 1, 2, 1, 2, 5, 3, 1, 3, 4, 5, 5, 1, 1, 2, 1, 4, 2, 2, 4, 2, 2, 4, 5, 3, 4, 5, 1, 3, 4, 5, 4, 1, 2, 3, 5, 2, 3, 4, 5, 2, 5, 2, 4, 5, 1, 2, 3, 4, 5, 5, 1, 3, 1, 3, 1, 2, 3, 4, 5, 1, 2, 3, 4, 5, 4, 2, 5, 2, 3, 4, 1, 2, 3, 4, 5, 1, 3, 1, 2, 5, 1, 2, 5, 1, 2, 2, 2, 2, 3, 4, 3, 1, 5, 5, 1, 2, 5, 3, 3, 2, 5, 2, 1, 2, 5, 1, 2, 3, 4, 5, 1, 2, 3, 4, 1, 2, 3, 4, 5, 3, 5, 1, 1, 2, 4, 5, 2, 4, 5, 1, 2, 3, 5, 1, 2, 3, 4, 5, 2, 3, 5, 1, 2, 4, 5, 1, 2, 3, 4, 5, 3, 3, 4, 5, 4, 1, 3, 4, 5, 1, 2, 3, 4, 5, 3, 1, 2, 5, 5, 3, 2, 4, 1, 4, 3, 4, 1, 2, 3, 5, 3, 3, 1, 2, 3, 4, 5, 4, 2, 4, 2, 5, 2, 4, 1, 2, 5, 1, 2, 3, 4, 5, 3, 4, 5, 1, 4, 5, 3, 2, 3, 4, 5, 2, 1, 2, 1, 2, 3, 1, 3, 4, 2, 5, 1, 3, 5, 2, 4, 5, 1, 3, 5, 1, 2, 3, 5, 2, 4, 5, 1, 2, 3, 4, 2, 4, 1, 3, 4, 5, 1, 2, 3, 4, 3, 1, 2, 3, 4, 5, 5, 2, 1, 2, 3, 4, 5, 1, 2, 3, 5, 1, 2, 3, 4, 5, 1, 2, 3, 4, 5, 3, 2, 5, 5, 1, 1, 2, 5, 1, 2, 5, 1, 2, 3, 4, 5, 1, 2, 3, 5, 1, 2, 5, 3, 5, 2, 3, 4, 2, 3, 5, 4, 1, 5, 1, 2, 3, 5, 5, 1, 2, 3, 4, 5, 1, 2, 5, 1, 1, 2, 3, 4, 5, 2, 3, 4, 5, 4, 1, 4, 5, 3, 1, 5, 5, 1, 3, 4, 1, 2, 3, 4, 5, 4, 1, 4, 3, 2, 3, 5, 1, 2, 3, 4, 5, 2, 1, 2, 3, 4, 5, 1, 1, 4, 5, 4, 5, 1, 1, 2, 5, 5, 5, 1, 5, 3, 1, 5, 1, 2, 5, 3, 1, 3, 4, 1, 5, 1, 2, 5, 1, 5, 1, 2, 3, 5, 4, 4, 3, 4, 5, 4, 1, 1, 2, 3, 4, 5, 1, 3, 5, 2, 1, 2, 3, 4, 5, 1, 2, 3, 4, 5, 2, 1, 2, 3, 5, 5, 4, 1, 2, 5, 3, 4, 1, 3, 4, 5, 2, 2, 2, 5, 1, 2, 5, 1, 3, 4, 5, 4, 2, 4, 3, 4, 1, 5, 1, 1, 2, 2, 1, 4, 1, 2, 4, 1, 3, 4, 2, 1, 2, 4, 5, 1, 3, 5, 1, 3, 4, 5, 1, 2, 3, 4, 5, 4, 4, 3, 1, 3, 4, 5, 1, 2, 5, 1, 2, 4, 5, 5, 4, 4, 5, 4, 3, 1, 2, 4, 3, 5, 4, 5, 1, 2, 4, 5, 3, 4, 1, 2, 4, 5, 4, 5, 1, 2, 3, 4, 5, 1, 2, 5, 1, 2, 3, 5, 1, 3, 1, 2, 3, 1, 3, 5, 1, 2, 3, 5], \"Freq\": [0.9828447103500366, 0.9960067272186279, 0.9998711943626404, 0.9956570267677307, 0.8238733410835266, 0.17087744176387787, 0.9940140247344971, 0.10569220781326294, 0.8908343315124512, 0.9914925694465637, 0.9915657043457031, 0.99288409948349, 0.9732761979103088, 0.19868476688861847, 0.08805347979068756, 0.022577814757823944, 0.1106312945485115, 0.5802498459815979, 0.9946518540382385, 0.9857975244522095, 0.09669177979230881, 0.9024566411972046, 0.9917203187942505, 0.9713828563690186, 0.028781713917851448, 0.006458326708525419, 0.012916653417050838, 0.9752073287963867, 0.991509735584259, 0.16517499089241028, 0.042945496737957, 0.697038471698761, 0.09580149501562119, 0.9838995933532715, 0.9839746356010437, 0.12404034286737442, 0.8724170923233032, 0.07599598169326782, 0.9119517803192139, 0.9935883283615112, 0.10602523386478424, 0.8860680460929871, 0.991956353187561, 0.9917497634887695, 0.9960131645202637, 0.9891229867935181, 0.1015477180480957, 0.3234482705593109, 0.5716760158538818, 0.7681543827056885, 0.0058193514123559, 0.15712249279022217, 0.0698322206735611, 0.9869450330734253, 0.390897661447525, 0.10169695317745209, 0.2923787236213684, 0.2192840427160263, 0.06592439115047455, 0.16245654225349426, 0.6404083967208862, 0.1318487823009491, 0.8066071271896362, 0.18614010512828827, 0.14810894429683685, 0.6627874970436096, 0.1888388991355896, 0.39577174186706543, 0.189387708902359, 0.24766084551811218, 0.05341704562306404, 0.11169018596410751, 0.9817087054252625, 0.9900429248809814, 0.009519643150269985, 0.9125164151191711, 0.07398781925439835, 0.916983962059021, 0.07721970230340958, 0.9919607043266296, 0.982878565788269, 0.988153874874115, 0.34142300486564636, 0.20422299206256866, 0.013404597528278828, 0.14981609582901, 0.29095861315727234, 0.9892603158950806, 0.11043126881122589, 0.8834501504898071, 0.17502649128437042, 0.06520594656467438, 0.7550162672996521, 0.16281607747077942, 0.231370210647583, 0.13425184786319733, 0.09569014608860016, 0.37704774737358093, 0.2858653664588928, 0.7051345705986023, 0.25730982422828674, 0.6077412366867065, 0.13478133082389832, 0.9917935729026794, 0.014455537311732769, 0.9829765558242798, 0.9903630018234253, 0.9916210174560547, 0.9921528697013855, 0.9955641031265259, 0.9974406361579895, 0.06951212882995605, 0.9278358221054077, 0.989799439907074, 0.9805234670639038, 0.9924541115760803, 0.984279990196228, 0.11415857076644897, 0.0076105715706944466, 0.8828262686729431, 0.9893049597740173, 0.9926772117614746, 0.9204235076904297, 0.07889344543218613, 0.9951565265655518, 0.9884591102600098, 0.13809920847415924, 0.8576688170433044, 0.2881366014480591, 0.273794949054718, 0.07170820236206055, 0.0951763466000557, 0.2711873948574066, 0.31764206290245056, 0.6008113622665405, 0.04185980558395386, 0.04185980558395386, 0.16215106844902039, 0.30606013536453247, 0.03243021294474602, 0.13174773752689362, 0.36889368295669556, 0.035357799381017685, 0.9546605944633484, 0.9748205542564392, 0.09672079980373383, 0.4940200746059418, 0.40622735023498535, 0.0029760245233774185, 0.0442933514714241, 0.7825158834457397, 0.16979117691516876, 0.1810287982225418, 0.7167262434959412, 0.01477786060422659, 0.08497270196676254, 0.1060028076171875, 0.6171718835830688, 0.0588904470205307, 0.11306966096162796, 0.1060028076171875, 0.7906060218811035, 0.038255129009485245, 0.16832256317138672, 0.15427131950855255, 0.5431635975837708, 0.2635468542575836, 0.03856782987713814, 0.2045585811138153, 0.15062949061393738, 0.0204558577388525, 0.10227929055690765, 0.5225541591644287, 0.9835551381111145, 0.5464937686920166, 0.15180382132530212, 0.29601743817329407, 0.9914126992225647, 0.24201616644859314, 0.7529391646385193, 0.9363505840301514, 0.06298322230577469, 0.20423384010791779, 0.08420167118310928, 0.008957624435424805, 0.25260499119758606, 0.4514642655849457, 0.9791984558105469, 0.37944701313972473, 0.4536246359348297, 0.16547313332557678, 0.9878636002540588, 0.9944913387298584, 0.9922070503234863, 0.9954819679260254, 0.8646990656852722, 0.13424551486968994, 0.7964023351669312, 0.19172649085521698, 0.6775308847427368, 0.2196391373872757, 0.052117761224508286, 0.0483950637280941, 0.9938541054725647, 0.9774201512336731, 0.46178174018859863, 0.018636932596564293, 0.13460005819797516, 0.21950164437294006, 0.16359084844589233, 0.9917643070220947, 0.9884190559387207, 0.987555205821991, 0.9985058307647705, 0.9899933934211731, 0.9989941120147705, 0.9939485192298889, 0.024611560627818108, 0.8262452483177185, 0.1511853039264679, 0.0031819220166653395, 0.14636841416358948, 0.2640995383262634, 0.29273682832717896, 0.29273682832717896, 0.13991548120975494, 0.7625393867492676, 0.0979408323764801, 0.35966727137565613, 0.009144083596765995, 0.6309417486190796, 0.9932815432548523, 0.9937699437141418, 0.9738276600837708, 0.9880495667457581, 0.9791012406349182, 0.9900717735290527, 0.9943337440490723, 0.9893101453781128, 0.6555323600769043, 0.12596504390239716, 0.21851077675819397, 0.890831470489502, 0.005747299641370773, 0.10345139354467392, 0.9863250255584717, 0.990708589553833, 0.08869053423404694, 0.4673308730125427, 0.4434526562690735, 0.19221052527427673, 0.29738232493400574, 0.5113525390625, 0.8064802885055542, 0.09618572145700455, 0.09618572145700455, 0.1288423091173172, 0.753639280796051, 0.00529488967731595, 0.11295764893293381, 0.019303441047668457, 0.8962312340736389, 0.0827290341258049, 0.0891057699918747, 0.16229979693889618, 0.28959375619888306, 0.45984941720962524, 0.9910046458244324, 0.00756492093205452, 0.5273568630218506, 0.023265743628144264, 0.19000357389450073, 0.2578619718551636, 0.3298386037349701, 0.5486424565315247, 0.09144040942192078, 0.029391558840870857, 0.9875043034553528, 0.12517811357975006, 0.24683009088039398, 0.09344282001256943, 0.5324477553367615, 0.0017630720976740122, 0.9925749897956848, 0.9994333386421204, 0.2986598014831543, 0.06237831339240074, 0.03780503571033478, 0.1058541014790535, 0.4952459931373596, 0.4953708052635193, 0.09288202971220016, 0.18576405942440033, 0.22446489334106445, 0.42639097571372986, 0.23011575639247894, 0.19086071848869324, 0.11641150712966919, 0.03519417718052864, 0.23373746871948242, 0.21331380307674408, 0.21331380307674408, 0.19062083959579468, 0.14750422537326813, 0.9825047254562378, 0.22261381149291992, 0.7762943506240845, 0.9905824065208435, 0.9964359402656555, 0.6556795835494995, 0.22679327428340912, 0.1167648583650589, 0.6227853298187256, 0.044484663754701614, 0.33192405104637146, 0.2340291440486908, 0.0028892485424876213, 0.2311398833990097, 0.4738367795944214, 0.057784970849752426, 0.25747084617614746, 0.32577943801879883, 0.050793569535017014, 0.36606401205062866, 0.30501818656921387, 0.43123263120651245, 0.26031726598739624, 0.22084926068782806, 0.775803804397583, 0.9958224296569824, 0.983009397983551, 0.9946087002754211, 0.8458111882209778, 0.06359482556581497, 0.08903275430202484, 0.9938372373580933, 0.9509440064430237, 0.045878876000642776, 0.606389045715332, 0.030203286558389664, 0.07202322036027908, 0.2904162108898163, 0.9968149065971375, 0.5927205681800842, 0.1793534755706787, 0.052951980382204056, 0.01537315547466278, 0.15885594487190247, 0.29274454712867737, 0.3719295263290405, 0.3335368037223816, 0.9874719977378845, 0.3296930193901062, 0.34372252225875854, 0.15081702172756195, 0.08066956698894501, 0.09469906240701675, 0.16541829705238342, 0.12984447181224823, 0.4642384648323059, 0.24012334644794464, 0.9859771728515625, 0.8547601699829102, 0.1355566829442978, 0.00753092672675848, 0.9839004278182983, 0.27620556950569153, 0.7230086922645569, 0.9890142679214478, 0.2855089008808136, 0.3680656850337982, 0.3457065522670746, 0.36600130796432495, 0.1325066238641739, 0.12285808473825455, 0.21870024502277374, 0.16016577184200287, 0.9992048144340515, 0.9238325357437134, 0.0710640400648117, 0.9885379076004028, 0.9968796372413635, 0.9860477447509766, 0.9924863576889038, 0.003110439982265234, 0.24883520603179932, 0.06220880150794983, 0.2519456446170807, 0.43235117197036743, 0.9961419701576233, 0.16054703295230865, 0.0458705797791481, 0.14386682212352753, 0.3565395176410675, 0.2960737645626068, 0.9866521954536438, 0.3245963752269745, 0.06639470905065536, 0.6086181998252869, 0.17864933609962463, 0.8188095092773438, 0.9918060898780823, 0.3058122992515564, 0.1170392781496048, 0.577645480632782, 0.9916001558303833, 0.9946621060371399, 0.9897880554199219, 0.991593062877655, 0.9867569208145142, 0.8088281154632568, 0.18796710669994354, 0.9814112186431885, 0.44718751311302185, 0.5521793961524963, 0.9883555769920349, 0.9903604984283447, 0.010883082635700703, 0.9858699440956116, 0.9882275462150574, 0.996054470539093, 0.008124921470880508, 0.33312177658081055, 0.6581186652183533, 0.9958266615867615, 0.9906886219978333, 0.09985234588384628, 0.16527284681797028, 0.1583864837884903, 0.5750117897987366, 0.9927967190742493, 0.993100643157959, 0.046156998723745346, 0.7681843042373657, 0.18462799489498138, 0.9871124029159546, 0.9990153908729553, 0.034146763384342194, 0.17475108802318573, 0.06427626311779022, 0.6327194571495056, 0.09239712357521057, 0.8090614676475525, 0.15475994348526, 0.03526175767183304, 0.9927878379821777, 0.3921346366405487, 0.27602773904800415, 0.1248696893453598, 0.17087431252002716, 0.0350511409342289, 0.19295765459537506, 0.2054065316915512, 0.06068829447031021, 0.3936958611011505, 0.14627434313297272, 0.996145486831665, 0.5073396563529968, 0.44533148407936096, 0.04509685933589935, 0.9896904826164246, 0.9870049357414246, 0.9944555163383484, 0.9963565468788147, 0.9699124693870544, 0.023093154653906822, 0.6994755268096924, 0.2955530285835266, 0.05823857709765434, 0.08959780633449554, 0.7391819357872009, 0.10751736909151077, 0.9893283247947693, 0.9933804273605347, 0.9955697059631348, 0.004080203827470541, 0.9750977754592896, 0.8515632152557373, 0.14446161687374115, 0.9933052062988281, 0.9916761517524719, 0.11011957377195358, 0.8862003684043884, 0.9949710369110107, 0.07554267346858978, 0.9253977537155151, 0.9898888468742371, 0.9971651434898376, 0.9819352626800537, 0.9973708391189575, 0.9910062551498413, 0.9902405142784119, 0.9904213547706604, 0.9939295649528503, 0.9100009202957153, 0.08584914356470108, 0.9758860468864441, 0.9945299625396729, 0.9847270250320435, 0.5847465991973877, 0.18717694282531738, 0.22925548255443573, 0.9920621514320374, 0.2911832630634308, 0.49890637397766113, 0.04636676236987114, 0.16321100294589996, 0.08202041685581207, 0.7330574989318848, 0.18454593420028687, 0.0036750896833837032, 0.5696389079093933, 0.3087075352668762, 0.11392778158187866, 0.23458240926265717, 0.09068907797336578, 0.1088268905878067, 0.10036257654428482, 0.46553725004196167, 0.9906189441680908, 0.9982592463493347, 0.9897515177726746, 0.08252231776714325, 0.2357780486345291, 0.3843182325363159, 0.2970803380012512, 0.2708246409893036, 0.2411212921142578, 0.4874843657016754, 0.1559389978647232, 0.14554306864738464, 0.2146017700433731, 0.48415347933769226, 0.9916771650314331, 0.9889883995056152, 0.8759127855300903, 0.1231752336025238, 0.9865651726722717, 0.9876776337623596, 0.300510972738266, 0.6776829361915588, 0.018398631364107132, 0.8310641646385193, 0.15110257267951965, 0.9954160451889038, 0.9854052662849426, 0.6458942294120789, 0.06902686506509781, 0.09367931634187698, 0.19228912889957428, 0.9893921613693237, 0.9962199330329895, 0.9831088781356812, 0.179146409034729, 0.7746871709823608, 0.04841794818639755, 0.9973196983337402, 0.9846099615097046, 0.23748111724853516, 0.13287633657455444, 0.05088881030678749, 0.08481468260288239, 0.4919251501560211, 0.5531031489372253, 0.3776695728302002, 0.06822417676448822, 0.329133540391922, 0.3179619014263153, 0.10827892273664474, 0.24491660296916962, 0.9971207976341248, 0.9861339926719666, 0.06074894964694977, 0.3374941647052765, 0.5939897298812866, 0.19930750131607056, 0.5599591732025146, 0.23964354395866394, 0.24254737794399261, 0.5296129584312439, 0.09364170581102371, 0.13355456292629242], \"Term\": [\"'em\", \".\", \"``\", \"across\", \"affect\", \"affect\", \"agit\", \"ago\", \"ago\", \"alter\", \"anxieti\", \"anyth\", \"aout\", \"appear\", \"appear\", \"appear\", \"appear\", \"appear\", \"appli\", \"arkham\", \"around\", \"around\", \"arriv\", \"ask\", \"ask\", \"attent\", \"attent\", \"attent\", \"aw\", \"back\", \"back\", \"back\", \"back\", \"balloon\", \"beat\", \"beauti\", \"beauti\", \"behind\", \"behind\", \"belov\", \"beneath\", \"beneath\", \"bestow\", \"bitter\", \"black\", \"boat\", \"bodi\", \"bodi\", \"bodi\", \"book\", \"book\", \"book\", \"book\", \"build\", \"call\", \"call\", \"call\", \"call\", \"came\", \"came\", \"came\", \"came\", \"child\", \"child\", \"close\", \"close\", \"close\", \"come\", \"come\", \"come\", \"come\", \"come\", \"commit\", \"conceiv\", \"conceiv\", \"concern\", \"concern\", \"convers\", \"convers\", \"convinc\", \"corner\", \"corp\", \"could\", \"could\", \"could\", \"could\", \"could\", \"cover\", \"danger\", \"danger\", \"dark\", \"dark\", \"dark\", \"day\", \"day\", \"day\", \"day\", \"day\", \"de\", \"de\", \"death\", \"death\", \"death\", \"deepli\", \"degre\", \"degre\", \"demand\", \"depart\", \"despair\", \"devot\", \"die\", \"door\", \"door\", \"dr\", \"dupin\", \"earli\", \"echo\", \"effect\", \"effect\", \"effect\", \"eight\", \"elizabeth\", \"endeavour\", \"endeavour\", \"endur\", \"english\", \"entir\", \"entir\", \"even\", \"even\", \"even\", \"even\", \"even\", \"ever\", \"ever\", \"ever\", \"ever\", \"everi\", \"everi\", \"everi\", \"everi\", \"everi\", \"examin\", \"examin\", \"explan\", \"eye\", \"eye\", \"eye\", \"eye\", \"face\", \"face\", \"face\", \"father\", \"father\", \"father\", \"father\", \"fear\", \"fear\", \"fear\", \"fear\", \"fear\", \"feel\", \"feel\", \"feel\", \"felt\", \"felt\", \"felt\", \"felt\", \"first\", \"first\", \"first\", \"first\", \"first\", \"fish\", \"five\", \"five\", \"five\", \"floor\", \"folk\", \"folk\", \"foot\", \"foot\", \"found\", \"found\", \"found\", \"found\", \"found\", \"frantic\", \"friend\", \"friend\", \"friend\", \"fulli\", \"geniu\", \"gentl\", \"gilman\", \"go\", \"go\", \"gold\", \"gold\", \"good\", \"good\", \"good\", \"good\", \"got\", \"govern\", \"great\", \"great\", \"great\", \"great\", \"great\", \"green\", \"grief\", \"hair\", \"happi\", \"health\", \"heart\", \"hill\", \"hope\", \"hope\", \"hope\", \"hour\", \"hour\", \"hour\", \"hour\", \"hour\", \"hous\", \"hous\", \"hous\", \"howev\", \"howev\", \"howev\", \"hundr\", \"idri\", \"impati\", \"inch\", \"intellig\", \"intens\", \"investig\", \"joy\", \"know\", \"know\", \"know\", \"known\", \"known\", \"known\", \"languag\", \"latter\", \"le\", \"le\", \"le\", \"length\", \"length\", \"length\", \"letter\", \"letter\", \"letter\", \"life\", \"life\", \"life\", \"life\", \"light\", \"light\", \"light\", \"like\", \"like\", \"like\", \"like\", \"listen\", \"listen\", \"littl\", \"littl\", \"littl\", \"littl\", \"live\", \"live\", \"live\", \"live\", \"lock\", \"look\", \"look\", \"look\", \"look\", \"look\", \"lord\", \"love\", \"made\", \"made\", \"made\", \"made\", \"made\", \"make\", \"make\", \"make\", \"make\", \"man\", \"man\", \"man\", \"man\", \"man\", \"mani\", \"mani\", \"mani\", \"mani\", \"mani\", \"mankind\", \"manner\", \"manner\", \"mari\", \"matter\", \"may\", \"may\", \"may\", \"mean\", \"mean\", \"mean\", \"men\", \"men\", \"men\", \"men\", \"men\", \"might\", \"might\", \"might\", \"might\", \"mind\", \"mind\", \"mind\", \"minut\", \"minut\", \"miseri\", \"monsieur\", \"moon\", \"mother\", \"mother\", \"mother\", \"mountain\", \"mr\", \"mr\", \"much\", \"much\", \"much\", \"much\", \"murder\", \"must\", \"must\", \"must\", \"must\", \"must\", \"natur\", \"natur\", \"natur\", \"necess\", \"never\", \"never\", \"never\", \"never\", \"never\", \"night\", \"night\", \"night\", \"night\", \"north\", \"noth\", \"noth\", \"noth\", \"obe\", \"observ\", \"observ\", \"occas\", \"old\", \"old\", \"old\", \"one\", \"one\", \"one\", \"one\", \"one\", \"open\", \"ordinari\", \"ordinari\", \"outsid\", \"pain\", \"parent\", \"parti\", \"pas\", \"pas\", \"pas\", \"pas\", \"pas\", \"passion\", \"place\", \"place\", \"place\", \"place\", \"place\", \"plea\", \"point\", \"point\", \"point\", \"posit\", \"posit\", \"practic\", \"present\", \"present\", \"present\", \"prevent\", \"progress\", \"promis\", \"pursu\", \"quantiti\", \"question\", \"question\", \"quickli\", \"raymond\", \"raymond\", \"readi\", \"realli\", \"realli\", \"red\", \"refer\", \"regard\", \"remain\", \"remain\", \"remain\", \"repli\", \"restor\", \"return\", \"return\", \"return\", \"return\", \"rock\", \"roof\", \"room\", \"room\", \"room\", \"round\", \"said\", \"saw\", \"saw\", \"saw\", \"saw\", \"saw\", \"say\", \"say\", \"say\", \"seat\", \"see\", \"see\", \"see\", \"see\", \"see\", \"seem\", \"seem\", \"seem\", \"seem\", \"seem\", \"sensat\", \"shall\", \"shall\", \"shall\", \"shore\", \"shut\", \"side\", \"sir\", \"sister\", \"sister\", \"six\", \"six\", \"small\", \"small\", \"small\", \"small\", \"solitud\", \"sorrow\", \"soul\", \"soul\", \"speech\", \"spirit\", \"spirit\", \"spoken\", \"stair\", \"state\", \"state\", \"stone\", \"stood\", \"stood\", \"stop\", \"street\", \"strong\", \"suffici\", \"sure\", \"suspect\", \"sweet\", \"sympathi\", \"tale\", \"tale\", \"tast\", \"tear\", \"templ\", \"thing\", \"thing\", \"thing\", \"thou\", \"thought\", \"thought\", \"thought\", \"thought\", \"thousand\", \"thousand\", \"thousand\", \"three\", \"three\", \"three\", \"three\", \"time\", \"time\", \"time\", \"time\", \"time\", \"top\", \"tree\", \"twenti\", \"two\", \"two\", \"two\", \"two\", \"u\", \"u\", \"u\", \"upon\", \"upon\", \"upon\", \"upon\", \"usual\", \"valley\", \"vast\", \"vast\", \"villag\", \"virtu\", \"voic\", \"voic\", \"voic\", \"wait\", \"wait\", \"wall\", \"warm\", \"well\", \"well\", \"well\", \"well\", \"whether\", \"white\", \"wholli\", \"wind\", \"wind\", \"wind\", \"window\", \"windsor\", \"without\", \"without\", \"without\", \"without\", \"without\", \"word\", \"word\", \"word\", \"would\", \"would\", \"would\", \"would\", \"write\", \"wrote\", \"ye\", \"ye\", \"ye\", \"year\", \"year\", \"year\", \"yet\", \"yet\", \"yet\", \"yet\"]}, \"R\": 30, \"lambda.step\": 0.01, \"plot.opts\": {\"xlab\": \"PC1\", \"ylab\": \"PC2\"}, \"topic.order\": [1, 2, 3, 4, 5]};\n",
       "\n",
       "function LDAvis_load_lib(url, callback){\n",
       "  var s = document.createElement('script');\n",
       "  s.src = url;\n",
       "  s.async = true;\n",
       "  s.onreadystatechange = s.onload = callback;\n",
       "  s.onerror = function(){console.warn(\"failed to load library \" + url);};\n",
       "  document.getElementsByTagName(\"head\")[0].appendChild(s);\n",
       "}\n",
       "\n",
       "if(typeof(LDAvis) !== \"undefined\"){\n",
       "   // already loaded: just create the visualization\n",
       "   !function(LDAvis){\n",
       "       new LDAvis(\"#\" + \"ldavis_el234671398370364016729232337155\", ldavis_el234671398370364016729232337155_data);\n",
       "   }(LDAvis);\n",
       "}else if(typeof define === \"function\" && define.amd){\n",
       "   // require.js is available: use it to load d3/LDAvis\n",
       "   require.config({paths: {d3: \"https://cdnjs.cloudflare.com/ajax/libs/d3/3.5.5/d3.min\"}});\n",
       "   require([\"d3\"], function(d3){\n",
       "      window.d3 = d3;\n",
       "      LDAvis_load_lib(\"https://cdn.rawgit.com/bmabey/pyLDAvis/files/ldavis.v1.0.0.js\", function(){\n",
       "        new LDAvis(\"#\" + \"ldavis_el234671398370364016729232337155\", ldavis_el234671398370364016729232337155_data);\n",
       "      });\n",
       "    });\n",
       "}else{\n",
       "    // require.js not available: dynamically load d3 & LDAvis\n",
       "    LDAvis_load_lib(\"https://cdnjs.cloudflare.com/ajax/libs/d3/3.5.5/d3.min.js\", function(){\n",
       "         LDAvis_load_lib(\"https://cdn.rawgit.com/bmabey/pyLDAvis/files/ldavis.v1.0.0.js\", function(){\n",
       "                 new LDAvis(\"#\" + \"ldavis_el234671398370364016729232337155\", ldavis_el234671398370364016729232337155_data);\n",
       "            })\n",
       "         });\n",
       "}\n",
       "</script>"
      ],
      "text/plain": [
       "<IPython.core.display.HTML object>"
      ]
     },
     "execution_count": 22,
     "metadata": {},
     "output_type": "execute_result"
    }
   ],
   "source": [
    "lda_display = pyLDAvis.gensim.prepare(lda, corpus, dictionary, sort_topics=False)\n",
    "pyLDAvis.display(lda_display)"
   ]
  },
  {
   "cell_type": "code",
   "execution_count": null,
   "metadata": {
    "collapsed": true
   },
   "outputs": [],
   "source": []
  }
 ],
 "metadata": {
  "kernelspec": {
   "display_name": "nlp",
   "language": "python",
   "name": "nlp"
  },
  "language_info": {
   "codemirror_mode": {
    "name": "ipython",
    "version": 3
   },
   "file_extension": ".py",
   "mimetype": "text/x-python",
   "name": "python",
   "nbconvert_exporter": "python",
   "pygments_lexer": "ipython3",
   "version": "3.6.5"
  }
 },
 "nbformat": 4,
 "nbformat_minor": 2
}
