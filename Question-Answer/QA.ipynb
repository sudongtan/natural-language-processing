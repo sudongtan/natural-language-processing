{
 "cells": [
  {
   "cell_type": "markdown",
   "metadata": {},
   "source": [
    "# Question and Answer with Babi\n",
    "reference: https://github.com/keras-team/keras/blob/master/examples/babi_memnn.py"
   ]
  },
  {
   "cell_type": "code",
   "execution_count": 2,
   "metadata": {},
   "outputs": [
    {
     "name": "stderr",
     "output_type": "stream",
     "text": [
      "Using TensorFlow backend.\n"
     ]
    }
   ],
   "source": [
    "from keras.models import Sequential, Model\n",
    "from keras.layers.embeddings import Embedding\n",
    "from keras.layers import Input, Activation, Dense, Permute, Dropout, add, dot, concatenate\n",
    "from keras.layers import LSTM\n",
    "from keras.utils.data_utils import get_file\n",
    "from keras.preprocessing.sequence import pad_sequences\n",
    "from functools import reduce\n",
    "import tarfile\n",
    "import numpy as np\n",
    "import re"
   ]
  },
  {
   "cell_type": "code",
   "execution_count": 3,
   "metadata": {},
   "outputs": [],
   "source": [
    "def tokenize(sent):\n",
    "    '''Return the tokens of a sentence including punctuation.\n",
    "    >>> tokenize('Bob dropped the apple. Where is the apple?')\n",
    "    ['Bob', 'dropped', 'the', 'apple', '.', 'Where', 'is', 'the', 'apple', '?']\n",
    "    '''\n",
    "    return [x.strip() for x in re.split('(\\W+)?', sent) if x.strip()]\n",
    "\n",
    "def parse_stories(lines, only_supporting=False):\n",
    "    '''Parse stories provided in the bAbi tasks format\n",
    "    If only_supporting is true, only the sentences\n",
    "    that support the answer are kept.\n",
    "    '''\n",
    "    data = []\n",
    "    story = []\n",
    "    for line in lines:\n",
    "        line = line.decode('utf-8').strip()\n",
    "        nid, line = line.split(' ', 1)\n",
    "        nid = int(nid)\n",
    "        if nid == 1:\n",
    "            story = []\n",
    "        if '\\t' in line:\n",
    "            q, a, supporting = line.split('\\t')\n",
    "            q = tokenize(q)\n",
    "            substory = None\n",
    "            if only_supporting:\n",
    "                # Only select the related substory\n",
    "                supporting = map(int, supporting.split())\n",
    "                substory = [story[i - 1] for i in supporting]\n",
    "            else:\n",
    "                # Provide all the substories\n",
    "                substory = [x for x in story if x]\n",
    "            data.append((substory, q, a))\n",
    "            story.append('')\n",
    "        else:\n",
    "            sent = tokenize(line)\n",
    "            story.append(sent)\n",
    "    return data\n",
    "\n",
    "\n",
    "def get_stories(f, only_supporting=False, max_length=None):\n",
    "    '''Given a file name, read the file,\n",
    "    retrieve the stories,\n",
    "    and then convert the sentences into a single story.\n",
    "    If max_length is supplied,\n",
    "    any stories longer than max_length tokens will be discarded.\n",
    "    '''\n",
    "    data = parse_stories(f.readlines(), only_supporting=only_supporting)\n",
    "    flatten = lambda data: reduce(lambda x, y: x + y, data)\n",
    "    data = [(flatten(story), q, answer) for story, q, answer in data if not max_length or len(flatten(story)) < max_length]\n",
    "    return data"
   ]
  },
  {
   "cell_type": "code",
   "execution_count": 6,
   "metadata": {},
   "outputs": [
    {
     "name": "stderr",
     "output_type": "stream",
     "text": [
      "/home/jupyter/.virtualenvs/gym/lib/python3.6/re.py:212: FutureWarning: split() requires a non-empty pattern match.\n",
      "  return _compile(pattern, flags).split(string, maxsplit)\n"
     ]
    }
   ],
   "source": [
    "challenge = 'tasks_1-20_v1-2/en-10k/qa1_single-supporting-fact_{}.txt'\n",
    "with tarfile.open('babi_tasks_1-20_v1-2.tar.gz') as tar:\n",
    "    train_stories = get_stories(tar.extractfile(challenge.format('train')))\n",
    "    test_stories = get_stories(tar.extractfile(challenge.format('test')))"
   ]
  },
  {
   "cell_type": "code",
   "execution_count": 22,
   "metadata": {},
   "outputs": [
    {
     "name": "stdout",
     "output_type": "stream",
     "text": [
      "['Mary', 'went', 'to', 'the', 'bedroom', '.', 'John', 'journeyed', 'to', 'the', 'bathroom', '.']\n",
      "['Where', 'is', 'John', '?']\n",
      "bathroom\n"
     ]
    }
   ],
   "source": [
    "story, question, answer = train_stories[10]\n",
    "print(story)\n",
    "print(question)\n",
    "print(answer)"
   ]
  },
  {
   "cell_type": "code",
   "execution_count": 7,
   "metadata": {},
   "outputs": [],
   "source": [
    "vocab = set()\n",
    "for story, q, answer in train_stories + test_stories:\n",
    "    vocab |= set(story + q + [answer])\n",
    "vocab = sorted(vocab)\n",
    "word2idx = dict((c, i + 1) for i, c in enumerate(vocab))"
   ]
  },
  {
   "cell_type": "code",
   "execution_count": 8,
   "metadata": {},
   "outputs": [],
   "source": [
    "vocab_size = len(vocab) + 1\n",
    "story_maxlen = max(map(len, (x for x, _, _ in train_stories + test_stories)))\n",
    "query_maxlen = max(map(len, (x for _, x, _ in train_stories + test_stories)))"
   ]
  },
  {
   "cell_type": "code",
   "execution_count": 56,
   "metadata": {},
   "outputs": [
    {
     "name": "stdout",
     "output_type": "stream",
     "text": [
      "22\n"
     ]
    }
   ],
   "source": [
    "print(vocab_size)"
   ]
  },
  {
   "cell_type": "code",
   "execution_count": 11,
   "metadata": {},
   "outputs": [],
   "source": [
    "def vectorize_stories(data, word2idx=word2idx, story_maxlen=story_maxlen, query_maxlen=query_maxlen):\n",
    "    inputs, queries, answers = [], [], []\n",
    "    for story, query, answer in data:\n",
    "        inputs.append([word2idx[w] for w in story])\n",
    "        queries.append([word2idx[w] for w in query])\n",
    "        answers.append(word2idx[answer])\n",
    "    return (pad_sequences(inputs, maxlen=story_maxlen),\n",
    "            pad_sequences(queries, maxlen=query_maxlen),\n",
    "            np.array(answers))"
   ]
  },
  {
   "cell_type": "code",
   "execution_count": 12,
   "metadata": {},
   "outputs": [],
   "source": [
    "inputs_train, queries_train, answers_train = vectorize_stories(train_stories)\n",
    "inputs_test, queries_test, answers_test = vectorize_stories(test_stories)"
   ]
  },
  {
   "cell_type": "code",
   "execution_count": 14,
   "metadata": {},
   "outputs": [
    {
     "name": "stdout",
     "output_type": "stream",
     "text": [
      "(10000, 68) (10000, 4) (10000,)\n",
      "(1000, 68) (1000, 4) (1000,)\n"
     ]
    }
   ],
   "source": [
    "print(inputs_train.shape, queries_train.shape, answers_train.shape)\n",
    "print(inputs_test.shape, queries_test.shape, answers_test.shape)"
   ]
  },
  {
   "cell_type": "code",
   "execution_count": 23,
   "metadata": {},
   "outputs": [
    {
     "name": "stdout",
     "output_type": "stream",
     "text": [
      "[ 0  0  0  0  0  0  0  0  0  0  0  0  0  0  0  0  0  0  0  0  0  0  0  0\n",
      "  0  0  0  0  0  0  0  0  0  0  0  0  0  0  0  0  0  0  0  0  0  0  0  0\n",
      "  0  0  0  0  0  0  0  0  5 21 19 18 10  1  4 14 19 18  9  1]\n"
     ]
    }
   ],
   "source": [
    "print(inputs_train[10])"
   ]
  },
  {
   "cell_type": "markdown",
   "metadata": {},
   "source": [
    "# memory network model"
   ]
  },
  {
   "cell_type": "code",
   "execution_count": 25,
   "metadata": {},
   "outputs": [],
   "source": [
    "story_encoder_m = Sequential()\n",
    "story_encoder_m.add(Embedding(input_dim=vocab_size, output_dim=64))\n",
    "story_encoder_m.add(Dropout(0.2))\n",
    "\n",
    "story_encoder_c = Sequential()\n",
    "story_encoder_c.add(Embedding(input_dim=vocab_size, output_dim=query_maxlen))\n",
    "story_encoder_c.add(Dropout(0.2))"
   ]
  },
  {
   "cell_type": "code",
   "execution_count": 26,
   "metadata": {},
   "outputs": [],
   "source": [
    "story_sequence = Input((story_maxlen,))\n",
    "story_encoded_m = input_encoder_m(input_sequence)\n",
    "story_encoded_c = input_encoder_c(input_sequence)"
   ]
  },
  {
   "cell_type": "code",
   "execution_count": 27,
   "metadata": {},
   "outputs": [],
   "source": [
    "question_encoder = Sequential()\n",
    "question_encoder.add(Embedding(input_dim=vocab_size, output_dim=64, input_length=query_maxlen))\n",
    "question_encoder.add(Dropout(0.2))"
   ]
  },
  {
   "cell_type": "code",
   "execution_count": 28,
   "metadata": {},
   "outputs": [],
   "source": [
    "question = Input((query_maxlen,))\n",
    "question_encoded = question_encoder(question)"
   ]
  },
  {
   "cell_type": "code",
   "execution_count": 29,
   "metadata": {},
   "outputs": [],
   "source": [
    "match = dot([story_encoded_m, question_encoded], axes=(2, 2))\n",
    "match = Activation('softmax')(match)\n",
    "response = add([match, story_encoded_c]) \n",
    "response = Permute((2, 1))(response)"
   ]
  },
  {
   "cell_type": "code",
   "execution_count": 30,
   "metadata": {},
   "outputs": [],
   "source": [
    "answer = concatenate([response, question_encoded])\n",
    "answer = LSTM(32)(answer) \n",
    "\n",
    "answer = Dropout(0.2)(answer)\n",
    "answer = Dense(vocab_size)(answer) \n",
    "answer = Activation('softmax')(answer)"
   ]
  },
  {
   "cell_type": "code",
   "execution_count": 31,
   "metadata": {},
   "outputs": [
    {
     "name": "stdout",
     "output_type": "stream",
     "text": [
      "Train on 10000 samples, validate on 1000 samples\n",
      "Epoch 1/120\n",
      "10000/10000 [==============================] - 3s 268us/step - loss: 1.9762 - acc: 0.1657 - val_loss: 1.8036 - val_acc: 0.1540\n",
      "Epoch 2/120\n",
      "10000/10000 [==============================] - 2s 199us/step - loss: 1.7690 - acc: 0.2215 - val_loss: 1.6227 - val_acc: 0.3590\n",
      "Epoch 3/120\n",
      "10000/10000 [==============================] - 2s 200us/step - loss: 1.5582 - acc: 0.3623 - val_loss: 1.4839 - val_acc: 0.4030\n",
      "Epoch 4/120\n",
      "10000/10000 [==============================] - 2s 200us/step - loss: 1.4643 - acc: 0.4249 - val_loss: 1.4112 - val_acc: 0.4200\n",
      "Epoch 5/120\n",
      "10000/10000 [==============================] - 2s 201us/step - loss: 1.3978 - acc: 0.4546 - val_loss: 1.3586 - val_acc: 0.4660\n",
      "Epoch 6/120\n",
      "10000/10000 [==============================] - 2s 198us/step - loss: 1.3681 - acc: 0.4670 - val_loss: 1.3529 - val_acc: 0.4630\n",
      "Epoch 7/120\n",
      "10000/10000 [==============================] - 2s 202us/step - loss: 1.3444 - acc: 0.4829 - val_loss: 1.3211 - val_acc: 0.4740\n",
      "Epoch 8/120\n",
      "10000/10000 [==============================] - 2s 199us/step - loss: 1.3289 - acc: 0.4835 - val_loss: 1.2920 - val_acc: 0.4840\n",
      "Epoch 9/120\n",
      "10000/10000 [==============================] - 2s 199us/step - loss: 1.3148 - acc: 0.4884 - val_loss: 1.2778 - val_acc: 0.4900\n",
      "Epoch 10/120\n",
      "10000/10000 [==============================] - 2s 202us/step - loss: 1.2931 - acc: 0.4986 - val_loss: 1.2646 - val_acc: 0.4960\n",
      "Epoch 11/120\n",
      "10000/10000 [==============================] - 2s 200us/step - loss: 1.2865 - acc: 0.4927 - val_loss: 1.2562 - val_acc: 0.4990\n",
      "Epoch 12/120\n",
      "10000/10000 [==============================] - 2s 207us/step - loss: 1.2764 - acc: 0.5000 - val_loss: 1.2555 - val_acc: 0.4950\n",
      "Epoch 13/120\n",
      "10000/10000 [==============================] - 2s 201us/step - loss: 1.2626 - acc: 0.5004 - val_loss: 1.2401 - val_acc: 0.5140\n",
      "Epoch 14/120\n",
      "10000/10000 [==============================] - 2s 199us/step - loss: 1.2462 - acc: 0.5081 - val_loss: 1.2351 - val_acc: 0.5120\n",
      "Epoch 15/120\n",
      "10000/10000 [==============================] - 2s 205us/step - loss: 1.2431 - acc: 0.5050 - val_loss: 1.2153 - val_acc: 0.5180\n",
      "Epoch 16/120\n",
      "10000/10000 [==============================] - 2s 199us/step - loss: 1.2307 - acc: 0.5106 - val_loss: 1.2271 - val_acc: 0.5150\n",
      "Epoch 17/120\n",
      "10000/10000 [==============================] - 2s 201us/step - loss: 1.2198 - acc: 0.5105 - val_loss: 1.2302 - val_acc: 0.5010\n",
      "Epoch 18/120\n",
      "10000/10000 [==============================] - 2s 198us/step - loss: 1.2157 - acc: 0.5094 - val_loss: 1.2188 - val_acc: 0.5040\n",
      "Epoch 19/120\n",
      "10000/10000 [==============================] - 2s 204us/step - loss: 1.2037 - acc: 0.5136 - val_loss: 1.2005 - val_acc: 0.5230\n",
      "Epoch 20/120\n",
      "10000/10000 [==============================] - 2s 197us/step - loss: 1.2028 - acc: 0.5170 - val_loss: 1.1967 - val_acc: 0.5130\n",
      "Epoch 21/120\n",
      "10000/10000 [==============================] - 2s 199us/step - loss: 1.1885 - acc: 0.5217 - val_loss: 1.1885 - val_acc: 0.5080\n",
      "Epoch 22/120\n",
      "10000/10000 [==============================] - 2s 214us/step - loss: 1.1806 - acc: 0.5196 - val_loss: 1.1982 - val_acc: 0.5180\n",
      "Epoch 23/120\n",
      "10000/10000 [==============================] - 2s 231us/step - loss: 1.1746 - acc: 0.5230 - val_loss: 1.2039 - val_acc: 0.5070\n",
      "Epoch 24/120\n",
      "10000/10000 [==============================] - 2s 219us/step - loss: 1.1684 - acc: 0.5263 - val_loss: 1.1878 - val_acc: 0.5260\n",
      "Epoch 25/120\n",
      "10000/10000 [==============================] - 2s 229us/step - loss: 1.1582 - acc: 0.5322 - val_loss: 1.1839 - val_acc: 0.5020\n",
      "Epoch 26/120\n",
      "10000/10000 [==============================] - 2s 204us/step - loss: 1.1564 - acc: 0.5299 - val_loss: 1.1853 - val_acc: 0.5060\n",
      "Epoch 27/120\n",
      "10000/10000 [==============================] - 2s 209us/step - loss: 1.1529 - acc: 0.5288 - val_loss: 1.1763 - val_acc: 0.5050\n",
      "Epoch 28/120\n",
      "10000/10000 [==============================] - 2s 205us/step - loss: 1.1423 - acc: 0.5301 - val_loss: 1.1781 - val_acc: 0.5270\n",
      "Epoch 29/120\n",
      "10000/10000 [==============================] - 2s 202us/step - loss: 1.1232 - acc: 0.5410 - val_loss: 1.1868 - val_acc: 0.5160\n",
      "Epoch 30/120\n",
      "10000/10000 [==============================] - 2s 201us/step - loss: 1.1298 - acc: 0.5340 - val_loss: 1.1887 - val_acc: 0.5150\n",
      "Epoch 31/120\n",
      "10000/10000 [==============================] - 2s 200us/step - loss: 1.1267 - acc: 0.5408 - val_loss: 1.1771 - val_acc: 0.5120\n",
      "Epoch 32/120\n",
      "10000/10000 [==============================] - 2s 199us/step - loss: 1.1127 - acc: 0.5394 - val_loss: 1.1803 - val_acc: 0.5140\n",
      "Epoch 33/120\n",
      "10000/10000 [==============================] - 2s 199us/step - loss: 1.1010 - acc: 0.5384 - val_loss: 1.1741 - val_acc: 0.5170\n",
      "Epoch 34/120\n",
      "10000/10000 [==============================] - 2s 199us/step - loss: 1.1044 - acc: 0.5448 - val_loss: 1.1667 - val_acc: 0.5220\n",
      "Epoch 35/120\n",
      "10000/10000 [==============================] - 2s 204us/step - loss: 1.0908 - acc: 0.5444 - val_loss: 1.1858 - val_acc: 0.5160\n",
      "Epoch 36/120\n",
      "10000/10000 [==============================] - 2s 202us/step - loss: 1.0925 - acc: 0.5455 - val_loss: 1.1885 - val_acc: 0.5120\n",
      "Epoch 37/120\n",
      "10000/10000 [==============================] - 2s 201us/step - loss: 1.0756 - acc: 0.5532 - val_loss: 1.1916 - val_acc: 0.5080\n",
      "Epoch 38/120\n",
      "10000/10000 [==============================] - 2s 199us/step - loss: 1.0711 - acc: 0.5547 - val_loss: 1.1658 - val_acc: 0.5300\n",
      "Epoch 39/120\n",
      "10000/10000 [==============================] - 2s 202us/step - loss: 1.0655 - acc: 0.5542 - val_loss: 1.1640 - val_acc: 0.5140\n",
      "Epoch 40/120\n",
      "10000/10000 [==============================] - 2s 203us/step - loss: 1.0458 - acc: 0.5716 - val_loss: 1.1642 - val_acc: 0.5250\n",
      "Epoch 41/120\n",
      "10000/10000 [==============================] - 2s 200us/step - loss: 1.0299 - acc: 0.5817 - val_loss: 1.1517 - val_acc: 0.5390\n",
      "Epoch 42/120\n",
      "10000/10000 [==============================] - 2s 197us/step - loss: 0.9911 - acc: 0.6061 - val_loss: 1.1030 - val_acc: 0.5790\n",
      "Epoch 43/120\n",
      "10000/10000 [==============================] - 2s 200us/step - loss: 0.9212 - acc: 0.6464 - val_loss: 0.9862 - val_acc: 0.6430\n",
      "Epoch 44/120\n",
      "10000/10000 [==============================] - 2s 197us/step - loss: 0.7999 - acc: 0.7180 - val_loss: 0.8469 - val_acc: 0.7030\n",
      "Epoch 45/120\n",
      "10000/10000 [==============================] - 2s 203us/step - loss: 0.6874 - acc: 0.7620 - val_loss: 0.7703 - val_acc: 0.7260\n",
      "Epoch 46/120\n",
      "10000/10000 [==============================] - 2s 199us/step - loss: 0.6209 - acc: 0.7848 - val_loss: 0.6916 - val_acc: 0.7420\n",
      "Epoch 47/120\n",
      "10000/10000 [==============================] - 2s 200us/step - loss: 0.5870 - acc: 0.7950 - val_loss: 0.6404 - val_acc: 0.7570\n",
      "Epoch 48/120\n",
      "10000/10000 [==============================] - 2s 211us/step - loss: 0.5390 - acc: 0.8077 - val_loss: 0.5934 - val_acc: 0.7800\n",
      "Epoch 49/120\n",
      "10000/10000 [==============================] - 2s 203us/step - loss: 0.5017 - acc: 0.8224 - val_loss: 0.5239 - val_acc: 0.8050\n",
      "Epoch 50/120\n",
      "10000/10000 [==============================] - 2s 202us/step - loss: 0.4467 - acc: 0.8443 - val_loss: 0.4881 - val_acc: 0.8240\n",
      "Epoch 51/120\n",
      "10000/10000 [==============================] - 2s 202us/step - loss: 0.4119 - acc: 0.8547 - val_loss: 0.4627 - val_acc: 0.8270\n",
      "Epoch 52/120\n",
      "10000/10000 [==============================] - 2s 209us/step - loss: 0.3803 - acc: 0.8628 - val_loss: 0.4357 - val_acc: 0.8450\n",
      "Epoch 53/120\n",
      "10000/10000 [==============================] - 2s 212us/step - loss: 0.3556 - acc: 0.8727 - val_loss: 0.4461 - val_acc: 0.8380\n",
      "Epoch 54/120\n",
      "10000/10000 [==============================] - 2s 207us/step - loss: 0.3424 - acc: 0.8771 - val_loss: 0.4096 - val_acc: 0.8520\n",
      "Epoch 55/120\n",
      "10000/10000 [==============================] - 2s 200us/step - loss: 0.3214 - acc: 0.8864 - val_loss: 0.3866 - val_acc: 0.8590\n",
      "Epoch 56/120\n",
      "10000/10000 [==============================] - 2s 201us/step - loss: 0.3089 - acc: 0.8891 - val_loss: 0.3693 - val_acc: 0.8610\n",
      "Epoch 57/120\n",
      "10000/10000 [==============================] - 2s 214us/step - loss: 0.2872 - acc: 0.8941 - val_loss: 0.3524 - val_acc: 0.8770\n",
      "Epoch 58/120\n",
      "10000/10000 [==============================] - 2s 205us/step - loss: 0.2811 - acc: 0.8991 - val_loss: 0.3539 - val_acc: 0.8730\n",
      "Epoch 59/120\n",
      "10000/10000 [==============================] - 2s 199us/step - loss: 0.2603 - acc: 0.9053 - val_loss: 0.3385 - val_acc: 0.8740\n",
      "Epoch 60/120\n",
      "10000/10000 [==============================] - 2s 200us/step - loss: 0.2582 - acc: 0.9060 - val_loss: 0.3420 - val_acc: 0.8810\n",
      "Epoch 61/120\n",
      "10000/10000 [==============================] - 2s 202us/step - loss: 0.2472 - acc: 0.9107 - val_loss: 0.3296 - val_acc: 0.8920\n",
      "Epoch 62/120\n",
      "10000/10000 [==============================] - 2s 201us/step - loss: 0.2238 - acc: 0.9175 - val_loss: 0.3021 - val_acc: 0.8930\n",
      "Epoch 63/120\n",
      "10000/10000 [==============================] - 2s 198us/step - loss: 0.2144 - acc: 0.9217 - val_loss: 0.3057 - val_acc: 0.8920\n",
      "Epoch 64/120\n",
      "10000/10000 [==============================] - 2s 199us/step - loss: 0.2067 - acc: 0.9254 - val_loss: 0.3061 - val_acc: 0.8940\n",
      "Epoch 65/120\n",
      "10000/10000 [==============================] - 2s 200us/step - loss: 0.1945 - acc: 0.9300 - val_loss: 0.2798 - val_acc: 0.8970\n",
      "Epoch 66/120\n",
      "10000/10000 [==============================] - 2s 199us/step - loss: 0.1862 - acc: 0.9325 - val_loss: 0.2824 - val_acc: 0.9000\n",
      "Epoch 67/120\n",
      "10000/10000 [==============================] - 2s 199us/step - loss: 0.1724 - acc: 0.9396 - val_loss: 0.2670 - val_acc: 0.9080\n",
      "Epoch 68/120\n",
      "10000/10000 [==============================] - 2s 200us/step - loss: 0.1706 - acc: 0.9375 - val_loss: 0.2558 - val_acc: 0.9110\n",
      "Epoch 69/120\n",
      "10000/10000 [==============================] - 2s 201us/step - loss: 0.1585 - acc: 0.9425 - val_loss: 0.2448 - val_acc: 0.9100\n",
      "Epoch 70/120\n",
      "10000/10000 [==============================] - 2s 200us/step - loss: 0.1448 - acc: 0.9496 - val_loss: 0.2349 - val_acc: 0.9210\n",
      "Epoch 71/120\n",
      "10000/10000 [==============================] - 2s 200us/step - loss: 0.1346 - acc: 0.9529 - val_loss: 0.2320 - val_acc: 0.9190\n",
      "Epoch 72/120\n",
      "10000/10000 [==============================] - 2s 200us/step - loss: 0.1270 - acc: 0.9552 - val_loss: 0.2238 - val_acc: 0.9250\n",
      "Epoch 73/120\n",
      "10000/10000 [==============================] - 2s 201us/step - loss: 0.1236 - acc: 0.9573 - val_loss: 0.2333 - val_acc: 0.9200\n",
      "Epoch 74/120\n",
      "10000/10000 [==============================] - 2s 199us/step - loss: 0.1228 - acc: 0.9545 - val_loss: 0.2214 - val_acc: 0.9260\n",
      "Epoch 75/120\n",
      "10000/10000 [==============================] - 2s 204us/step - loss: 0.1215 - acc: 0.9572 - val_loss: 0.2255 - val_acc: 0.9290\n",
      "Epoch 76/120\n",
      "10000/10000 [==============================] - 2s 208us/step - loss: 0.1107 - acc: 0.9616 - val_loss: 0.2343 - val_acc: 0.9260\n",
      "Epoch 77/120\n",
      "10000/10000 [==============================] - 2s 201us/step - loss: 0.1035 - acc: 0.9637 - val_loss: 0.2159 - val_acc: 0.9290\n",
      "Epoch 78/120\n",
      "10000/10000 [==============================] - 2s 199us/step - loss: 0.1057 - acc: 0.9642 - val_loss: 0.2078 - val_acc: 0.9280\n",
      "Epoch 79/120\n",
      "10000/10000 [==============================] - 2s 201us/step - loss: 0.0962 - acc: 0.9667 - val_loss: 0.2037 - val_acc: 0.9380\n",
      "Epoch 80/120\n",
      "10000/10000 [==============================] - 2s 202us/step - loss: 0.0974 - acc: 0.9643 - val_loss: 0.2169 - val_acc: 0.9330\n",
      "Epoch 81/120\n",
      "10000/10000 [==============================] - 2s 200us/step - loss: 0.0921 - acc: 0.9680 - val_loss: 0.1956 - val_acc: 0.9360\n",
      "Epoch 82/120\n",
      "10000/10000 [==============================] - 2s 208us/step - loss: 0.0829 - acc: 0.9725 - val_loss: 0.2189 - val_acc: 0.9340\n",
      "Epoch 83/120\n",
      "10000/10000 [==============================] - 2s 200us/step - loss: 0.0783 - acc: 0.9720 - val_loss: 0.2121 - val_acc: 0.9330\n",
      "Epoch 84/120\n",
      "10000/10000 [==============================] - 2s 200us/step - loss: 0.0840 - acc: 0.9705 - val_loss: 0.1893 - val_acc: 0.9420\n",
      "Epoch 85/120\n",
      "10000/10000 [==============================] - 2s 205us/step - loss: 0.0784 - acc: 0.9715 - val_loss: 0.2037 - val_acc: 0.9380\n",
      "Epoch 86/120\n",
      "10000/10000 [==============================] - 2s 203us/step - loss: 0.0760 - acc: 0.9725 - val_loss: 0.1934 - val_acc: 0.9410\n",
      "Epoch 87/120\n",
      "10000/10000 [==============================] - 2s 208us/step - loss: 0.0699 - acc: 0.9748 - val_loss: 0.1907 - val_acc: 0.9410\n",
      "Epoch 88/120\n",
      "10000/10000 [==============================] - 2s 199us/step - loss: 0.0671 - acc: 0.9777 - val_loss: 0.2258 - val_acc: 0.9320\n",
      "Epoch 89/120\n",
      "10000/10000 [==============================] - 2s 199us/step - loss: 0.0741 - acc: 0.9717 - val_loss: 0.1839 - val_acc: 0.9430\n",
      "Epoch 90/120\n",
      "10000/10000 [==============================] - 2s 201us/step - loss: 0.0666 - acc: 0.9770 - val_loss: 0.1896 - val_acc: 0.9390\n",
      "Epoch 91/120\n",
      "10000/10000 [==============================] - 2s 202us/step - loss: 0.0663 - acc: 0.9777 - val_loss: 0.1884 - val_acc: 0.9440\n",
      "Epoch 92/120\n",
      "10000/10000 [==============================] - 2s 206us/step - loss: 0.0617 - acc: 0.9785 - val_loss: 0.1946 - val_acc: 0.9380\n",
      "Epoch 93/120\n",
      "10000/10000 [==============================] - 2s 203us/step - loss: 0.0549 - acc: 0.9820 - val_loss: 0.2001 - val_acc: 0.9390\n",
      "Epoch 94/120\n",
      "10000/10000 [==============================] - 2s 202us/step - loss: 0.0573 - acc: 0.9809 - val_loss: 0.2020 - val_acc: 0.9390\n",
      "Epoch 95/120\n",
      "10000/10000 [==============================] - 2s 209us/step - loss: 0.0620 - acc: 0.9768 - val_loss: 0.2253 - val_acc: 0.9410\n",
      "Epoch 96/120\n",
      "10000/10000 [==============================] - 2s 202us/step - loss: 0.0539 - acc: 0.9806 - val_loss: 0.2233 - val_acc: 0.9410\n",
      "Epoch 97/120\n",
      "10000/10000 [==============================] - 2s 201us/step - loss: 0.0546 - acc: 0.9821 - val_loss: 0.1919 - val_acc: 0.9480\n",
      "Epoch 98/120\n",
      "10000/10000 [==============================] - 2s 204us/step - loss: 0.0516 - acc: 0.9814 - val_loss: 0.2070 - val_acc: 0.9410\n",
      "Epoch 99/120\n",
      "10000/10000 [==============================] - 2s 203us/step - loss: 0.0523 - acc: 0.9821 - val_loss: 0.1702 - val_acc: 0.9430\n",
      "Epoch 100/120\n",
      "10000/10000 [==============================] - 2s 206us/step - loss: 0.0555 - acc: 0.9804 - val_loss: 0.1804 - val_acc: 0.9440\n",
      "Epoch 101/120\n",
      "10000/10000 [==============================] - 2s 205us/step - loss: 0.0452 - acc: 0.9855 - val_loss: 0.1972 - val_acc: 0.9410\n",
      "Epoch 102/120\n",
      "10000/10000 [==============================] - 2s 204us/step - loss: 0.0467 - acc: 0.9841 - val_loss: 0.1790 - val_acc: 0.9450\n",
      "Epoch 103/120\n",
      "10000/10000 [==============================] - 2s 224us/step - loss: 0.0490 - acc: 0.9827 - val_loss: 0.1752 - val_acc: 0.9440\n",
      "Epoch 104/120\n",
      "10000/10000 [==============================] - 2s 215us/step - loss: 0.0426 - acc: 0.9862 - val_loss: 0.2081 - val_acc: 0.9480\n",
      "Epoch 105/120\n",
      "10000/10000 [==============================] - 2s 201us/step - loss: 0.0463 - acc: 0.9832 - val_loss: 0.1756 - val_acc: 0.9460\n",
      "Epoch 106/120\n",
      "10000/10000 [==============================] - 2s 200us/step - loss: 0.0433 - acc: 0.9850 - val_loss: 0.1787 - val_acc: 0.9470\n",
      "Epoch 107/120\n",
      "10000/10000 [==============================] - 2s 205us/step - loss: 0.0442 - acc: 0.9830 - val_loss: 0.1973 - val_acc: 0.9420\n",
      "Epoch 108/120\n",
      "10000/10000 [==============================] - 2s 206us/step - loss: 0.0393 - acc: 0.9860 - val_loss: 0.1719 - val_acc: 0.9480\n",
      "Epoch 109/120\n",
      "10000/10000 [==============================] - 2s 229us/step - loss: 0.0453 - acc: 0.9854 - val_loss: 0.2578 - val_acc: 0.9310\n",
      "Epoch 110/120\n",
      "10000/10000 [==============================] - 2s 206us/step - loss: 0.0473 - acc: 0.9846 - val_loss: 0.1626 - val_acc: 0.9500\n",
      "Epoch 111/120\n",
      "10000/10000 [==============================] - 2s 206us/step - loss: 0.0403 - acc: 0.9869 - val_loss: 0.1801 - val_acc: 0.9490\n",
      "Epoch 112/120\n",
      "10000/10000 [==============================] - 2s 209us/step - loss: 0.0302 - acc: 0.9899 - val_loss: 0.1827 - val_acc: 0.9470\n",
      "Epoch 113/120\n",
      "10000/10000 [==============================] - 2s 206us/step - loss: 0.0409 - acc: 0.9862 - val_loss: 0.1610 - val_acc: 0.9560\n",
      "Epoch 114/120\n",
      "10000/10000 [==============================] - 2s 202us/step - loss: 0.0385 - acc: 0.9869 - val_loss: 0.1759 - val_acc: 0.9460\n",
      "Epoch 115/120\n",
      "10000/10000 [==============================] - 2s 206us/step - loss: 0.0340 - acc: 0.9890 - val_loss: 0.1695 - val_acc: 0.9480\n",
      "Epoch 116/120\n",
      "10000/10000 [==============================] - 2s 205us/step - loss: 0.0349 - acc: 0.9877 - val_loss: 0.1489 - val_acc: 0.9530\n",
      "Epoch 117/120\n",
      "10000/10000 [==============================] - 2s 198us/step - loss: 0.0315 - acc: 0.9899 - val_loss: 0.1648 - val_acc: 0.9550\n",
      "Epoch 118/120\n",
      "10000/10000 [==============================] - 2s 198us/step - loss: 0.0327 - acc: 0.9886 - val_loss: 0.2135 - val_acc: 0.9430\n",
      "Epoch 119/120\n",
      "10000/10000 [==============================] - 2s 200us/step - loss: 0.0421 - acc: 0.9860 - val_loss: 0.1848 - val_acc: 0.9510\n",
      "Epoch 120/120\n",
      "10000/10000 [==============================] - 2s 206us/step - loss: 0.0301 - acc: 0.9893 - val_loss: 0.1786 - val_acc: 0.9530\n"
     ]
    },
    {
     "data": {
      "text/plain": [
       "<keras.callbacks.History at 0x7fb401345b70>"
      ]
     },
     "execution_count": 31,
     "metadata": {},
     "output_type": "execute_result"
    }
   ],
   "source": [
    "model = Model([story_sequence, question], answer)\n",
    "model.compile(optimizer='adam', loss='sparse_categorical_crossentropy',\n",
    "              metrics=['accuracy'])\n",
    "\n",
    "# train\n",
    "model.fit([inputs_train, queries_train], answers_train,\n",
    "          batch_size=32,\n",
    "          epochs=120,\n",
    "          validation_data=([inputs_test, queries_test], answers_test))"
   ]
  },
  {
   "cell_type": "markdown",
   "metadata": {},
   "source": [
    "# Predict"
   ]
  },
  {
   "cell_type": "code",
   "execution_count": 65,
   "metadata": {},
   "outputs": [
    {
     "name": "stdout",
     "output_type": "stream",
     "text": [
      "['John', 'travelled', 'to', 'the', 'office', '.', 'Mary', 'journeyed', 'to', 'the', 'kitchen', '.']\n",
      "['Where', 'is', 'Mary', '?']\n",
      "Correct answer:  kitchen\n",
      "prediction:  kitchen\n"
     ]
    }
   ],
   "source": [
    "idx = 10\n",
    "story, question, answer = test_stories[idx]\n",
    "print(story)\n",
    "print(question)\n",
    "print('Correct answer: ', answer)\n",
    "story_array = np.expand_dims(inputs_test[idx], axis=0)\n",
    "question_array = np.expand_dims(queries_test[idx], axis=0)\n",
    "prediction_idx = np.argmax(model.predict([story_array, question_array]))\n",
    "prediction = vocab[prediction_idx-1]\n",
    "print('prediction: ' , prediction)"
   ]
  },
  {
   "cell_type": "code",
   "execution_count": 66,
   "metadata": {},
   "outputs": [
    {
     "name": "stdout",
     "output_type": "stream",
     "text": [
      "['Mary', 'travelled', 'to', 'the', 'garden', '.', 'Mary', 'moved', 'to', 'the', 'bedroom', '.']\n",
      "['Where', 'is', 'Mary', '?']\n",
      "Correct answer:  bedroom\n",
      "prediction:  bedroom\n"
     ]
    }
   ],
   "source": [
    "idx = 100\n",
    "story, question, answer = test_stories[idx]\n",
    "print(story)\n",
    "print(question)\n",
    "print('Correct answer: ', answer)\n",
    "story_array = np.expand_dims(inputs_test[idx], axis=0)\n",
    "question_array = np.expand_dims(queries_test[idx], axis=0)\n",
    "prediction_idx = np.argmax(model.predict([story_array, question_array]))\n",
    "prediction = vocab[prediction_idx-1]\n",
    "print('prediction: ' , prediction)"
   ]
  }
 ],
 "metadata": {
  "kernelspec": {
   "display_name": "gym",
   "language": "python",
   "name": "gym"
  },
  "language_info": {
   "codemirror_mode": {
    "name": "ipython",
    "version": 3
   },
   "file_extension": ".py",
   "mimetype": "text/x-python",
   "name": "python",
   "nbconvert_exporter": "python",
   "pygments_lexer": "ipython3",
   "version": "3.6.5"
  }
 },
 "nbformat": 4,
 "nbformat_minor": 2
}
