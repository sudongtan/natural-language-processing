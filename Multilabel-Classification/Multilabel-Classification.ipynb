{
 "cells": [
  {
   "cell_type": "markdown",
   "metadata": {},
   "source": [
    "# Predict tags on StackOverflow with linear models\n",
    "starter code https://github.com/hse-aml/natural-language-processing/blob/master/week1/week1-MultilabelClassification.ipynb"
   ]
  },
  {
   "cell_type": "code",
   "execution_count": 4,
   "metadata": {
    "scrolled": true
   },
   "outputs": [
    {
     "name": "stdout",
     "output_type": "stream",
     "text": [
      "[nltk_data] Downloading package stopwords to /home/nbuser/nltk_data...\n",
      "[nltk_data]   Unzipping corpora/stopwords.zip.\n"
     ]
    }
   ],
   "source": [
    "import nltk\n",
    "nltk.download('stopwords')\n",
    "from nltk.corpus import stopwords"
   ]
  },
  {
   "cell_type": "code",
   "execution_count": 12,
   "metadata": {},
   "outputs": [],
   "source": [
    "from ast import literal_eval\n",
    "import pandas as pd\n",
    "import numpy as np\n",
    "import re"
   ]
  },
  {
   "cell_type": "markdown",
   "metadata": {},
   "source": [
    "# Data preparation"
   ]
  },
  {
   "cell_type": "code",
   "execution_count": 8,
   "metadata": {},
   "outputs": [],
   "source": [
    "def read_data(filename):\n",
    "    data = pd.read_csv(filename, sep='\\t')\n",
    "    data['tags'] = data['tags'].apply(literal_eval)\n",
    "    return data"
   ]
  },
  {
   "cell_type": "code",
   "execution_count": 9,
   "metadata": {},
   "outputs": [],
   "source": [
    "train = read_data('data/train.tsv')\n",
    "validation = read_data('data/validation.tsv')\n",
    "test = pd.read_csv('data/test.tsv', sep='\\t')"
   ]
  },
  {
   "cell_type": "code",
   "execution_count": 10,
   "metadata": {},
   "outputs": [
    {
     "data": {
      "text/html": [
       "<div>\n",
       "<style>\n",
       "    .dataframe thead tr:only-child th {\n",
       "        text-align: right;\n",
       "    }\n",
       "\n",
       "    .dataframe thead th {\n",
       "        text-align: left;\n",
       "    }\n",
       "\n",
       "    .dataframe tbody tr th {\n",
       "        vertical-align: top;\n",
       "    }\n",
       "</style>\n",
       "<table border=\"1\" class=\"dataframe\">\n",
       "  <thead>\n",
       "    <tr style=\"text-align: right;\">\n",
       "      <th></th>\n",
       "      <th>title</th>\n",
       "      <th>tags</th>\n",
       "    </tr>\n",
       "  </thead>\n",
       "  <tbody>\n",
       "    <tr>\n",
       "      <th>0</th>\n",
       "      <td>How to draw a stacked dotplot in R?</td>\n",
       "      <td>[r]</td>\n",
       "    </tr>\n",
       "    <tr>\n",
       "      <th>1</th>\n",
       "      <td>mysql select all records where a datetime fiel...</td>\n",
       "      <td>[php, mysql]</td>\n",
       "    </tr>\n",
       "    <tr>\n",
       "      <th>2</th>\n",
       "      <td>How to terminate windows phone 8.1 app</td>\n",
       "      <td>[c#]</td>\n",
       "    </tr>\n",
       "    <tr>\n",
       "      <th>3</th>\n",
       "      <td>get current time in a specific country via jquery</td>\n",
       "      <td>[javascript, jquery]</td>\n",
       "    </tr>\n",
       "    <tr>\n",
       "      <th>4</th>\n",
       "      <td>Configuring Tomcat to Use SSL</td>\n",
       "      <td>[java]</td>\n",
       "    </tr>\n",
       "  </tbody>\n",
       "</table>\n",
       "</div>"
      ],
      "text/plain": [
       "                                               title                  tags\n",
       "0                How to draw a stacked dotplot in R?                   [r]\n",
       "1  mysql select all records where a datetime fiel...          [php, mysql]\n",
       "2             How to terminate windows phone 8.1 app                  [c#]\n",
       "3  get current time in a specific country via jquery  [javascript, jquery]\n",
       "4                      Configuring Tomcat to Use SSL                [java]"
      ]
     },
     "execution_count": 10,
     "metadata": {},
     "output_type": "execute_result"
    }
   ],
   "source": [
    "train.head()"
   ]
  },
  {
   "cell_type": "code",
   "execution_count": 78,
   "metadata": {},
   "outputs": [],
   "source": [
    "X_train, y_train = train['title'].values, train['tags'].values\n",
    "X_val, y_val = validation['title'].values, validation['tags'].values\n",
    "X_test = test['title'].values"
   ]
  },
  {
   "cell_type": "markdown",
   "metadata": {},
   "source": [
    "# Text preparation"
   ]
  },
  {
   "cell_type": "code",
   "execution_count": 22,
   "metadata": {},
   "outputs": [],
   "source": [
    "REPLACE_BY_SPACE_RE = re.compile('[/(){}\\[\\]\\|@,;]')\n",
    "BAD_SYMBOLS_RE = re.compile('[^0-9a-z #+_]')\n",
    "STOPWORDS = set(stopwords.words('english'))\n",
    "\n",
    "def text_prepare(text):\n",
    "    \"\"\"\n",
    "        text: a string\n",
    "        return: modified initial string\n",
    "    \"\"\"\n",
    "    text = text.lower()# lowercase text    \n",
    "    text = REPLACE_BY_SPACE_RE.sub(' ', text) # replace REPLACE_BY_SPACE_RE symbols by space in text\n",
    "    text = BAD_SYMBOLS_RE.sub('', text)# delete symbols which are in BAD_SYMBOLS_RE from text\n",
    "    text = ' '.join(word for word in text.split() if word not in STOPWORDS)# delete stopwords from text\n",
    "    return text"
   ]
  },
  {
   "cell_type": "code",
   "execution_count": 24,
   "metadata": {},
   "outputs": [],
   "source": [
    "def test_text_prepare():\n",
    "    examples = [\"SQL Server - any equivalent of Excel's CHOOSE function?\",\n",
    "                \"How to free c++ memory vector<int> * arr?\"]\n",
    "    answers = [\"sql server equivalent excels choose function\", \n",
    "               \"free c++ memory vectorint arr\"]\n",
    "    for ex, ans in zip(examples, answers):\n",
    "        if text_prepare(ex) != ans:\n",
    "            return \"Wrong answer for the case: '%s'\" % ex\n",
    "    return 'Basic tests are passed.'"
   ]
  },
  {
   "cell_type": "code",
   "execution_count": 26,
   "metadata": {},
   "outputs": [
    {
     "name": "stdout",
     "output_type": "stream",
     "text": [
      "Basic tests are passed.\n"
     ]
    }
   ],
   "source": [
    "print((test_text_prepare()))"
   ]
  },
  {
   "cell_type": "code",
   "execution_count": 27,
   "metadata": {},
   "outputs": [],
   "source": [
    "prepared_questions  = []\n",
    "for line in open('data/text_prepare_tests.tsv', encoding='utf-8'):\n",
    "    line = text_prepare(line.strip())\n",
    "    prepared_questions.append(line)\n",
    "text_prepare_results = '\\n'.join(prepared_questions)"
   ]
  },
  {
   "cell_type": "code",
   "execution_count": 29,
   "metadata": {},
   "outputs": [
    {
     "name": "stdout",
     "output_type": "stream",
     "text": [
      "sqlite php readonly\n",
      "creating multiple textboxes dynamically\n",
      "self one prefer javascript\n",
      "save php date string mysql database timestamp\n",
      "fill dropdownlist data xml file aspnet application\n",
      "programmatically trigger jqueryui draggables drag event\n",
      "get value method argument via reflection java\n",
      "knockout mapingfromjs observablearray json object data gets lost\n",
      "facebook connect localhost weird stuff\n",
      "fullcalendar prev next click\n",
      "syntaxerror unexpected token\n",
      "effective way float double comparison\n",
      "gem install rails fails dns error\n",
      "listshuttle component richfaces getting updated\n",
      "laravel responsedownload show images laravel\n",
      "wrong rspec test\n",
      "calendar display using java swing\n",
      "python selenium import regular firefox profile addons\n",
      "random number 2 variables values\n",
      "altering http responses firefox extension\n",
      "start session python web application\n",
      "align radio buttons horizontally django forms\n",
      "count number rows sqlite database\n",
      "wordpress wp_rewrite rules\n",
      "removing sheet excel 2005 using php\n",
      "php fatal error function name must string\n",
      "avoid used another process using filecopy c#\n",
      "php calling class method class name variable string\n",
      "vector iterator dereferencable loop\n",
      "mysql search statement multiple filters\n",
      "php bluetooth rfcomm library\n",
      "alternatives javas scanner class console input\n",
      "php displaying errors\n",
      "check whether two matrixes identical opencv\n",
      "open external links open new tab apart domain\n",
      "registrygetvalue always return null\n",
      "installing eventmachine windows 8\n",
      "calculate throughput\n",
      "want seperate integer part fractional part float number python\n",
      "properly manage tomcat web apps inside eclipse\n",
      "trouble setting headers qnetworkrequest cant understand\n",
      "extend request class laravel 5\n",
      "difference matrix asmatrix r\n",
      "install clickonce without running\n",
      "jquery selected option value contains string\n",
      "error deploying tomcat tomcatmanager status code404 reasonphrasenot found\n",
      "pretty print distances ios\n",
      "error expected unqualifiedid const line 8\n",
      "mocking reflection based calls\n",
      "set blank excel cell using poi\n",
      "xcode code coverage\n",
      "creating interactive bar chart google analytics data\n",
      "mathh compilation error expected declaration specifiers\n",
      "disadvantage object composition class inheritance\n",
      "commongodbmongotimeoutexception timed 10000 ms waiting connect\n",
      "python pandas skip columns reading file\n",
      "unable get property 1 undefined null reference\n",
      "pydeveclipse python configured\n",
      "python socket server receive image\n",
      "event handle\n",
      "ld_library_path ignored android sometimes\n",
      "coin toss javascript html\n",
      "efficient way concatenate strings\n",
      "javalangnullpointerexception trying read files\n",
      "assigning lambda actiont\n",
      "split string list keeping split pattern\n",
      "compile c code windows 64\n",
      "yii condition multiple ors operator precedence\n",
      "show sql queries run rails console\n",
      "change viewstate value dynamically\n",
      "best practice list polymorphic objects c++\n",
      "javascript get values selected checkboxes table\n",
      "python convert hex ascii string raw internal binary string\n",
      "magento multi language rewrites seo fix\n",
      "ul form sending _post\n",
      "showing alert box using php javascript\n",
      "google maps api v3 looping adding polylines map\n",
      "php remove characters last occurrence character string\n",
      "use qt creator visual c++ compiler windows\n",
      "apache spark python lambda\n",
      "adjusting camera visible threejs shape\n",
      "python imaging library show windows\n",
      "open close website using default browser python\n",
      "php security nonce unique form key problem\n",
      "spring batch simplejobrepository example working\n",
      "getting oledbexception value given one required parameters\n",
      "php session deleted page reload\n",
      "vaadin multiple browser windows tabs\n",
      "frustrating uiwebview delegate crash issue\n",
      "load factor capacity hash table\n",
      "format double string show decimal digits necessary\n",
      "round java\n",
      "using usb printer c# without driver api\n",
      "unbalanced parenthesis error regex\n",
      "reading excel file c# causes oledbexception thrown\n",
      "want compare dtrows 1 itemarray 1 tostring 1 2 3 4 work show error\n",
      "javaniocharsetmalformedinputexception input length 1\n",
      "join two unrelated tables using jpa entitymanager\n",
      "ensuring threadsafety static methods c#\n",
      "loop focus input fields inside form\n"
     ]
    }
   ],
   "source": [
    "print(text_prepare_results)"
   ]
  },
  {
   "cell_type": "code",
   "execution_count": 77,
   "metadata": {},
   "outputs": [],
   "source": [
    "X_train = [text_prepare (x) for x in X_train]\n",
    "X_val = [text_prepare(x) for x in X_val]\n",
    "X_test = [text_prepare(x) for x in X_test]"
   ]
  },
  {
   "cell_type": "code",
   "execution_count": 33,
   "metadata": {},
   "outputs": [
    {
     "name": "stdout",
     "output_type": "stream",
     "text": [
      "['draw stacked dotplot r', 'mysql select records datetime field less specified value', 'terminate windows phone 81 app', 'get current time specific country via jquery', 'configuring tomcat use ssl']\n"
     ]
    }
   ],
   "source": [
    "print(X_train[:5])"
   ]
  },
  {
   "cell_type": "markdown",
   "metadata": {},
   "source": [
    "## Words tags count"
   ]
  },
  {
   "cell_type": "code",
   "execution_count": 79,
   "metadata": {},
   "outputs": [],
   "source": [
    "from collections import defaultdict\n",
    "tags_counts = defaultdict(int)\n",
    "words_counts = defaultdict(int)\n",
    "\n",
    "for tags in y_train:\n",
    "    for tag in tags:\n",
    "        tags_counts[tag] += 1\n",
    "for text in X_train:\n",
    "    for word in text.split():\n",
    "        words_counts[word] += 1"
   ]
  },
  {
   "cell_type": "code",
   "execution_count": 37,
   "metadata": {},
   "outputs": [],
   "source": [
    "sorted_tags_counts = sorted(tags_counts.items(), key=lambda x:x[1], reverse=True)\n",
    "sorted_words_counts = sorted(words_counts.items(), key=lambda x:x[1], reverse=True)"
   ]
  },
  {
   "cell_type": "code",
   "execution_count": 38,
   "metadata": {},
   "outputs": [
    {
     "name": "stdout",
     "output_type": "stream",
     "text": [
      "[('javascript', 19078), ('c#', 19077), ('java', 18661)]\n",
      "[('using', 8278), ('php', 5614), ('java', 5501)]\n"
     ]
    }
   ],
   "source": [
    "print(sorted_tags_counts[:3])\n",
    "print(sorted_words_counts[:3])"
   ]
  },
  {
   "cell_type": "markdown",
   "metadata": {},
   "source": [
    "## Bag of words"
   ]
  },
  {
   "cell_type": "code",
   "execution_count": 45,
   "metadata": {},
   "outputs": [],
   "source": [
    "from scipy import sparse as sp_sparse"
   ]
  },
  {
   "cell_type": "code",
   "execution_count": 61,
   "metadata": {},
   "outputs": [
    {
     "name": "stdout",
     "output_type": "stream",
     "text": [
      "['using', 'php', 'java']\n",
      "0 1 2\n"
     ]
    }
   ],
   "source": [
    "DICT_SIZE = 5000\n",
    "sorted_words = sorted(words_counts.keys(), key=lambda x:words_counts[x], reverse=True)[:DICT_SIZE]\n",
    "WORD2IDX = {word: i for i, word in enumerate(sorted_words)}\n",
    "print(sorted_words[:3])\n",
    "print(WORD2IDX['using'], WORD2IDX['php'], WORD2IDX['java'])"
   ]
  },
  {
   "cell_type": "code",
   "execution_count": 62,
   "metadata": {},
   "outputs": [],
   "source": [
    "def my_bag_of_words(text, word2idx=WORD2IDX, dict_size=DICT_SIZE):\n",
    "    text_vector = np.zeros(dict_size)\n",
    "    for word in text.split():\n",
    "        if word in word2idx:\n",
    "            idx = word2idx[word]\n",
    "            text_vector[idx] += 1\n",
    "    return text_vector"
   ]
  },
  {
   "cell_type": "code",
   "execution_count": 65,
   "metadata": {},
   "outputs": [
    {
     "name": "stdout",
     "output_type": "stream",
     "text": [
      "X_train shape  (100000, 5000)\n",
      "X_val shape  (30000, 5000)\n",
      "X_test shape  (20000, 5000)\n"
     ]
    }
   ],
   "source": [
    "# slkearn algorithms can work only with csr matrix.\n",
    "X_train_mybag = sp_sparse.vstack([sp_sparse.csr_matrix(my_bag_of_words(text)) for text in X_train])\n",
    "X_val_mybag = sp_sparse.vstack([sp_sparse.csr_matrix(my_bag_of_words(text)) for text in X_val])\n",
    "X_test_mybag = sp_sparse.vstack([sp_sparse.csr_matrix(my_bag_of_words(text)) for text in X_test])\n",
    "print('X_train shape ', X_train_mybag.shape)\n",
    "print('X_val shape ', X_val_mybag.shape)\n",
    "print('X_test shape ', X_test_mybag.shape)"
   ]
  },
  {
   "cell_type": "markdown",
   "metadata": {},
   "source": [
    "## TF-IDF"
   ]
  },
  {
   "cell_type": "code",
   "execution_count": 39,
   "metadata": {},
   "outputs": [],
   "source": [
    "from sklearn.feature_extraction.text import TfidfVectorizer"
   ]
  },
  {
   "cell_type": "code",
   "execution_count": 109,
   "metadata": {},
   "outputs": [],
   "source": [
    "def tfidf_features(X_train, X_val, X_test):\n",
    "    vectorizer = TfidfVectorizer(min_df=5, max_df=0.9, ngram_range=(1, 2), token_pattern='(\\S+)')\n",
    "    X_train_tf = vectorizer.fit_transform(X_train)\n",
    "    X_val_tf = vectorizer.transform(X_val)\n",
    "    X_test_tf = vectorizer.transform(X_test)\n",
    "    return X_train_tf, X_val_tf, X_test_tf, vectorizer.vocabulary_"
   ]
  },
  {
   "cell_type": "code",
   "execution_count": 110,
   "metadata": {},
   "outputs": [],
   "source": [
    "X_train_tf, X_val_tf, X_test_tf, tf_voc = tfidf_features(X_train, X_val, X_test)"
   ]
  },
  {
   "cell_type": "code",
   "execution_count": 42,
   "metadata": {},
   "outputs": [],
   "source": [
    "tf_idx = {i: word for word, i in tf_voc.items()}"
   ]
  },
  {
   "cell_type": "code",
   "execution_count": 44,
   "metadata": {},
   "outputs": [
    {
     "name": "stdout",
     "output_type": "stream",
     "text": [
      "451 c++\n"
     ]
    }
   ],
   "source": [
    "print(tf_voc['c++'], tf_idx[451])"
   ]
  },
  {
   "cell_type": "code",
   "execution_count": 112,
   "metadata": {},
   "outputs": [
    {
     "data": {
      "text/plain": [
       "<100000x26875 sparse matrix of type '<class 'numpy.float64'>'\n",
       "\twith 1143626 stored elements in Compressed Sparse Row format>"
      ]
     },
     "execution_count": 112,
     "metadata": {},
     "output_type": "execute_result"
    }
   ],
   "source": [
    "X_train_tf"
   ]
  },
  {
   "cell_type": "code",
   "execution_count": 111,
   "metadata": {},
   "outputs": [
    {
     "data": {
      "text/plain": [
       "<30000x26875 sparse matrix of type '<class 'numpy.float64'>'\n",
       "\twith 335689 stored elements in Compressed Sparse Row format>"
      ]
     },
     "execution_count": 111,
     "metadata": {},
     "output_type": "execute_result"
    }
   ],
   "source": [
    "X_val_tf"
   ]
  },
  {
   "cell_type": "markdown",
   "metadata": {},
   "source": [
    "# Multilabel classifier"
   ]
  },
  {
   "cell_type": "code",
   "execution_count": 68,
   "metadata": {},
   "outputs": [],
   "source": [
    "from sklearn.multiclass import OneVsRestClassifier\n",
    "from sklearn.linear_model import LogisticRegression, RidgeClassifier\n",
    "from sklearn.svm import SVC\n",
    "from sklearn.preprocessing import MultiLabelBinarizer"
   ]
  },
  {
   "cell_type": "code",
   "execution_count": 80,
   "metadata": {},
   "outputs": [],
   "source": [
    "mlb = MultiLabelBinarizer(classes=list(tags_counts.keys()))\n",
    "y_train = mlb.fit_transform(y_train)\n",
    "y_val = mlb.fit_transform(y_val)"
   ]
  },
  {
   "cell_type": "code",
   "execution_count": 83,
   "metadata": {},
   "outputs": [],
   "source": [
    "def train_classifier(X_train, y_train):\n",
    "    clf1 = OneVsRestClassifier(LogisticRegression())\n",
    "    clf2 = OneVsRestClassifier(RidgeClassifier(normalize=True))\n",
    "    #clf3 = OneVsRestClassifier(SVC(max_iter=1000))\n",
    "    \n",
    "    clf1.fit(X_train, y_train)\n",
    "    clf2.fit(X_train, y_train)\n",
    "    #clf3.fit(X_train, y_train)\n",
    "    \n",
    "    return clf1, clf2#, clf3"
   ]
  },
  {
   "cell_type": "code",
   "execution_count": null,
   "metadata": {},
   "outputs": [],
   "source": [
    "clf_lr_bag, clf_rid_bag = train_classifier(X_train_mybag, y_train)"
   ]
  },
  {
   "cell_type": "code",
   "execution_count": 85,
   "metadata": {},
   "outputs": [],
   "source": [
    "y_val_pred_lr_bag = clf_lr_bag.predict(X_val_mybag)\n",
    "y_val_scores_lr_bag = clf_lr_bag.decision_function(X_val_mybag)\n",
    "y_val_pred_rig_bag = clf_rid_bag.predict(X_val_mybag)\n",
    "y_val_scores_rig_bag = clf_rid_bag.decision_function(X_val_mybag)"
   ]
  },
  {
   "cell_type": "code",
   "execution_count": 115,
   "metadata": {},
   "outputs": [],
   "source": [
    "clf_lr_tf, clf_rid_tf = train_classifier(X_train_tf, y_train)"
   ]
  },
  {
   "cell_type": "code",
   "execution_count": 116,
   "metadata": {},
   "outputs": [],
   "source": [
    "y_val_pred_lr_tf = clf_lr_tf.predict(X_val_tf)\n",
    "y_val_scores_lr_tf = clf_lr_tf.decision_function(X_val_tf)\n",
    "y_val_pred_rig_tf = clf_rid_tf.predict(X_val_tf)\n",
    "y_val_scores_rig_tf = clf_rid_tf.decision_function(X_val_tf)"
   ]
  },
  {
   "cell_type": "markdown",
   "metadata": {},
   "source": [
    "# Evaluation"
   ]
  },
  {
   "cell_type": "code",
   "execution_count": 93,
   "metadata": {},
   "outputs": [],
   "source": [
    "from sklearn.metrics import accuracy_score\n",
    "from sklearn.metrics import f1_score\n",
    "from sklearn.metrics import roc_auc_score \n",
    "from sklearn.metrics import average_precision_score\n",
    "from sklearn.metrics import recall_score"
   ]
  },
  {
   "cell_type": "code",
   "execution_count": 97,
   "metadata": {},
   "outputs": [],
   "source": [
    "def print_evaluation_scores(y_val, predicted):\n",
    "    print('accuracy: ', accuracy_score(y_val, predicted))\n",
    "    #print('recall: ', recall_score(y_val, predicted))\n",
    "    print('f1: ', f1_score(y_val, predicted, average='weighted'))\n",
    "    print('average precision: ', average_precision_score(y_val, predicted))"
   ]
  },
  {
   "cell_type": "code",
   "execution_count": 117,
   "metadata": {},
   "outputs": [
    {
     "name": "stdout",
     "output_type": "stream",
     "text": [
      "bag of words Logistic regression\n",
      "accuracy:  0.358\n",
      "f1:  0.6486950381244107\n",
      "average precision:  0.34458812912520126\n",
      "\n",
      "bag of words Ridge regression\n",
      "accuracy:  0.0251\n",
      "f1:  0.4915224575665367\n",
      "average precision:  0.1872312471750414\n",
      "\n",
      "tfidf Logistic regression\n",
      "accuracy:  0.2859333333333333\n"
     ]
    },
    {
     "name": "stderr",
     "output_type": "stream",
     "text": [
      "/home/nbuser/anaconda3_501/lib/python3.6/site-packages/sklearn/metrics/classification.py:1135: UndefinedMetricWarning: F-score is ill-defined and being set to 0.0 in labels with no predicted samples.\n",
      "  'precision', 'predicted', average, warn_for)\n"
     ]
    },
    {
     "name": "stdout",
     "output_type": "stream",
     "text": [
      "f1:  0.556296777033464\n",
      "average precision:  0.24803337193846897\n",
      "\n",
      "tfidf Ridge regression\n",
      "accuracy:  0.2722333333333333\n",
      "f1:  0.6562375844646402\n",
      "average precision:  0.36123654179448983\n",
      "\n"
     ]
    }
   ],
   "source": [
    "words = ['bag of words', 'tfidf']\n",
    "models = ['Logistic regression', 'Ridge regression']\n",
    "results = [[y_val_pred_lr_bag, y_val_pred_rig_bag], [y_val_pred_lr_tf, y_val_pred_rig_tf]]\n",
    "\n",
    "for i, word in enumerate(words):\n",
    "    for j, model in enumerate(models):\n",
    "        predicted = results[i][j]\n",
    "        print(word, model)\n",
    "        print_evaluation_scores(y_val, predicted)\n",
    "        print()\n",
    "    "
   ]
  },
  {
   "cell_type": "code",
   "execution_count": 118,
   "metadata": {},
   "outputs": [
    {
     "name": "stdout",
     "output_type": "stream",
     "text": [
      "Title:\tC# properties and how to access their values from another function/class?\n",
      "True labels:\tc#,class,.net\n",
      "Predicted labels:\tc#\n",
      "\n",
      "\n",
      "Title:\tPHP equivalent of JavaScript getTime()\n",
      "True labels:\tphp,javascript,datetime\n",
      "Predicted labels:\tphp,javascript\n",
      "\n",
      "\n",
      "Title:\tAjax data - Uncaught ReferenceError: date is not defined\n",
      "True labels:\tjavascript,jquery,ajax\n",
      "Predicted labels:\tjavascript,jquery,ajax\n",
      "\n",
      "\n"
     ]
    }
   ],
   "source": [
    "y_val_pred_inversed = mlb.inverse_transform(y_val_pred_lr_bag)\n",
    "y_val_inversed = mlb.inverse_transform(y_val)\n",
    "for i in [10, 20, 30]:\n",
    "    print('Title:\\t{}\\nTrue labels:\\t{}\\nPredicted labels:\\t{}\\n\\n'.format(\n",
    "        X_val[i],\n",
    "        ','.join(y_val_inversed[i]),\n",
    "        ','.join(y_val_pred_inversed[i])\n",
    "    ))"
   ]
  },
  {
   "cell_type": "code",
   "execution_count": null,
   "metadata": {},
   "outputs": [],
   "source": []
  }
 ],
 "metadata": {
  "kernelspec": {
   "display_name": "Python 3.6",
   "language": "python",
   "name": "python36"
  },
  "language_info": {
   "codemirror_mode": {
    "name": "ipython",
    "version": 3
   },
   "file_extension": ".py",
   "mimetype": "text/x-python",
   "name": "python",
   "nbconvert_exporter": "python",
   "pygments_lexer": "ipython3",
   "version": "3.6.3"
  }
 },
 "nbformat": 4,
 "nbformat_minor": 2
}
